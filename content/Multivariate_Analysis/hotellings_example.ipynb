{
 "cells": [
  {
   "cell_type": "markdown",
   "metadata": {},
   "source": [
    "\n",
    "Here's an example of the Hotelling's MV T-test with responses and hypothesized means. Hotelling's MV T-test allows us to use a multivariate analogue of the t-test, comparing the observed values with some hypothesized mean. In this, similar to the univariate case, we assume that the population is Multivariate Normally Distributed, that is:\n",
    "\n",
    "$$\n",
    "\\vec{x} \\sim MVN(\\vec{\\mu}, \\Sigma)\n",
    "$$\n",
    "where $\\Sigma$ is a square, symmetric matrix. \n",
    "\n",
    "This test is implemented below. \n"
   ]
  },
  {
   "cell_type": "code",
   "execution_count": 4,
   "metadata": {
    "ExecuteTime": {
     "end_time": "2019-05-02T01:24:35.004783Z",
     "start_time": "2019-05-02T01:24:34.942Z"
    }
   },
   "outputs": [],
   "source": [
    "## Hotelling's t-test for multivariate normal.\n",
    "\n",
    "prob_null <- function(data, hypothesized_mean_vector) {\n",
    "  n = nrow(data)\n",
    "  p = ncol(data)\n",
    "  tsqobs <- hotellings_tsq_statistic(data, hypothesized_mean_vector)\n",
    "  f_dist <- hotellings_f_statistic_trans(tsqobs, n, p)\n",
    "\n",
    "  return(1 - pf(f_dist['f'], f_dist['df1'], f_dist['df2']))\n",
    "}\n",
    "\n",
    "hotellings_f_statistic_trans <- function(tsqobs, n, p) {\n",
    "  f <- ((n - p)/(p*(n - 1))) * tsqobs\n",
    "  df1 <- p\n",
    "  df2 <- n - p\n",
    "  return(c(f = f,df1 = df1,df2 = df2))\n",
    "}\n",
    "\n",
    "hotellings_tsq_statistic <- function(data, hypothesized_mean_vector) {\n",
    "  sample_mean <- apply(data,2,mean)\n",
    "  sample_covar <- cov(data)\n",
    "\n",
    "  S_inv <- solve(sample_covar)\n",
    "  n <- nrow(data)\n",
    "  mu <- hypothesized_mean_vector\n",
    "\n",
    "  tsqobs <- n*t(sample_mean - mu) %*% S_inv %*% (sample_mean - mu)\n",
    "  return(tsqobs)\n",
    "}\n",
    "\n",
    "find_discriminant <- function(data, hypothesized_mean_vector) {\n",
    "  sample_mean <- apply(data,2,mean)\n",
    "  sample_covar <- cov(data)\n",
    "\n",
    "  discriminant <- solve(sample_covar) %*% (sample_mean - hypothesized_mean_vector)\n",
    "  return(discriminant)\n",
    "}\n"
   ]
  },
  {
   "cell_type": "code",
   "execution_count": 5,
   "metadata": {
    "ExecuteTime": {
     "end_time": "2019-05-02T01:24:36.124816Z",
     "start_time": "2019-05-02T01:24:35.695Z"
    },
    "autoscroll": false
   },
   "outputs": [
    {
     "data": {
      "text/html": [
       "<table>\n",
       "<tbody>\n",
       "\t<tr><td>51</td><td>36</td><td>50</td><td>35</td><td>42</td></tr>\n",
       "\t<tr><td>27</td><td>20</td><td>26</td><td>17</td><td>27</td></tr>\n",
       "\t<tr><td>37</td><td>22</td><td>41</td><td>37</td><td>30</td></tr>\n",
       "\t<tr><td>42</td><td>36</td><td>32</td><td>34</td><td>27</td></tr>\n",
       "\t<tr><td>27</td><td>18</td><td>33</td><td>14</td><td>29</td></tr>\n",
       "\t<tr><td>43</td><td>32</td><td>43</td><td>35</td><td>40</td></tr>\n",
       "\t<tr><td>41</td><td>22</td><td>36</td><td>25</td><td>38</td></tr>\n",
       "\t<tr><td>38</td><td>21</td><td>31</td><td>20</td><td>16</td></tr>\n",
       "\t<tr><td>36</td><td>23</td><td>27</td><td>25</td><td>28</td></tr>\n",
       "\t<tr><td>26</td><td>31</td><td>31</td><td>32</td><td>36</td></tr>\n",
       "\t<tr><td>29</td><td>20</td><td>25</td><td>26</td><td>25</td></tr>\n",
       "</tbody>\n",
       "</table>\n"
      ],
      "text/latex": [
       "\\begin{tabular}{lllll}\n",
       "\t 51 & 36 & 50 & 35 & 42\\\\\n",
       "\t 27 & 20 & 26 & 17 & 27\\\\\n",
       "\t 37 & 22 & 41 & 37 & 30\\\\\n",
       "\t 42 & 36 & 32 & 34 & 27\\\\\n",
       "\t 27 & 18 & 33 & 14 & 29\\\\\n",
       "\t 43 & 32 & 43 & 35 & 40\\\\\n",
       "\t 41 & 22 & 36 & 25 & 38\\\\\n",
       "\t 38 & 21 & 31 & 20 & 16\\\\\n",
       "\t 36 & 23 & 27 & 25 & 28\\\\\n",
       "\t 26 & 31 & 31 & 32 & 36\\\\\n",
       "\t 29 & 20 & 25 & 26 & 25\\\\\n",
       "\\end{tabular}\n"
      ],
      "text/markdown": [
       "\n",
       "| 51 | 36 | 50 | 35 | 42 | \n",
       "| 27 | 20 | 26 | 17 | 27 | \n",
       "| 37 | 22 | 41 | 37 | 30 | \n",
       "| 42 | 36 | 32 | 34 | 27 | \n",
       "| 27 | 18 | 33 | 14 | 29 | \n",
       "| 43 | 32 | 43 | 35 | 40 | \n",
       "| 41 | 22 | 36 | 25 | 38 | \n",
       "| 38 | 21 | 31 | 20 | 16 | \n",
       "| 36 | 23 | 27 | 25 | 28 | \n",
       "| 26 | 31 | 31 | 32 | 36 | \n",
       "| 29 | 20 | 25 | 26 | 25 | \n",
       "\n",
       "\n"
      ],
      "text/plain": [
       "      [,1] [,2] [,3] [,4] [,5]\n",
       " [1,] 51   36   50   35   42  \n",
       " [2,] 27   20   26   17   27  \n",
       " [3,] 37   22   41   37   30  \n",
       " [4,] 42   36   32   34   27  \n",
       " [5,] 27   18   33   14   29  \n",
       " [6,] 43   32   43   35   40  \n",
       " [7,] 41   22   36   25   38  \n",
       " [8,] 38   21   31   20   16  \n",
       " [9,] 36   23   27   25   28  \n",
       "[10,] 26   31   31   32   36  \n",
       "[11,] 29   20   25   26   25  "
      ]
     },
     "metadata": {},
     "output_type": "display_data"
    },
    {
     "data": {
      "text/html": [
       "<strong>f:</strong> 0.00669952528414886"
      ],
      "text/latex": [
       "\\textbf{f:} 0.00669952528414886"
      ],
      "text/markdown": [
       "**f:** 0.00669952528414886"
      ],
      "text/plain": [
       "          f \n",
       "0.006699525 "
      ]
     },
     "metadata": {},
     "output_type": "display_data"
    },
    {
     "data": {
      "text/html": [
       "<table>\n",
       "<tbody>\n",
       "\t<tr><td> 0.5298893</td></tr>\n",
       "\t<tr><td>-0.2659554</td></tr>\n",
       "\t<tr><td>-0.6946549</td></tr>\n",
       "\t<tr><td> 0.1483265</td></tr>\n",
       "\t<tr><td> 0.3206404</td></tr>\n",
       "</tbody>\n",
       "</table>\n"
      ],
      "text/latex": [
       "\\begin{tabular}{l}\n",
       "\t  0.5298893\\\\\n",
       "\t -0.2659554\\\\\n",
       "\t -0.6946549\\\\\n",
       "\t  0.1483265\\\\\n",
       "\t  0.3206404\\\\\n",
       "\\end{tabular}\n"
      ],
      "text/markdown": [
       "\n",
       "|  0.5298893 | \n",
       "| -0.2659554 | \n",
       "| -0.6946549 | \n",
       "|  0.1483265 | \n",
       "|  0.3206404 | \n",
       "\n",
       "\n"
      ],
      "text/plain": [
       "     [,1]      \n",
       "[1,]  0.5298893\n",
       "[2,] -0.2659554\n",
       "[3,] -0.6946549\n",
       "[4,]  0.1483265\n",
       "[5,]  0.3206404"
      ]
     },
     "metadata": {},
     "output_type": "display_data"
    }
   ],
   "source": [
    "response_data <- matrix(c(51,27,37,42,27,\n",
    "                          43,41,38,36,26,\n",
    "                          29,36,20,22,36,\n",
    "                          18,32,22,21,23,\n",
    "                          31,20,50,26,41,\n",
    "                          32,33,43,36,31,\n",
    "                          27,31,25,35,17,\n",
    "                          37,34,14,35,25,\n",
    "                          20,25,32,26,42,\n",
    "                          27,30,27,29,40,\n",
    "                          38,16,28,36,25),ncol = 5)\n",
    "hypothesized_mean <- c(30,25,40,25,30)\n",
    "response_data\n",
    "\n",
    "prob_null(response_data, hypothesized_mean)\n",
    "find_discriminant(response_data, hypothesized_mean)"
   ]
  },
  {
   "cell_type": "markdown",
   "metadata": {},
   "source": [
    "\n",
    "From this, because the p value is less than .05, we reject the hypothesis that this data comes from a normally distributed population with mean vector: \n",
    "$$\n",
    "\\vec{\\mu} = \\begin{bmatrix} 30 \\\\ 25 \\\\ 40 \\\\ 25 \\\\ 30 \\end{bmatrix}\n",
    "$$\n",
    "\n",
    "The discriminant indicates that the third variable contributes most to the difference between the hypothesized and sample mean.\n"
   ]
  },
  {
   "cell_type": "code",
   "execution_count": 6,
   "metadata": {
    "ExecuteTime": {
     "end_time": "2019-05-02T01:24:37.851392Z",
     "start_time": "2019-05-02T01:24:37.636Z"
    },
    "autoscroll": false
   },
   "outputs": [
    {
     "data": {
      "text/html": [
       "<strong>f:</strong> 0.684532555387565"
      ],
      "text/latex": [
       "\\textbf{f:} 0.684532555387565"
      ],
      "text/markdown": [
       "**f:** 0.684532555387565"
      ],
      "text/plain": [
       "        f \n",
       "0.6845326 "
      ]
     },
     "metadata": {},
     "output_type": "display_data"
    },
    {
     "data": {
      "text/html": [
       "<table>\n",
       "<tbody>\n",
       "\t<tr><td>-0.03199313</td></tr>\n",
       "\t<tr><td>-0.07721548</td></tr>\n",
       "\t<tr><td> 0.09417471</td></tr>\n",
       "\t<tr><td> 0.09898568</td></tr>\n",
       "\t<tr><td>-0.13109563</td></tr>\n",
       "</tbody>\n",
       "</table>\n"
      ],
      "text/latex": [
       "\\begin{tabular}{l}\n",
       "\t -0.03199313\\\\\n",
       "\t -0.07721548\\\\\n",
       "\t  0.09417471\\\\\n",
       "\t  0.09898568\\\\\n",
       "\t -0.13109563\\\\\n",
       "\\end{tabular}\n"
      ],
      "text/markdown": [
       "\n",
       "| -0.03199313 | \n",
       "| -0.07721548 | \n",
       "|  0.09417471 | \n",
       "|  0.09898568 | \n",
       "| -0.13109563 | \n",
       "\n",
       "\n"
      ],
      "text/plain": [
       "     [,1]       \n",
       "[1,] -0.03199313\n",
       "[2,] -0.07721548\n",
       "[3,]  0.09417471\n",
       "[4,]  0.09898568\n",
       "[5,] -0.13109563"
      ]
     },
     "metadata": {},
     "output_type": "display_data"
    }
   ],
   "source": [
    "require(MASS)\n",
    "ex <- mvrnorm(11, mu = hypothesized_mean, Sigma = cov(response_data))\n",
    "prob_null(ex, hypothesized_mean)\n",
    "find_discriminant(ex, hypothesized_mean)"
   ]
  },
  {
   "cell_type": "markdown",
   "metadata": {},
   "source": [
    "Now we see that a multivariate normal distribution sampled with mean equal to the hypothesized mean and Sigma equal to the covariance of the observed data provides unsignificant results -- as expected.\n",
    "\n",
    "Now, let's see the t-test for the equality of means, assuming an equal covariance matrix and sample sizes.\n"
   ]
  },
  {
   "cell_type": "code",
   "execution_count": 7,
   "metadata": {
    "ExecuteTime": {
     "end_time": "2019-05-02T01:24:38.857627Z",
     "start_time": "2019-05-02T01:24:38.771Z"
    },
    "autoscroll": false
   },
   "outputs": [
    {
     "data": {
      "text/html": [
       "<strong>f:</strong> 0.00818771246890448"
      ],
      "text/latex": [
       "\\textbf{f:} 0.00818771246890448"
      ],
      "text/markdown": [
       "**f:** 0.00818771246890448"
      ],
      "text/plain": [
       "          f \n",
       "0.008187712 "
      ]
     },
     "metadata": {},
     "output_type": "display_data"
    },
    {
     "data": {
      "text/html": [
       "<table>\n",
       "<tbody>\n",
       "\t<tr><td> 0.35457592</td></tr>\n",
       "\t<tr><td>-0.09934875</td></tr>\n",
       "\t<tr><td>-0.70226005</td></tr>\n",
       "\t<tr><td> 0.01886289</td></tr>\n",
       "\t<tr><td> 0.33948696</td></tr>\n",
       "</tbody>\n",
       "</table>\n"
      ],
      "text/latex": [
       "\\begin{tabular}{l}\n",
       "\t  0.35457592\\\\\n",
       "\t -0.09934875\\\\\n",
       "\t -0.70226005\\\\\n",
       "\t  0.01886289\\\\\n",
       "\t  0.33948696\\\\\n",
       "\\end{tabular}\n"
      ],
      "text/markdown": [
       "\n",
       "|  0.35457592 | \n",
       "| -0.09934875 | \n",
       "| -0.70226005 | \n",
       "|  0.01886289 | \n",
       "|  0.33948696 | \n",
       "\n",
       "\n"
      ],
      "text/plain": [
       "     [,1]       \n",
       "[1,]  0.35457592\n",
       "[2,] -0.09934875\n",
       "[3,] -0.70226005\n",
       "[4,]  0.01886289\n",
       "[5,]  0.33948696"
      ]
     },
     "metadata": {},
     "output_type": "display_data"
    }
   ],
   "source": [
    "differences <- response_data - ex\n",
    "prob_null(differences, rep(0,5))\n",
    "find_discriminant(differences, rep(0,5))"
   ]
  },
  {
   "cell_type": "markdown",
   "metadata": {},
   "source": [
    "We see the expected result:  that the two samples produce significant results -- meaning that there is evidence to reject the null hypothesis that they come from a distribution with the same mean vector.\n"
   ]
  }
 ],
 "metadata": {
  "Rmd_header": {
   "author": "Sean Ammirati",
   "date": "August 5, 2018",
   "output": "html_document",
   "title": "Hotelling's T-Test Example"
  },
  "kernelspec": {
   "display_name": "R",
   "language": "R",
   "name": "ir"
  },
  "language_info": {
   "codemirror_mode": "r",
   "file_extension": ".r",
   "mimetype": "text/x-r-source",
   "name": "R",
   "pygments_lexer": "r",
   "version": "3.4.3"
  },
  "latex_envs": {
   "LaTeX_envs_menu_present": true,
   "autoclose": false,
   "autocomplete": true,
   "bibliofile": "biblio.bib",
   "cite_by": "apalike",
   "current_citInitial": 1,
   "eqLabelWithNumbers": true,
   "eqNumInitial": 1,
   "hotkeys": {
    "equation": "Ctrl-E",
    "itemize": "Ctrl-I"
   },
   "labels_anchors": false,
   "latex_user_defs": false,
   "report_style_numbering": false,
   "user_envs_cfg": false
  },
  "toc": {
   "base_numbering": 1,
   "nav_menu": {},
   "number_sections": true,
   "sideBar": true,
   "skip_h1_title": false,
   "title_cell": "Table of Contents",
   "title_sidebar": "Contents",
   "toc_cell": false,
   "toc_position": {},
   "toc_section_display": true,
   "toc_window_display": false
  },
  "varInspector": {
   "cols": {
    "lenName": 16,
    "lenType": 16,
    "lenVar": 40
   },
   "kernels_config": {
    "python": {
     "delete_cmd_postfix": "",
     "delete_cmd_prefix": "del ",
     "library": "var_list.py",
     "varRefreshCmd": "print(var_dic_list())"
    },
    "r": {
     "delete_cmd_postfix": ") ",
     "delete_cmd_prefix": "rm(",
     "library": "var_list.r",
     "varRefreshCmd": "cat(var_dic_list()) "
    }
   },
   "types_to_exclude": [
    "module",
    "function",
    "builtin_function_or_method",
    "instance",
    "_Feature"
   ],
   "window_display": false
  }
 },
 "nbformat": 4,
 "nbformat_minor": 1
}
