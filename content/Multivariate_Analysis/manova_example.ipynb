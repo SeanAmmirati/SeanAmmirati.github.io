{
 "cells": [
  {
   "cell_type": "markdown",
   "metadata": {},
   "source": [
    "Here we will be  doing MANOVA for the dataset below. We want to know if the means of tear, gloss and opacity are statistically\n",
    "significantly different from one another depending on the rate groups -- Low or High.\n",
    "\n",
    "Data from manova example: Krzanowski (1998, p. 381)\n",
    "\n"
   ]
  },
  {
   "cell_type": "markdown",
   "metadata": {},
   "source": [
    "In evaluating MANOVA (Multivariate Analysis of Variance), we can consider a few different approaches to estimating the \"size\" of deviance from the between (the matrix $H$) and the within (the matrix $E$) distances. Each matrix represents something similar to the univariate ANOVA example, but we are now comparing the differences in matrices rather than in vectors. This makes the task more difficult, as we cannot simply use the F-distribution as a comparison of squared differences -- our results will also look like matrices, not single numbers. \n",
    "\n",
    "There have been four proposed solutions to this problem, named after Wilks, Roys, Pillai and Hotelling respectively. Each of these attempts to quantify the magnitude of the between matrix divided by the within matrix using the determinant or the eigenvalues of the product of these two matrices. If this value is greater than a certain threshold, we conclude that the groups are different, via a similar intuition with ANOVA. However, unlike ANOVA, no such simple distribution exists to describe the two error matrices. \n",
    "\n",
    "We also implement here the F approximations for each of these statistics to quantify our results."
   ]
  },
  {
   "cell_type": "code",
   "execution_count": 2,
   "metadata": {},
   "outputs": [],
   "source": [
    "return_MANOVA_results <- function(dataset, group_column) {\n",
    "  F_dists <- find_approx_F_dist(dataset, group_column)\n",
    "  results <- 1 - sapply(X = F_dists[c('Wilks','Roy','Pillai','Hotelling')], FUN = function(obj) pf(obj[1], obj[2], obj[3]))\n",
    "  results <- rbind(p_f = results, statistic = F_dists$untransformed[1:4],\n",
    "                   data.frame(F_dists[c('Wilks','Roy','Pillai','Hotelling')],row.names = c('F Approx.', 'df1', 'df2')))\n",
    "  return(results)\n",
    "}\n",
    "\n",
    "find_approx_F_dist <- function(dataset, group_column) {\n",
    "  # dataset (dataframe): dataset with groupings as integer values. \n",
    "  # group_column (string): string name of column with group entries, integer values. \n",
    "  MANOVA_stat_lst <- find_MANOVA_statistics(dataset,group_column)\n",
    "  \n",
    "  Vh <- MANOVA_stat_lst['n_groups'] - 1\n",
    "  p <- ncol(dataset) - 1\n",
    "  Ve <- nrow(dataset) - Vh - 1\n",
    "  s <- min(Vh, p) \n",
    "  \n",
    "  Wilks_approx_F <- FforWilks(Lambda = MANOVA_stat_lst['Wilks'], Vh = Vh, p = p, Ve = Ve)\n",
    "  Roy_approx_F <- FBoundforRoy(R = MANOVA_stat_lst['Roys'], Vh = Vh, p = p, Ve = Ve)\n",
    "  Pillai_approx_F <- FapproxforPillai(P = MANOVA_stat_lst['Pillai'], Vh = Vh, p = p, Ve = Ve, s = s)\n",
    "  Hotelling_approx_F <- FapproxforHotelling(H = MANOVA_stat_lst['Hotelling'], Vh = Vh, p = p, Ve = Ve)\n",
    "\n",
    "  return(list(untransformed = MANOVA_stat_lst, Wilks = Wilks_approx_F,Roy = Roy_approx_F, Pillai = Pillai_approx_F, Hotelling = Hotelling_approx_F))\n",
    "}\n",
    "\n",
    "find_MANOVA_statistics <- function(dataset, group_column){\n",
    "  # dataset (dataframe): dataset with groupings as integer values. \n",
    "  # group_column (string): string name of column with group entries, integer values. \n",
    "  \n",
    "  grouped_ds_lst <- lapply(1:length(unique(dataset[,group_column])), function(i) dataset[dataset[,group_column] == i,!names(dataset) %in% c(group_column)])\n",
    "  H <- Reduce(\"+\", lapply(grouped_ds_lst,function(g) hypothesis_iv(g, dataset)))\n",
    "  E <- Reduce(\"+\", lapply(grouped_ds_lst,function(g) error_iv(g, dataset)))\n",
    "  \n",
    "  Einv <- solve(E)\n",
    "  HoverE <- H %*% Einv\n",
    "  eigen_det <- eigen(HoverE)\n",
    "  ev <- eigen_det$values\n",
    "  \n",
    "  Wilks <- 1/(prod(1 + ev))\n",
    "  Roys <- (max(ev))/(1 + max(ev))\n",
    "  Pillai <- sum(ev/(1 + ev))\n",
    "  Hotelling <- sum(ev)\n",
    "  \n",
    "  return(c(Wilks = Wilks,Roys = Roys,Pillai = Pillai,Hotelling = Hotelling, n_groups = length(grouped_ds_lst)))\n",
    "}\n",
    "\n",
    "hypothesis_iv <- function(group,dataset) {\n",
    "  A <- sapply(group,mean)\n",
    "  B <- sapply(dataset[, 1:(ncol(dataset) - 1)],mean)\n",
    "  dif <- A - B\n",
    "  return((dif %*% t(dif))*nrow(group))\n",
    "}\n",
    "\n",
    "error_iv <- function(group,dataset) {\n",
    "  A <- sapply(group,mean)\n",
    " \n",
    "  mattimestranspose <- function(A)\n",
    "    return(A %*% t(A))\n",
    "  \n",
    "  mylist <- lapply(1:nrow(group), function(i) mattimestranspose(t(as.matrix(group[i,] - A))))\n",
    "  a1 <- Reduce('+',mylist)\n",
    "  \n",
    "  return(a1)\n",
    "}\n",
    "\n",
    "FforWilks <- function(Lambda, Vh, p, Ve) {\n",
    "  t <- (((p^2)*(Vh^2) - 4)/((p^2) + (Vh^2) - 5))^.5\n",
    "  df1 <- p*Vh\n",
    "  w <- Ve + Vh - ((p + Vh + 1)/2)\n",
    "  df2 <- w*t - (((p*Vh) - 2)/2)\n",
    "  Fapprox <- ((1 - (Lambda^(1/t)))/(Lambda^(1/t)))*(df2/df1)\n",
    "  return(c(Fapprox = Fapprox, df1 = df1, df2 = df2))\n",
    "}\n",
    "\n",
    "FBoundforRoy <- function(R, Vh, p, Ve) {\n",
    "  v1 <- (Ve - p - 1)/2\n",
    "  v2 <- (p - Vh - 1)/2\n",
    "  \n",
    "  return(c(Fapprox = R*v1/v2, df1 = 2*v1 + 2, df2 = 2*v2 + 2))\n",
    "}\n",
    "\n",
    "FapproxforPillai <- function(P, Vh, p, Ve, s) {\n",
    "  N <- (Ve - Vh + s)/2\n",
    "  m <- (abs(Vh - p) - 1)/2\n",
    "  num <- (2*N + s + 1)*P\n",
    "  den <- (2*m + s + 1)*(s - P)\n",
    "  Fapprox <- num/den\n",
    "  df1 <- s*(2*m + s + 1)\n",
    "  df2 <- s*(2*N + s + 1)\n",
    "  return(c(Fapprox = Fapprox, df1 = df1, df2 = df2))\n",
    "}\n",
    "\n",
    "FapproxforHotelling <- function(H, Vh, p, Ve) {\n",
    "  a <- p*Vh\n",
    "  B <- ((Ve + Vh - p - 1)*(Ve - 1))/((Ve - p - 3)*(Ve - p))\n",
    "  b <- 4 + ((a + 2)/(B - 1))\n",
    "  cnum <- a*(b - 2)\n",
    "  cden <- b*(Ve - p + 1)\n",
    "  Fapprox <- (H*cden)/cnum\n",
    "  return(c(Fapprox = Fapprox, df1 = a, df2 = b))\n",
    "}"
   ]
  },
  {
   "cell_type": "code",
   "execution_count": 3,
   "metadata": {
    "autoscroll": false
   },
   "outputs": [
    {
     "data": {
      "text/html": [
       "<table>\n",
       "<thead><tr><th></th><th scope=col>Wilks</th><th scope=col>Roy</th><th scope=col>Pillai</th><th scope=col>Hotelling</th></tr></thead>\n",
       "<tbody>\n",
       "\t<tr><th scope=row>p_f</th><td> 0.002273044</td><td> 0.05409917 </td><td>4.282064e-04</td><td> 0.001220981</td></tr>\n",
       "\t<tr><th scope=row>statistic</th><td> 0.413619230</td><td> 0.58638077 </td><td>5.863808e-01</td><td> 1.417682561</td></tr>\n",
       "\t<tr><th scope=row>F Approx.</th><td> 7.560973658</td><td> 8.20933078 </td><td>9.451217e+00</td><td> 8.641112752</td></tr>\n",
       "\t<tr><th scope=row>df1</th><td> 3.000000000</td><td>16.00000000 </td><td>3.000000e+00</td><td> 3.000000000</td></tr>\n",
       "\t<tr><th scope=row>df2</th><td>16.000000000</td><td> 3.00000000 </td><td>2.000000e+01</td><td>16.000000000</td></tr>\n",
       "</tbody>\n",
       "</table>\n"
      ],
      "text/latex": [
       "\\begin{tabular}{r|llll}\n",
       "  & Wilks & Roy & Pillai & Hotelling\\\\\n",
       "\\hline\n",
       "\tp\\_f &  0.002273044 &  0.05409917  & 4.282064e-04 &  0.001220981\\\\\n",
       "\tstatistic &  0.413619230 &  0.58638077  & 5.863808e-01 &  1.417682561\\\\\n",
       "\tF Approx. &  7.560973658 &  8.20933078  & 9.451217e+00 &  8.641112752\\\\\n",
       "\tdf1 &  3.000000000 & 16.00000000  & 3.000000e+00 &  3.000000000\\\\\n",
       "\tdf2 & 16.000000000 &  3.00000000  & 2.000000e+01 & 16.000000000\\\\\n",
       "\\end{tabular}\n"
      ],
      "text/markdown": [
       "\n",
       "| <!--/--> | Wilks | Roy | Pillai | Hotelling | \n",
       "|---|---|---|---|---|\n",
       "| p_f |  0.002273044 |  0.05409917  | 4.282064e-04 |  0.001220981 | \n",
       "| statistic |  0.413619230 |  0.58638077  | 5.863808e-01 |  1.417682561 | \n",
       "| F Approx. |  7.560973658 |  8.20933078  | 9.451217e+00 |  8.641112752 | \n",
       "| df1 |  3.000000000 | 16.00000000  | 3.000000e+00 |  3.000000000 | \n",
       "| df2 | 16.000000000 |  3.00000000  | 2.000000e+01 | 16.000000000 | \n",
       "\n",
       "\n"
      ],
      "text/plain": [
       "          Wilks        Roy         Pillai       Hotelling   \n",
       "p_f        0.002273044  0.05409917 4.282064e-04  0.001220981\n",
       "statistic  0.413619230  0.58638077 5.863808e-01  1.417682561\n",
       "F Approx.  7.560973658  8.20933078 9.451217e+00  8.641112752\n",
       "df1        3.000000000 16.00000000 3.000000e+00  3.000000000\n",
       "df2       16.000000000  3.00000000 2.000000e+01 16.000000000"
      ]
     },
     "metadata": {},
     "output_type": "display_data"
    }
   ],
   "source": [
    "tear <- c(6.5, 6.2, 5.8, 6.5, 6.5, 6.9, 7.2, 6.9, 6.1, 6.3,\n",
    "          6.7, 6.6, 7.2, 7.1, 6.8, 7.1, 7.0, 7.2, 7.5, 7.6)\n",
    "gloss <- c(9.5, 9.9, 9.6, 9.6, 9.2, 9.1, 10.0, 9.9, 9.5, 9.4,\n",
    "           9.1, 9.3, 8.3, 8.4, 8.5, 9.2, 8.8, 9.7, 10.1, 9.2)\n",
    "opacity <- c(4.4, 6.4, 3.0, 4.1, 0.8, 5.7, 2.0, 3.9, 1.9, 5.7,\n",
    "             2.8, 4.1, 3.8, 1.6, 3.4, 8.4, 5.2, 6.9, 2.7, 1.9)\n",
    "rate     <- gl(2,10, labels = c(\"Low\", \"High\"))\n",
    "\n",
    "Y <- data.frame(cbind(tear,gloss,opacity,rate))\n",
    "\n",
    "return_MANOVA_results(Y, 'rate')"
   ]
  },
  {
   "cell_type": "markdown",
   "metadata": {},
   "source": [
    "We see that all four methods approximately agree that this would be unlikely if the two groups followed the same Multivariate Normal Distribution. "
   ]
  }
 ],
 "metadata": {
  "Rmd_header": {
   "author": "Sean Ammirati",
   "date": "August 5, 2018",
   "output": "html_document",
   "title": "MANOVA Example"
  },
  "kernelspec": {
   "display_name": "R [conda env:r-environment]",
   "language": "R",
   "name": "conda-env-r-environment-r"
  },
  "language_info": {
   "codemirror_mode": "r",
   "file_extension": ".r",
   "mimetype": "text/x-r-source",
   "name": "R",
   "pygments_lexer": "r",
   "version": "3.5.1"
  }
 },
 "nbformat": 4,
 "nbformat_minor": 1
}
