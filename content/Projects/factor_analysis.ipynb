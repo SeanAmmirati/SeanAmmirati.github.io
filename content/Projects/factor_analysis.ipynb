{
 "cells": [
  {
   "cell_type": "markdown",
   "metadata": {},
   "source": [
    "# Introduction"
   ]
  },
  {
   "cell_type": "markdown",
   "metadata": {},
   "source": [
    "*Note: All of the code associated with this project can be found on my GitHub repository located [here](https://github.com/SeanAmmirati/stats-works/blob/master/projects/Factor%20Analysis%20-%20Case%20Study/factor_analysis.R).*\n",
    "\n",
    "What are the core factors of human personality? \n",
    "\n",
    "It's a hard question to answer!\n",
    "\n",
    "Data doesn't give us a direct answer to this question -- we may, using some sort of **model**, be able to determine how individuals are clustered into groups based on their responses to surveys. This is an example of **unsupervised learning**. \n",
    "\n",
    "We can use this information to cluser similar people together, and infer that they have similar personalities based on this. \n",
    "\n",
    "However, what we really want to know when we answer this question may be things that data cannot tell us. For example, what kinds of questions pertain to aggression? Introversion? Reliability? \n",
    "\n",
    "We can determine clusters of similar behaviors -- for instance, the answer to the questions \"Do you enjoy parties?\" and \"Do you have a large social network?\" will likely be **correlated**, so we may believe that these are influenced by some **factor** called extroversion. \n",
    "\n",
    "Most of the time, however, we do not model these explicitly -- we only wish to cluster individuals together, to make predictions of some measure (say, a happiness score), or make inferences about the questions themselves. For instance, people who answered question A and B in a certain way are likely to be similar to others **in their responses to questions.** \n",
    "\n",
    "This distinction is important -- we can speculate that there is some unknown factor involved, but it is not necessarily the case. \n",
    "\n",
    "In clustering algorithms like K-Means, SVD, LDA and Gaussian Mixture Models, we do not concern ourselves with what the actual underlying factors actually are -- we only use them as a way to categorize the data in order to make inferences or to predict another variable of interest.\n",
    "\n",
    "We can see that these approaches are **data-driven**. We assume that the data contains relevant information by which we can group people together. \n",
    "\n",
    "But does this truly answer the question we wish to solve? In most cases, the answer is no, at least not explicitly. \n",
    "\n",
    "**Factor Analysis** attempts to model these underlying constructs explicitly. In this way, it is **hypothesis driven**, i.e., we model for the hypothesis we wish to verify or reject. \n",
    "\n",
    "Hypothesis testing is a common exercise in Statistics, but in this case our hypothesis is quite specific -- we hyptohesize that there are some unknown, unseen, unobservable *factors* underlying the patterns we see. \n",
    "\n",
    "It is for this reason that is particularly controversial -- who is to say that such factors even exist, and if they do, how can we categorize them in abstract terms? This is an open ended question -- but factor analysis can begin to give us a sense of how these factors may interact.  \n",
    "\n",
    "Here's the objective : from our concrete features, we wish to derive information about unknown, and generally unknowable, **latent** variables. \n",
    "\n",
    "Let's dive in!\n",
    "***"
   ]
  },
  {
   "cell_type": "markdown",
   "metadata": {},
   "source": [
    "## Overview"
   ]
  },
  {
   "cell_type": "markdown",
   "metadata": {},
   "source": [
    "Factor analysis is similar to **principal components analysis** in that we are working only with a single group of variables (in this case, the response) and we wish to in some way reduce the number of variables in order to simplify our data. This gives us a sense of what the underlying nature of the data is, and how it is organized. \n",
    "  \n",
    "In factor analysis, we wish to reduce the redundancy of the variables by limiting them to a smaller number of **factors** which can adequately explain the variation in the full set of variables.\n",
    "\n",
    "Factor analysis is considered somewhat controversial by statisticians and is not encouraged by all schools of thought. This is because factor analysis is often difficult to validate in practice, as the number of factors or the interpretations are not always clear from the analysis itself.\n",
    "\n",
    "Although at first glance factor analysis and principal component analysis may seem very similar, there are key differences which separate the two methods. \n",
    "\n",
    "1. In principal component analysis we aim to maximize the **total variance** of the variables in question, but in factor analysis we wish to account for the **covariance between the variables.**  \n",
    "\n",
    "2. While principal components analysis uses linear combinations of the variables themselves, in factor analysis we create a linear combination of **factors**, which are unobserved, supposed latent variables.\n",
    "\n",
    "The factors that we are looking at are often some underlying attributes of the variables that we believe to be \"seperate\" in some way. \n",
    "\n",
    "For instance, let's say there we have students' test scores for different classes: physics, chemistry, statistics, English, history, etc. We may expect that there would be some underlying factors that would affect an individual's ability to perform well in these classes. \n",
    "\n",
    "Perhaps this would be something like quantitative reasoning skills, critical thinking ability, or reading level and skill. We wish to reduce the variables to a smaller subset that can use these factors (which are not observed but can be derived from the data using factor analysis) to simplify our dataset. We would then use factor analysis to determine both the \"correct\" number of factors and the effects these factors have on each of the variables.\n",
    "\n",
    "It is quite easy to see how in practice this could be quite difficult to implement. This contributes to the skepticism of some statisticians to its use in the first place. Often times, the data doesn't easily lend itself to such a simplistic interpretation, and it is unclear what these factors can be and how they should be interpreted."
   ]
  },
  {
   "cell_type": "markdown",
   "metadata": {},
   "source": [
    "***"
   ]
  },
  {
   "cell_type": "markdown",
   "metadata": {},
   "source": [
    "# The Model"
   ]
  },
  {
   "cell_type": "markdown",
   "metadata": {},
   "source": [
    "Our model is constructed as follows: For each observation vector of $p$ variables, we have\n",
    "\n",
    "$$\n",
    "y_1 - \\mu_1 = \\lambda_{1 1}f_1 + \\lambda_{1 2}f_2 + ... + \\lambda_{1 m}f_m + \\epsilon_1 \\\\\n",
    "y_2 - \\mu_2 = \\lambda_{2 1}f_1 + \\lambda_{2 2}f_2 + ... + \\lambda_{2 m}f_m + \\epsilon_2 \\\\\n",
    "... \\\\\n",
    "y_p - \\mu_p = \\lambda_{p 1}f_1 + \\lambda_{p 2}f_2 + ... + \\lambda_{p m}f_m + \\epsilon_p\n",
    "$$\n",
    "\n",
    "On the left side of the equations, $y_1, ..., y_p$ are the variables in the dataset, and $\\mu_1, ..., \\mu_p$ are the corresponding means of these variables. We do this in order to center the variables.\n",
    "\n",
    "On the right side of the equations,  $\\lambda_{i j}$ are the **loadings** for the $ith$ variable and $jth$ factor, $f_1, f_2, ..., f_m$ are the $m$ factors, and $\\epsilon_1, \\epsilon_2, ..., \\epsilon_p$ are the $p$ error terms associated with each variable.\n",
    "\n",
    "Our goal in doing factor analysis is to find some $m << p$ such that the factors specified above are appropriate for the $p$ variables of interest.\n",
    "\n",
    "In doing this, we are defining the original $p$ variables into a linear combination of $m$ factors. The $f$s in the above model are the $m$ factors themselves, while the lambdas are the loadings, which serve as weights for each factor for each of the $p$ variables.\n",
    "\n",
    "While this may seem similar to a more typical **multiple regression model**, there are key differences.\n",
    "\n",
    "Perhaps the most important thing to note here is that the $fs$ are unobserved random variables, not fixed effects like in multiple regression. Factor analysis only represents one observation vector, while multiple regression represents all of the observations simultaneously -- in this way, factor analysis is looking more to *individual* variation as opposed to *aggregate* or population level aggregation.\n",
    "\n",
    "Our model can be written more simply in matrix notation as:\n",
    "\n",
    "$$\n",
    "\\vec{y} - \\vec{\\mu} = \\Lambda\\vec{f} + \\vec{\\epsilon}\n",
    "$$\n",
    "where\n",
    "$$\n",
    "\\vec{y} = \\begin{bmatrix} y_1 \\\\ y_2 \\\\ \\vdots \\\\ y_p \\end{bmatrix} \\\\\n",
    "\\vec{\\mu} = \\begin{bmatrix} \\mu_1 \\\\ \\mu_2 \\\\ \\vdots \\\\ \\mu_p \\end{bmatrix} \\\\\n",
    "\\vec{f} = \\begin{bmatrix} f_1 \\\\ f_2 \\\\ \\vdots \\\\ f_m \\end{bmatrix} \\\\\n",
    "\\vec{\\epsilon} = \\begin{bmatrix} \\epsilon_1 \\\\ \\epsilon_2 \\\\ \\vdots \\\\ \\epsilon_p \\end{bmatrix} \\\\\n",
    "\\Lambda = \\begin{bmatrix} \\lambda_{1 1}  ... \\lambda_{1 m} \\\\\n",
    "                          \\vdots       \\ddots\\vdots         \\\\\n",
    "                          \\lambda_{p 1} ... \\lambda_{p m}\n",
    "          \\end{bmatrix}\n",
    "$$\n",
    "\n",
    "\n",
    "\n",
    "**Assumptions**: In performing factor analysis, we assume that the following holds:\n",
    "\n",
    "1. $\\mathbb{E}[\\vec{f}] = \\vec{0}$\n",
    "\n",
    "2. $\\Sigma_{\\vec{f}} = I_{mxm}$\n",
    "\n",
    "3. $\\mathbb{E}[\\vec{\\epsilon}] = \\vec{0}$\n",
    "\n",
    "4. $\\Sigma_{\\vec{\\epsilon}} = \\Phi_{mxm} \\text{, where } \\Phi{pxp} = \\begin{pmatrix} \\sigma^2_{\\epsilon_1}  & 0 & \\dots & 0 \\\\ 0 & \\sigma^2_{\\epsilon_2}  & \\dots & 0 \\\\ \\vdots & \\vdots & \\ddots & \\vdots \\\\ 0 & 0 & \\dots & \\sigma^2_{\\epsilon_p} \\end{pmatrix}$\n",
    "5. $\\Sigma_{\\vec{f}, \\vec{\\epsilon}} = 0_{mxm}$\n",
    "\n",
    "*Notationally, I mean $\\Sigma_{\\vec{X}}$ to be the square covariance matrix of a vector $\\vec{X}$ with itself, where the $i, j$th element is the covariance of the $i$th entry in $\\vec{X}$  with the $j$th entry. It is therefore a **positive semi-definite symmetric** matrix with variances in the diagonal.*\n",
    "\n",
    "*I mean $\\Sigma_{\\vec{X}, \\vec{Y}}$ to be the covariances of each element in $\\vec{X}$  with each element in $\\vec{Y}$. This is not a square matrix, but relates the covariance of the individual elements of the two vectors.*\n",
    "\n",
    "  These assumptions follow naturally from the model itself. For instance, as $\\mathbb{E}[\\vec{y} - \\vec{\\mu}] = \\vec{0}$, it follows that both episilon and the factors themselves must also have an expected value of zero. We assume that the factors are uncorrelated, as we wish to minimize the number of variables used (so, we wish to have no correlation between the factors themselves.)\n",
    "\n",
    "  The $\\Phi$ matrix shows that there are no covariance between the errors, only a *specific variance* for each error term, meaning the factors account for the correlations amongst the $y$s. This is exactly the goal of factor analysis, so these assumptions are self-checking -- if in recreating the model it is not clear what the factors should be or what number of them there should be, it is saying that these assumptions have not been met.\n",
    "\n",
    "  In achieving our goal in factor analysis of reducing the variables used, we wish to express the covariance of $\\vec{y}$ in terms of the loadings $\\Lambda$ and the variances of the errors, $Phi$ using some number of factors $m$ which is less than the original number of variables $p.$\n",
    "\n",
    "  We can show that the population covariance matrix $\\Sigma_{\\vec{y}-\\vec{\\mu}}$ can be written as follows:\n",
    "  $$ \\Sigma_{\\vec{y}-\\vec{\\mu}} = \\Lambda \\Lambda{'} + \\Phi$$\n",
    "This follows from assumption 2 and 5 above. We can see then that the variance in this case will be a combination of some *signal* -- or explained -- variance in the latent variable loadings, and some *random* or unexplained variance in the error terms. \n",
    "\n",
    "This seperates Factor analysis from Principle Component Analysis -- in PCA, we make no distinction between explained and unexplained variance except in terms of the number of components selected. Here, we make this distinction for a number of latent variables.\n",
    "\n",
    "It is also of note that we can rotate the loadings by an orthogonal matrix without effecting their ability to reproduce this population covariance matrix. As such the loadings are not unique. \n",
    "\n",
    "We will use these rotations when we perform our analysis. The rotations prove useful as the results given in the loadings may not make it clear which variables are effected by which factors. By rotating the coordinate axis, we can more easily interpret the results from the factor analysis.\n",
    "\n",
    "The variances of each of the individual $y$s can be written as follows:\n",
    "$$\n",
    "Var[y_i] = h^2_i + \\phi_i\n",
    "$$\n",
    "where $h_i^2 = \\lambda_{i 1}^2 + \\lambda_{i 2}^2 + ... + \\lambda_{i m}^2$ and $\\phi_i$ is the *specific variance* for the ith error term, that is, the ith diagonal of $\\Phi$. Thus we can separate the variance of each of the $y$s into a communal and specific part, which is $h_i^2$ and $\\phi_i$ respectively. As such, the diagonal elements can be easily estimated using the loadings and the specific variance, while the off diagonal elements depend on the selection of the loadings alone. Since factor analysis is largely dealing with the estimations of the loadings, it accounts for the covariations between the variables, rather than the total variance as in principal component analysis.\n",
    "\n",
    "There are four different methods to obtain the loadings $\\Lambda$ from a sample. These are the principal component method, the principal factor method, the iterated principal factor method, and the maximum likelihood method. These will be explored later in the coding.\n",
    "\n",
    "Another difficulty is determining the number of factors, $m$. There are four approaches: we can select the number of variables $m$ which accounts for a prespecified amount of variance of the variables, we can choose $m$ to be the number of eigenvalues of the correlation matrix $R$ which is greater than the average of the eigenvalues, we can use a scree plot to determine where there is a leveling of the eigenvalues of $R$, or we can test the hypothesis using a chi-squared distribution if the number of factors is the true number of factors. Again, this will be shown further in the coding."
   ]
  },
  {
   "cell_type": "markdown",
   "metadata": {},
   "source": [
    "***"
   ]
  },
  {
   "cell_type": "markdown",
   "metadata": {},
   "source": [
    "# Data"
   ]
  },
  {
   "cell_type": "markdown",
   "metadata": {},
   "source": [
    "  The dataset I will be using to illustrate the benefits and limitations of factor analysis is collected data from an online personality questionnaire. The link can be found [here](http://personality-testing.info/_rawdata/AS+SC+AD+DO.zip).\n",
    "\n",
    "  In this study, 1,005 participants were prompted with 40 statements to rate on a scale of one to five. This scale is used frequently and is known as the likert scale. It ranges from 1 (strongly disagree) to 5 (strongly agree). The data was partitioned into four sections, with every ten statements designed to be related to some attributes of the population; in particular, it was looking for their assertiveness, social confidence, adventurousness, and dominance. The questions were designed to discover the prevalence of these attributes through the responses to the statements in the survey.\n",
    "\n",
    "  This seems like an ideal dataset to use factor analysis on, because the goal of the dataset seems to be precisely what factor analysis is used for. That is, we have some variables (the questions) that have some underlying, unobservable factor (initially hypothesized to be assertiveness, social confidence, adventurousness and dominance) that ties them all together. We are not very interested in the individual answers to the questions themselves, but of the behavior of the underlying factors that exist which are unobservable.\n",
    "\n",
    "  Some examples of questions are printed below:\n",
    "\n",
    "  <b>AS2</b> I try to lead others.\n",
    "\n",
    "  **SC4** I express myself easily.\n",
    "\n",
    "  **AD6** I dislike changes.\n",
    "\n",
    "  **DO8** I challenge others' points of view.\n",
    "\n",
    "  By looking at the coding markers of each of the questions, we can get a sense of how this survey was distributed and why. If, after doing factor analysis, there are four factors (that is, $m = 4$) and these factors are inclusive of each of the ten questions, we can then say that the data reflects these attributes well.\n",
    "\n",
    "  Therefore, the goal of this analysis is to see\n",
    "\n",
    "  1. if the data supports the idea that these factors are well separated in the variables,\n",
    "  and\n",
    "  2. if not, is there a better set of factors that can describe the individual more effectively.\n",
    "  \n",
    "  \n",
    "  After doing some research, it seems that many personality scales fail to truly describe individuals completely. A very popular scale, the Myers Briggs Type Indicator (MBTI), has been purported by many to effectively separate all personalities into one of sixteen types. However, when researchers used factor analysis on data testing for the four underling dimensions of the Myers Briggs tests, they found conflicting results. One of these analyses confirmed the four-dimensionality of the data, while the other suggested there to be six, rather than the four purported by the Myers Briggs test.The motivation for choosing this topic and subsequent dataset was to test these findings for myself. Although I was unable to find an adequate dataset with questions relating to the Myers Briggs tests, I used this dataset to see how well factor analysis can truly separate personality types from a series of related statements."
   ]
  },
  {
   "cell_type": "markdown",
   "metadata": {},
   "source": [
    "  \n",
    "***"
   ]
  },
  {
   "cell_type": "markdown",
   "metadata": {},
   "source": [
    "# Analysis"
   ]
  },
  {
   "cell_type": "code",
   "execution_count": 7,
   "metadata": {
    "autoscroll": false
   },
   "outputs": [
    {
     "name": "stderr",
     "output_type": "stream",
     "text": [
      "Loading required package: psych\n",
      "Warning message in library(package, lib.loc = lib.loc, character.only = TRUE, logical.return = TRUE, :\n",
      "“there is no package called ‘psych’”"
     ]
    },
    {
     "data": {
      "text/html": [
       "<table>\n",
       "<thead><tr><th scope=col>AS1</th><th scope=col>SC1</th><th scope=col>AD1</th><th scope=col>DO1</th></tr></thead>\n",
       "<tbody>\n",
       "\t<tr><td>4</td><td>5</td><td>5</td><td>1</td></tr>\n",
       "\t<tr><td>4</td><td>4</td><td>2</td><td>4</td></tr>\n",
       "\t<tr><td>5</td><td>4</td><td>4</td><td>4</td></tr>\n",
       "\t<tr><td>4</td><td>2</td><td>4</td><td>3</td></tr>\n",
       "\t<tr><td>4</td><td>2</td><td>4</td><td>4</td></tr>\n",
       "</tbody>\n",
       "</table>\n"
      ],
      "text/latex": [
       "\\begin{tabular}{r|llll}\n",
       " AS1 & SC1 & AD1 & DO1\\\\\n",
       "\\hline\n",
       "\t 4 & 5 & 5 & 1\\\\\n",
       "\t 4 & 4 & 2 & 4\\\\\n",
       "\t 5 & 4 & 4 & 4\\\\\n",
       "\t 4 & 2 & 4 & 3\\\\\n",
       "\t 4 & 2 & 4 & 4\\\\\n",
       "\\end{tabular}\n"
      ],
      "text/markdown": [
       "\n",
       "AS1 | SC1 | AD1 | DO1 | \n",
       "|---|---|---|---|---|\n",
       "| 4 | 5 | 5 | 1 | \n",
       "| 4 | 4 | 2 | 4 | \n",
       "| 5 | 4 | 4 | 4 | \n",
       "| 4 | 2 | 4 | 3 | \n",
       "| 4 | 2 | 4 | 4 | \n",
       "\n",
       "\n"
      ],
      "text/plain": [
       "  AS1 SC1 AD1 DO1\n",
       "1 4   5   5   1  \n",
       "2 4   4   2   4  \n",
       "3 5   4   4   4  \n",
       "4 4   2   4   3  \n",
       "5 4   2   4   4  "
      ]
     },
     "metadata": {},
     "output_type": "display_data"
    }
   ],
   "source": [
    "require(psych)\n",
    "\n",
    "tmp <- tempfile()\n",
    "download.file(\"http://personality-testing.info/_rawdata/AS+SC+AD+DO.zip\", tmp)\n",
    "data <- read.csv(unz(tmp, 'AS+SC+AD+DO/data.csv'))\n",
    "unlink(tmp)\n",
    "\n",
    "data <- data[,1:40]\n",
    "data[1:5, c(1, 11, 21, 31)]\n",
    "\n",
    "R <- cor(data)"
   ]
  },
  {
   "cell_type": "code",
   "execution_count": 5,
   "metadata": {
    "autoscroll": false
   },
   "outputs": [
    {
     "data": {
      "text/html": [
       "<table>\n",
       "<thead><tr><th></th><th scope=col>AS1</th><th scope=col>AS2</th><th scope=col>AS3</th><th scope=col>AS4</th><th scope=col>AS5</th></tr></thead>\n",
       "<tbody>\n",
       "\t<tr><th scope=row>AS1</th><td>1.00</td><td>0.41</td><td>0.37</td><td>0.44</td><td>0.32</td></tr>\n",
       "\t<tr><th scope=row>AS2</th><td>0.41</td><td>1.00</td><td>0.63</td><td>0.42</td><td>0.45</td></tr>\n",
       "\t<tr><th scope=row>AS3</th><td>0.37</td><td>0.63</td><td>1.00</td><td>0.38</td><td>0.49</td></tr>\n",
       "\t<tr><th scope=row>AS4</th><td>0.44</td><td>0.42</td><td>0.38</td><td>1.00</td><td>0.30</td></tr>\n",
       "\t<tr><th scope=row>AS5</th><td>0.32</td><td>0.45</td><td>0.49</td><td>0.30</td><td>1.00</td></tr>\n",
       "</tbody>\n",
       "</table>\n"
      ],
      "text/latex": [
       "\\begin{tabular}{r|lllll}\n",
       "  & AS1 & AS2 & AS3 & AS4 & AS5\\\\\n",
       "\\hline\n",
       "\tAS1 & 1.00 & 0.41 & 0.37 & 0.44 & 0.32\\\\\n",
       "\tAS2 & 0.41 & 1.00 & 0.63 & 0.42 & 0.45\\\\\n",
       "\tAS3 & 0.37 & 0.63 & 1.00 & 0.38 & 0.49\\\\\n",
       "\tAS4 & 0.44 & 0.42 & 0.38 & 1.00 & 0.30\\\\\n",
       "\tAS5 & 0.32 & 0.45 & 0.49 & 0.30 & 1.00\\\\\n",
       "\\end{tabular}\n"
      ],
      "text/markdown": [
       "\n",
       "| <!--/--> | AS1 | AS2 | AS3 | AS4 | AS5 | \n",
       "|---|---|---|---|---|\n",
       "| AS1 | 1.00 | 0.41 | 0.37 | 0.44 | 0.32 | \n",
       "| AS2 | 0.41 | 1.00 | 0.63 | 0.42 | 0.45 | \n",
       "| AS3 | 0.37 | 0.63 | 1.00 | 0.38 | 0.49 | \n",
       "| AS4 | 0.44 | 0.42 | 0.38 | 1.00 | 0.30 | \n",
       "| AS5 | 0.32 | 0.45 | 0.49 | 0.30 | 1.00 | \n",
       "\n",
       "\n"
      ],
      "text/plain": [
       "    AS1  AS2  AS3  AS4  AS5 \n",
       "AS1 1.00 0.41 0.37 0.44 0.32\n",
       "AS2 0.41 1.00 0.63 0.42 0.45\n",
       "AS3 0.37 0.63 1.00 0.38 0.49\n",
       "AS4 0.44 0.42 0.38 1.00 0.30\n",
       "AS5 0.32 0.45 0.49 0.30 1.00"
      ]
     },
     "metadata": {},
     "output_type": "display_data"
    }
   ],
   "source": [
    "round(R, 2)[1:5,1:5]"
   ]
  },
  {
   "cell_type": "markdown",
   "metadata": {},
   "source": [
    "I begin by importing the dataset and only using the variables pertaining to the questions. The next step is to find the correlation matrix. This is the preferred matrix to work with, as it makes many of the computations easier to do (as compared with the covariance matrix itself). We can see immediately that this is a covariance matrix, as there are ones in the diagonal. However, it does not appear to have particularly strong or easily discernible groups of correlations between the variables, which implies that factor analysis may not perform as well as we had hoped.\n",
    "\n",
    "I did not produce the entire matrix, as it is a 40x40 matrix. Instead, I only look at the first five rows and columns for illustrative purposes.\n",
    "\n",
    "There were forty questions on the questionaire, with every ten representing a \"factor\" of one's personality. We are using factor analysis to  determine whether there is statistical evidence that these groupings represent latent 'factors'."
   ]
  },
  {
   "cell_type": "markdown",
   "metadata": {},
   "source": [
    "### Selecting $m$"
   ]
  },
  {
   "cell_type": "markdown",
   "metadata": {},
   "source": [
    "As mentioned before, it often is not clear how many factors, $m$, we should use in the factor analysis. In this example, it would be preferable to use four, as that is how the data is designed. However, as we will see, four factors are not sufficient to separate the variables.\n",
    "\n",
    "In order to perform factor analysis, we must find the correlation matrix of the dataset. This makes many of the calculations quite simple.\n",
    "\n",
    "The next step will be determining how many factors we should use."
   ]
  },
  {
   "cell_type": "code",
   "execution_count": 108,
   "metadata": {
    "autoscroll": false
   },
   "outputs": [],
   "source": [
    "R <- cor(data)"
   ]
  },
  {
   "cell_type": "markdown",
   "metadata": {},
   "source": [
    "\n",
    "Once we have the correlation matrix, the eigenvalues will tell us the optimal number of ways to reduce the features.\n",
    "\n"
   ]
  },
  {
   "cell_type": "code",
   "execution_count": 17,
   "metadata": {
    "autoscroll": false
   },
   "outputs": [
    {
     "data": {
      "text/html": [
       "<ol class=list-inline>\n",
       "\t<li>9.21</li>\n",
       "\t<li>4.25</li>\n",
       "\t<li>2.71</li>\n",
       "\t<li>2.12</li>\n",
       "\t<li>1.59</li>\n",
       "\t<li>1.4</li>\n",
       "\t<li>1.25</li>\n",
       "\t<li>1.07</li>\n",
       "\t<li>0.98</li>\n",
       "\t<li>0.93</li>\n",
       "\t<li>0.88</li>\n",
       "\t<li>0.81</li>\n",
       "\t<li>0.79</li>\n",
       "\t<li>0.77</li>\n",
       "\t<li>0.73</li>\n",
       "</ol>\n"
      ],
      "text/latex": [
       "\\begin{enumerate*}\n",
       "\\item 9.21\n",
       "\\item 4.25\n",
       "\\item 2.71\n",
       "\\item 2.12\n",
       "\\item 1.59\n",
       "\\item 1.4\n",
       "\\item 1.25\n",
       "\\item 1.07\n",
       "\\item 0.98\n",
       "\\item 0.93\n",
       "\\item 0.88\n",
       "\\item 0.81\n",
       "\\item 0.79\n",
       "\\item 0.77\n",
       "\\item 0.73\n",
       "\\end{enumerate*}\n"
      ],
      "text/markdown": [
       "1. 9.21\n",
       "2. 4.25\n",
       "3. 2.71\n",
       "4. 2.12\n",
       "5. 1.59\n",
       "6. 1.4\n",
       "7. 1.25\n",
       "8. 1.07\n",
       "9. 0.98\n",
       "10. 0.93\n",
       "11. 0.88\n",
       "12. 0.81\n",
       "13. 0.79\n",
       "14. 0.77\n",
       "15. 0.73\n",
       "\n",
       "\n"
      ],
      "text/plain": [
       " [1] 9.21 4.25 2.71 2.12 1.59 1.40 1.25 1.07 0.98 0.93 0.88 0.81 0.79 0.77 0.73"
      ]
     },
     "metadata": {},
     "output_type": "display_data"
    }
   ],
   "source": [
    "head(round(eigen(R)$values, 2), 15)"
   ]
  },
  {
   "cell_type": "markdown",
   "metadata": {},
   "source": [
    "There are numerous methods to select the number of eigenvectors/eigenvalues we want to include. Each eigenvalue represents the proportion of variance explained by that eigenvector (a linear combination of the variables). We want to select eigenvectors/values such that we can explain a good deal of the variance with a smaller number of linear combinations of the features.\n",
    "\n",
    "The first method involves choosing an arbitrary threshold. In this example, at 19 latent variables (that is, reducing the forty variables nearly in half) we have acheieved a threshold of variance explained greater than 60%.\n",
    "\n"
   ]
  },
  {
   "cell_type": "code",
   "execution_count": 110,
   "metadata": {
    "autoscroll": false
   },
   "outputs": [
    {
     "data": {
      "text/html": [
       "0.80183840681608"
      ],
      "text/latex": [
       "0.80183840681608"
      ],
      "text/markdown": [
       "0.80183840681608"
      ],
      "text/plain": [
       "[1] 0.8018384"
      ]
     },
     "metadata": {},
     "output_type": "display_data"
    }
   ],
   "source": [
    "sum(eigen(R)$values[1:19])/40 ##choose 19"
   ]
  },
  {
   "cell_type": "markdown",
   "metadata": {},
   "source": [
    "Another method is to select eigenvectors such that each corresponding eigenvalue is greater than one. This means that the eigenvector of variables contributes more to the variance of the features than any single feature alone. Using this method, we come up with 8 linear combinations.\n"
   ]
  },
  {
   "cell_type": "code",
   "execution_count": 111,
   "metadata": {
    "autoscroll": false
   },
   "outputs": [
    {
     "data": {
      "text/html": [
       "8"
      ],
      "text/latex": [
       "8"
      ],
      "text/markdown": [
       "8"
      ],
      "text/plain": [
       "[1] 8"
      ]
     },
     "metadata": {},
     "output_type": "display_data"
    }
   ],
   "source": [
    "sum(eigen(R)$values > 1) ##choose 8"
   ]
  },
  {
   "cell_type": "markdown",
   "metadata": {},
   "source": [
    "The final methodology is using a scree plot and determining where the eigenvalues level off. This is at 9 linear combinations of the features.\n",
    "\n"
   ]
  },
  {
   "cell_type": "code",
   "execution_count": 112,
   "metadata": {
    "autoscroll": false
   },
   "outputs": [
    {
     "data": {
      "image/png": "[encoded data removed]",
      "text/plain": [
       "Plot with title \"Scree plot\""
      ]
     },
     "metadata": {},
     "output_type": "display_data"
    },
    {
     "name": "stdout",
     "output_type": "stream",
     "text": [
      "Parallel analysis suggests that the number of factors =  9  and the number of components =  7 \n"
     ]
    },
    {
     "data": {
      "image/png": "[encoded data removed]",
      "text/plain": [
       "Plot with title \"Parallel Analysis Scree Plots\""
      ]
     },
     "metadata": {},
     "output_type": "display_data"
    }
   ],
   "source": [
    "scree(R)##choose 9\n",
    "fa.parallel(data)"
   ]
  },
  {
   "cell_type": "markdown",
   "metadata": {},
   "source": [
    "Three different methods were explored to determine the amount of factors, $m$, to use. Unfortunately, it seems right from the beginning that four factors will not be enough to adequately describe the variables. The three methods provide very different numbers: 19, 8 and 9. I will use 9, as it appears to be a middle ground between the two, and the scree plot does flatten out significantly. Also, we do not wish to use nearly half of the number of variables as factors! Even 9 factors is quite high.\n",
    "\n",
    "This is where factor analysis and principle component analysis begin to differ. In PCA, we simply use the eigenvectors of the correlation matrix as variables, or 'principle components'. This does not account for the noise in the principle components themselves -- it is not trying to find any signal here.\n",
    "\n",
    "Factor analysis considers that these components are representations of some latent variables, that which are the true 'signal' in the correlation matrix, while the remainder is noise. Factor analysis is controversial because it attempts to estimate this latency by approximating correlation matrices, as we saw above.\n",
    "\n",
    "Now that we have determined m, the number of factors, we will aim to create the loadings matrix to estimate the covariance matrix, as explained above. There are four methods by which we can estimate the loadings matrices. The loadings matrix in each case will be a $p x m$ matrix, and will use the eigenvalues of the correlation matrix. The first method we will use is the principal components method."
   ]
  },
  {
   "cell_type": "markdown",
   "metadata": {},
   "source": [
    "### Principal Components Method"
   ]
  },
  {
   "cell_type": "code",
   "execution_count": 16,
   "metadata": {
    "autoscroll": false
   },
   "outputs": [
    {
     "data": {
      "text/html": [
       "<table>\n",
       "<tbody>\n",
       "\t<tr><td>-0.63</td><td>-0.12</td><td>-0.33</td><td>-0.05</td><td>0.20 </td><td>-0.26</td><td>-0.01</td><td>-0.11</td><td>-0.22</td></tr>\n",
       "\t<tr><td>-0.66</td><td> 0.13</td><td>-0.12</td><td> 0.22</td><td>0.22 </td><td> 0.13</td><td>-0.25</td><td> 0.00</td><td> 0.07</td></tr>\n",
       "\t<tr><td>-0.64</td><td> 0.20</td><td>-0.06</td><td> 0.23</td><td>0.24 </td><td> 0.11</td><td>-0.31</td><td> 0.07</td><td>-0.01</td></tr>\n",
       "\t<tr><td>-0.60</td><td> 0.00</td><td>-0.25</td><td> 0.03</td><td>0.20 </td><td>-0.10</td><td> 0.22</td><td> 0.39</td><td> 0.18</td></tr>\n",
       "\t<tr><td>-0.56</td><td> 0.08</td><td> 0.04</td><td> 0.09</td><td>0.32 </td><td> 0.10</td><td>-0.34</td><td> 0.03</td><td> 0.09</td></tr>\n",
       "\t<tr><td>-0.56</td><td> 0.20</td><td> 0.02</td><td> 0.13</td><td>0.30 </td><td> 0.07</td><td>-0.28</td><td>-0.07</td><td> 0.09</td></tr>\n",
       "</tbody>\n",
       "</table>\n"
      ],
      "text/latex": [
       "\\begin{tabular}{lllllllll}\n",
       "\t -0.63 & -0.12 & -0.33 & -0.05 & 0.20  & -0.26 & -0.01 & -0.11 & -0.22\\\\\n",
       "\t -0.66 &  0.13 & -0.12 &  0.22 & 0.22  &  0.13 & -0.25 &  0.00 &  0.07\\\\\n",
       "\t -0.64 &  0.20 & -0.06 &  0.23 & 0.24  &  0.11 & -0.31 &  0.07 & -0.01\\\\\n",
       "\t -0.60 &  0.00 & -0.25 &  0.03 & 0.20  & -0.10 &  0.22 &  0.39 &  0.18\\\\\n",
       "\t -0.56 &  0.08 &  0.04 &  0.09 & 0.32  &  0.10 & -0.34 &  0.03 &  0.09\\\\\n",
       "\t -0.56 &  0.20 &  0.02 &  0.13 & 0.30  &  0.07 & -0.28 & -0.07 &  0.09\\\\\n",
       "\\end{tabular}\n"
      ],
      "text/markdown": [
       "\n",
       "| -0.63 | -0.12 | -0.33 | -0.05 | 0.20  | -0.26 | -0.01 | -0.11 | -0.22 | \n",
       "| -0.66 |  0.13 | -0.12 |  0.22 | 0.22  |  0.13 | -0.25 |  0.00 |  0.07 | \n",
       "| -0.64 |  0.20 | -0.06 |  0.23 | 0.24  |  0.11 | -0.31 |  0.07 | -0.01 | \n",
       "| -0.60 |  0.00 | -0.25 |  0.03 | 0.20  | -0.10 |  0.22 |  0.39 |  0.18 | \n",
       "| -0.56 |  0.08 |  0.04 |  0.09 | 0.32  |  0.10 | -0.34 |  0.03 |  0.09 | \n",
       "| -0.56 |  0.20 |  0.02 |  0.13 | 0.30  |  0.07 | -0.28 | -0.07 |  0.09 | \n",
       "\n",
       "\n"
      ],
      "text/plain": [
       "     [,1]  [,2]  [,3]  [,4]  [,5] [,6]  [,7]  [,8]  [,9] \n",
       "[1,] -0.63 -0.12 -0.33 -0.05 0.20 -0.26 -0.01 -0.11 -0.22\n",
       "[2,] -0.66  0.13 -0.12  0.22 0.22  0.13 -0.25  0.00  0.07\n",
       "[3,] -0.64  0.20 -0.06  0.23 0.24  0.11 -0.31  0.07 -0.01\n",
       "[4,] -0.60  0.00 -0.25  0.03 0.20 -0.10  0.22  0.39  0.18\n",
       "[5,] -0.56  0.08  0.04  0.09 0.32  0.10 -0.34  0.03  0.09\n",
       "[6,] -0.56  0.20  0.02  0.13 0.30  0.07 -0.28 -0.07  0.09"
      ]
     },
     "metadata": {},
     "output_type": "display_data"
    }
   ],
   "source": [
    "eigenvectors <- eigen(R)$vectors[,1:9]\n",
    "loadings <- eigenvectors %*% (diag(1,nrow = 9)*(eigen(R)$values[1:9])^.5)\n",
    "head(round(loadings, 2))"
   ]
  },
  {
   "cell_type": "markdown",
   "metadata": {},
   "source": [
    "We first determine the loadings by multiplying the first $m$ eigenvectors (in this case, 9) by the square roots of their corresponding eigenvalues. This produces the above matrix, a unsightly $40x9$ matrix. Each column corresponds to a different loading.\n",
    "\n",
    "To determine the communalities and specific variances of the variables, we can square the entries in each of the rows of the loadings matrix. This will give us the $h^2_i$ vector, from which we can also determine the specific variances.\n"
   ]
  },
  {
   "cell_type": "code",
   "execution_count": 21,
   "metadata": {
    "autoscroll": false
   },
   "outputs": [
    {
     "data": {
      "text/html": [
       "<table>\n",
       "<thead><tr><th scope=col>communalities</th><th scope=col>specific</th></tr></thead>\n",
       "<tbody>\n",
       "\t<tr><td>0.684</td><td>0.316</td></tr>\n",
       "\t<tr><td>0.654</td><td>0.346</td></tr>\n",
       "\t<tr><td>0.675</td><td>0.325</td></tr>\n",
       "\t<tr><td>0.713</td><td>0.287</td></tr>\n",
       "\t<tr><td>0.567</td><td>0.433</td></tr>\n",
       "\t<tr><td>0.559</td><td>0.441</td></tr>\n",
       "\t<tr><td>0.635</td><td>0.365</td></tr>\n",
       "\t<tr><td>0.532</td><td>0.468</td></tr>\n",
       "\t<tr><td>0.610</td><td>0.390</td></tr>\n",
       "\t<tr><td>0.485</td><td>0.515</td></tr>\n",
       "\t<tr><td>0.707</td><td>0.293</td></tr>\n",
       "\t<tr><td>0.736</td><td>0.264</td></tr>\n",
       "\t<tr><td>0.539</td><td>0.461</td></tr>\n",
       "\t<tr><td>0.697</td><td>0.303</td></tr>\n",
       "\t<tr><td>0.745</td><td>0.255</td></tr>\n",
       "\t<tr><td>0.713</td><td>0.287</td></tr>\n",
       "\t<tr><td>0.634</td><td>0.366</td></tr>\n",
       "\t<tr><td>0.711</td><td>0.289</td></tr>\n",
       "\t<tr><td>0.685</td><td>0.315</td></tr>\n",
       "\t<tr><td>0.506</td><td>0.494</td></tr>\n",
       "\t<tr><td>0.528</td><td>0.472</td></tr>\n",
       "\t<tr><td>0.602</td><td>0.398</td></tr>\n",
       "\t<tr><td>0.625</td><td>0.375</td></tr>\n",
       "\t<tr><td>0.590</td><td>0.410</td></tr>\n",
       "\t<tr><td>0.563</td><td>0.437</td></tr>\n",
       "\t<tr><td>0.701</td><td>0.299</td></tr>\n",
       "\t<tr><td>0.661</td><td>0.339</td></tr>\n",
       "\t<tr><td>0.573</td><td>0.427</td></tr>\n",
       "\t<tr><td>0.362</td><td>0.638</td></tr>\n",
       "\t<tr><td>0.511</td><td>0.489</td></tr>\n",
       "\t<tr><td>0.774</td><td>0.226</td></tr>\n",
       "\t<tr><td>0.806</td><td>0.194</td></tr>\n",
       "\t<tr><td>0.501</td><td>0.499</td></tr>\n",
       "\t<tr><td>0.621</td><td>0.379</td></tr>\n",
       "\t<tr><td>0.594</td><td>0.406</td></tr>\n",
       "\t<tr><td>0.529</td><td>0.471</td></tr>\n",
       "\t<tr><td>0.559</td><td>0.441</td></tr>\n",
       "\t<tr><td>0.556</td><td>0.444</td></tr>\n",
       "\t<tr><td>0.573</td><td>0.427</td></tr>\n",
       "\t<tr><td>0.574</td><td>0.426</td></tr>\n",
       "</tbody>\n",
       "</table>\n"
      ],
      "text/latex": [
       "\\begin{tabular}{ll}\n",
       " communalities & specific\\\\\n",
       "\\hline\n",
       "\t 0.684 & 0.316\\\\\n",
       "\t 0.654 & 0.346\\\\\n",
       "\t 0.675 & 0.325\\\\\n",
       "\t 0.713 & 0.287\\\\\n",
       "\t 0.567 & 0.433\\\\\n",
       "\t 0.559 & 0.441\\\\\n",
       "\t 0.635 & 0.365\\\\\n",
       "\t 0.532 & 0.468\\\\\n",
       "\t 0.610 & 0.390\\\\\n",
       "\t 0.485 & 0.515\\\\\n",
       "\t 0.707 & 0.293\\\\\n",
       "\t 0.736 & 0.264\\\\\n",
       "\t 0.539 & 0.461\\\\\n",
       "\t 0.697 & 0.303\\\\\n",
       "\t 0.745 & 0.255\\\\\n",
       "\t 0.713 & 0.287\\\\\n",
       "\t 0.634 & 0.366\\\\\n",
       "\t 0.711 & 0.289\\\\\n",
       "\t 0.685 & 0.315\\\\\n",
       "\t 0.506 & 0.494\\\\\n",
       "\t 0.528 & 0.472\\\\\n",
       "\t 0.602 & 0.398\\\\\n",
       "\t 0.625 & 0.375\\\\\n",
       "\t 0.590 & 0.410\\\\\n",
       "\t 0.563 & 0.437\\\\\n",
       "\t 0.701 & 0.299\\\\\n",
       "\t 0.661 & 0.339\\\\\n",
       "\t 0.573 & 0.427\\\\\n",
       "\t 0.362 & 0.638\\\\\n",
       "\t 0.511 & 0.489\\\\\n",
       "\t 0.774 & 0.226\\\\\n",
       "\t 0.806 & 0.194\\\\\n",
       "\t 0.501 & 0.499\\\\\n",
       "\t 0.621 & 0.379\\\\\n",
       "\t 0.594 & 0.406\\\\\n",
       "\t 0.529 & 0.471\\\\\n",
       "\t 0.559 & 0.441\\\\\n",
       "\t 0.556 & 0.444\\\\\n",
       "\t 0.573 & 0.427\\\\\n",
       "\t 0.574 & 0.426\\\\\n",
       "\\end{tabular}\n"
      ],
      "text/markdown": [
       "\n",
       "communalities | specific | \n",
       "|---|---|---|---|---|---|---|---|---|---|---|---|---|---|---|---|---|---|---|---|---|---|---|---|---|---|---|---|---|---|---|---|---|---|---|---|---|---|---|---|\n",
       "| 0.684 | 0.316 | \n",
       "| 0.654 | 0.346 | \n",
       "| 0.675 | 0.325 | \n",
       "| 0.713 | 0.287 | \n",
       "| 0.567 | 0.433 | \n",
       "| 0.559 | 0.441 | \n",
       "| 0.635 | 0.365 | \n",
       "| 0.532 | 0.468 | \n",
       "| 0.610 | 0.390 | \n",
       "| 0.485 | 0.515 | \n",
       "| 0.707 | 0.293 | \n",
       "| 0.736 | 0.264 | \n",
       "| 0.539 | 0.461 | \n",
       "| 0.697 | 0.303 | \n",
       "| 0.745 | 0.255 | \n",
       "| 0.713 | 0.287 | \n",
       "| 0.634 | 0.366 | \n",
       "| 0.711 | 0.289 | \n",
       "| 0.685 | 0.315 | \n",
       "| 0.506 | 0.494 | \n",
       "| 0.528 | 0.472 | \n",
       "| 0.602 | 0.398 | \n",
       "| 0.625 | 0.375 | \n",
       "| 0.590 | 0.410 | \n",
       "| 0.563 | 0.437 | \n",
       "| 0.701 | 0.299 | \n",
       "| 0.661 | 0.339 | \n",
       "| 0.573 | 0.427 | \n",
       "| 0.362 | 0.638 | \n",
       "| 0.511 | 0.489 | \n",
       "| 0.774 | 0.226 | \n",
       "| 0.806 | 0.194 | \n",
       "| 0.501 | 0.499 | \n",
       "| 0.621 | 0.379 | \n",
       "| 0.594 | 0.406 | \n",
       "| 0.529 | 0.471 | \n",
       "| 0.559 | 0.441 | \n",
       "| 0.556 | 0.444 | \n",
       "| 0.573 | 0.427 | \n",
       "| 0.574 | 0.426 | \n",
       "\n",
       "\n"
      ],
      "text/plain": [
       "      communalities specific\n",
       " [1,] 0.684         0.316   \n",
       " [2,] 0.654         0.346   \n",
       " [3,] 0.675         0.325   \n",
       " [4,] 0.713         0.287   \n",
       " [5,] 0.567         0.433   \n",
       " [6,] 0.559         0.441   \n",
       " [7,] 0.635         0.365   \n",
       " [8,] 0.532         0.468   \n",
       " [9,] 0.610         0.390   \n",
       "[10,] 0.485         0.515   \n",
       "[11,] 0.707         0.293   \n",
       "[12,] 0.736         0.264   \n",
       "[13,] 0.539         0.461   \n",
       "[14,] 0.697         0.303   \n",
       "[15,] 0.745         0.255   \n",
       "[16,] 0.713         0.287   \n",
       "[17,] 0.634         0.366   \n",
       "[18,] 0.711         0.289   \n",
       "[19,] 0.685         0.315   \n",
       "[20,] 0.506         0.494   \n",
       "[21,] 0.528         0.472   \n",
       "[22,] 0.602         0.398   \n",
       "[23,] 0.625         0.375   \n",
       "[24,] 0.590         0.410   \n",
       "[25,] 0.563         0.437   \n",
       "[26,] 0.701         0.299   \n",
       "[27,] 0.661         0.339   \n",
       "[28,] 0.573         0.427   \n",
       "[29,] 0.362         0.638   \n",
       "[30,] 0.511         0.489   \n",
       "[31,] 0.774         0.226   \n",
       "[32,] 0.806         0.194   \n",
       "[33,] 0.501         0.499   \n",
       "[34,] 0.621         0.379   \n",
       "[35,] 0.594         0.406   \n",
       "[36,] 0.529         0.471   \n",
       "[37,] 0.559         0.441   \n",
       "[38,] 0.556         0.444   \n",
       "[39,] 0.573         0.427   \n",
       "[40,] 0.574         0.426   "
      ]
     },
     "metadata": {},
     "output_type": "display_data"
    }
   ],
   "source": [
    "hisq <- apply(apply(loadings, 2, function(x) x^2), 1, sum)\n",
    "psi <- rep(1,40) - hisq\n",
    "                    \n",
    "cbind(communalities=round(hisq, 3), specific=round(psi, 3))"
   ]
  },
  {
   "cell_type": "markdown",
   "metadata": {},
   "source": [
    "The above are the communalities and the specific variances of each of the variables.\n",
    "\n",
    "To determine the amount of the total variance of which each loading contributes, we can divide the eigenvalues of $R$ by the number of variables, $p = 40$.\n",
    "\n",
    "Thus, all nine factors account for about 60% of the variance of the variables. This is not very good, especially considering there were supposed to be only four underlying factors!"
   ]
  },
  {
   "cell_type": "markdown",
   "metadata": {},
   "source": [
    "#### Rotating the Loadings"
   ]
  },
  {
   "cell_type": "markdown",
   "metadata": {},
   "source": [
    "Because we have $m = 9$, I will use the varimax rotations from the psych package to rotate the loadings we have above. This will make it easier to see which variables correspond to the factors."
   ]
  },
  {
   "cell_type": "code",
   "execution_count": 115,
   "metadata": {
    "autoscroll": false
   },
   "outputs": [
    {
     "name": "stdout",
     "output_type": "stream",
     "text": [
      "\n",
      "Loadings:\n",
      "      [,1]   [,2]   [,3]   [,4]   [,5]   [,6]   [,7]   [,8]   [,9]  \n",
      " [1,] -0.681                                                        \n",
      " [2,] -0.713                                                        \n",
      " [3,] -0.681                                                        \n",
      " [4,] -0.655                                                        \n",
      " [5,]  0.506                                                   0.486\n",
      " [6,]        -0.657                                                 \n",
      " [7,]        -0.742                                                 \n",
      " [8,]        -0.765                                                 \n",
      " [9,]        -0.616                                                 \n",
      "[10,]        -0.642                                                 \n",
      "[11,]        -0.623                                                 \n",
      "[12,]        -0.685                                                 \n",
      "[13,]        -0.698                                                 \n",
      "[14,]                0.716                                          \n",
      "[15,]                0.784                                          \n",
      "[16,]                0.769                                          \n",
      "[17,]                0.731                                          \n",
      "[18,]                0.643                                          \n",
      "[19,]               -0.397 -0.534                                   \n",
      "[20,]                      -0.718                                   \n",
      "[21,]                      -0.747                                   \n",
      "[22,]                      -0.688                                   \n",
      "[23,]                      -0.313 -0.728                            \n",
      "[24,]                             -0.753                            \n",
      "[25,]                              0.759                            \n",
      "[26,]                              0.727                0.301       \n",
      "[27,]                              0.722                            \n",
      "[28,]                                     0.794                     \n",
      "[29,]        -0.349                       0.786                     \n",
      "[30,]                                            0.744              \n",
      "[31,]                                            0.745              \n",
      "[32,]                              0.338        -0.618              \n",
      "[33,]  0.302                                            0.681       \n",
      "[34,]                             -0.408                      -0.522\n",
      "[35,]                                                          0.578\n",
      "[36,]                             -0.396         0.337        -0.501\n",
      "[37,]                                           -0.407  0.481       \n",
      "[38,]                             -0.478         0.355              \n",
      "[39,]                              0.360                0.327  0.457\n",
      "[40,]                0.391                              0.326       \n",
      "\n",
      "                [,1]  [,2]  [,3]  [,4]  [,5]  [,6]  [,7]  [,8]  [,9]\n",
      "SS loadings    2.970 4.308 3.507 2.557 3.954 1.746 2.289 1.437 1.819\n",
      "Proportion Var 0.074 0.108 0.088 0.064 0.099 0.044 0.057 0.036 0.045\n",
      "Cumulative Var 0.074 0.182 0.270 0.334 0.432 0.476 0.533 0.569 0.615\n"
     ]
    }
   ],
   "source": [
    "## varimax includes a print method which makes the loading distributions easier to see.\n",
    "loadingsrot <- print(varimax(loadings)$loadings,cutoff = .3,sort = T)"
   ]
  },
  {
   "cell_type": "markdown",
   "metadata": {},
   "source": [
    "We can see from the above that the factors do not separate so easily. The values of the loadings below .3 have been omitted to make it clearer what the underling relationships are. Although they do not separate cleanly into the four theorized factors, we can see that the first factor, for instance, largely is between the first and tenth variables (which was assertiveness), the second factor between the 30th and 40th variables (which was dominance). Similarly, the fifth factor is between the 20th and 30th variables (social confidence) and the third and factor is largely between the 30th and 40th variables (adventurousness). However, the split is not so simple as we assumed before the analysis, as the other factors show relationships between variables which are not in the same groups.\n",
    "\n",
    "The second function simply sorts the variables by factor, so we can get a better sense of how they separate. We can see that towards the top there are larger values for the loading matrix, which indicates a stronger association with the factor. We can also see that the 6th-9th factors also have some large values, which means that their correlations cannot be ignored. This suggests that the initial separation into only four factors may have been overly simplistic."
   ]
  },
  {
   "cell_type": "markdown",
   "metadata": {},
   "source": [
    "### Principle Factors Method"
   ]
  },
  {
   "cell_type": "markdown",
   "metadata": {},
   "source": [
    "In the previous method, we had ignored the structure of the specific variances. Now, using the principal factors method, we will take the $\\Phi$ matrix into account.\n",
    "\n",
    "We first make an initial estimate of the $h_i$s, and use this to account for the specific variances. Below I create a diagonal matrix which has the specific variances in each of the diagonal elements. We will then subtract this matrix from the covariance matrix, and use the new matrix to compute our loadings."
   ]
  },
  {
   "cell_type": "code",
   "execution_count": 25,
   "metadata": {
    "autoscroll": false
   },
   "outputs": [
    {
     "data": {
      "text/html": [
       "<table>\n",
       "<thead><tr><th></th><th scope=col>communalities</th><th scope=col>specific</th></tr></thead>\n",
       "<tbody>\n",
       "\t<tr><th scope=row>AS1</th><td>0.703</td><td>0.297</td></tr>\n",
       "\t<tr><th scope=row>AS2</th><td>0.548</td><td>0.452</td></tr>\n",
       "\t<tr><th scope=row>AS3</th><td>0.551</td><td>0.449</td></tr>\n",
       "\t<tr><th scope=row>AS4</th><td>0.505</td><td>0.495</td></tr>\n",
       "\t<tr><th scope=row>AS5</th><td>0.391</td><td>0.609</td></tr>\n",
       "\t<tr><th scope=row>AS6</th><td>0.418</td><td>0.582</td></tr>\n",
       "\t<tr><th scope=row>AS7</th><td>0.479</td><td>0.521</td></tr>\n",
       "\t<tr><th scope=row>AS8</th><td>0.327</td><td>0.673</td></tr>\n",
       "\t<tr><th scope=row>AS9</th><td>0.268</td><td>0.732</td></tr>\n",
       "\t<tr><th scope=row>AS10</th><td>0.219</td><td>0.781</td></tr>\n",
       "\t<tr><th scope=row>SC1</th><td>0.578</td><td>0.422</td></tr>\n",
       "\t<tr><th scope=row>SC2</th><td>0.656</td><td>0.344</td></tr>\n",
       "\t<tr><th scope=row>SC3</th><td>0.457</td><td>0.543</td></tr>\n",
       "\t<tr><th scope=row>SC4</th><td>0.696</td><td>0.304</td></tr>\n",
       "\t<tr><th scope=row>SC5</th><td>0.572</td><td>0.428</td></tr>\n",
       "\t<tr><th scope=row>SC6</th><td>0.639</td><td>0.361</td></tr>\n",
       "\t<tr><th scope=row>SC7</th><td>0.486</td><td>0.514</td></tr>\n",
       "\t<tr><th scope=row>SC8</th><td>0.580</td><td>0.420</td></tr>\n",
       "\t<tr><th scope=row>SC9</th><td>0.572</td><td>0.428</td></tr>\n",
       "\t<tr><th scope=row>SC10</th><td>0.378</td><td>0.622</td></tr>\n",
       "\t<tr><th scope=row>AD1</th><td>0.362</td><td>0.638</td></tr>\n",
       "\t<tr><th scope=row>AD2</th><td>0.382</td><td>0.618</td></tr>\n",
       "\t<tr><th scope=row>AD3</th><td>0.402</td><td>0.598</td></tr>\n",
       "\t<tr><th scope=row>AD4</th><td>0.413</td><td>0.587</td></tr>\n",
       "\t<tr><th scope=row>AD5</th><td>0.428</td><td>0.572</td></tr>\n",
       "\t<tr><th scope=row>AD6</th><td>0.611</td><td>0.389</td></tr>\n",
       "\t<tr><th scope=row>AD7</th><td>0.579</td><td>0.421</td></tr>\n",
       "\t<tr><th scope=row>AD8</th><td>0.393</td><td>0.607</td></tr>\n",
       "\t<tr><th scope=row>AD9</th><td>0.230</td><td>0.770</td></tr>\n",
       "\t<tr><th scope=row>AD10</th><td>0.361</td><td>0.639</td></tr>\n",
       "\t<tr><th scope=row>DO1</th><td>0.619</td><td>0.381</td></tr>\n",
       "\t<tr><th scope=row>DO2</th><td>0.658</td><td>0.342</td></tr>\n",
       "\t<tr><th scope=row>DO3</th><td>0.424</td><td>0.576</td></tr>\n",
       "\t<tr><th scope=row>DO4</th><td>0.539</td><td>0.461</td></tr>\n",
       "\t<tr><th scope=row>DO5</th><td>0.439</td><td>0.561</td></tr>\n",
       "\t<tr><th scope=row>DO6</th><td>0.415</td><td>0.585</td></tr>\n",
       "\t<tr><th scope=row>DO7</th><td>0.442</td><td>0.558</td></tr>\n",
       "\t<tr><th scope=row>DO8</th><td>0.462</td><td>0.538</td></tr>\n",
       "\t<tr><th scope=row>DO9</th><td>0.458</td><td>0.542</td></tr>\n",
       "\t<tr><th scope=row>DO10</th><td>0.485</td><td>0.515</td></tr>\n",
       "</tbody>\n",
       "</table>\n"
      ],
      "text/latex": [
       "\\begin{tabular}{r|ll}\n",
       "  & communalities & specific\\\\\n",
       "\\hline\n",
       "\tAS1 & 0.703 & 0.297\\\\\n",
       "\tAS2 & 0.548 & 0.452\\\\\n",
       "\tAS3 & 0.551 & 0.449\\\\\n",
       "\tAS4 & 0.505 & 0.495\\\\\n",
       "\tAS5 & 0.391 & 0.609\\\\\n",
       "\tAS6 & 0.418 & 0.582\\\\\n",
       "\tAS7 & 0.479 & 0.521\\\\\n",
       "\tAS8 & 0.327 & 0.673\\\\\n",
       "\tAS9 & 0.268 & 0.732\\\\\n",
       "\tAS10 & 0.219 & 0.781\\\\\n",
       "\tSC1 & 0.578 & 0.422\\\\\n",
       "\tSC2 & 0.656 & 0.344\\\\\n",
       "\tSC3 & 0.457 & 0.543\\\\\n",
       "\tSC4 & 0.696 & 0.304\\\\\n",
       "\tSC5 & 0.572 & 0.428\\\\\n",
       "\tSC6 & 0.639 & 0.361\\\\\n",
       "\tSC7 & 0.486 & 0.514\\\\\n",
       "\tSC8 & 0.580 & 0.420\\\\\n",
       "\tSC9 & 0.572 & 0.428\\\\\n",
       "\tSC10 & 0.378 & 0.622\\\\\n",
       "\tAD1 & 0.362 & 0.638\\\\\n",
       "\tAD2 & 0.382 & 0.618\\\\\n",
       "\tAD3 & 0.402 & 0.598\\\\\n",
       "\tAD4 & 0.413 & 0.587\\\\\n",
       "\tAD5 & 0.428 & 0.572\\\\\n",
       "\tAD6 & 0.611 & 0.389\\\\\n",
       "\tAD7 & 0.579 & 0.421\\\\\n",
       "\tAD8 & 0.393 & 0.607\\\\\n",
       "\tAD9 & 0.230 & 0.770\\\\\n",
       "\tAD10 & 0.361 & 0.639\\\\\n",
       "\tDO1 & 0.619 & 0.381\\\\\n",
       "\tDO2 & 0.658 & 0.342\\\\\n",
       "\tDO3 & 0.424 & 0.576\\\\\n",
       "\tDO4 & 0.539 & 0.461\\\\\n",
       "\tDO5 & 0.439 & 0.561\\\\\n",
       "\tDO6 & 0.415 & 0.585\\\\\n",
       "\tDO7 & 0.442 & 0.558\\\\\n",
       "\tDO8 & 0.462 & 0.538\\\\\n",
       "\tDO9 & 0.458 & 0.542\\\\\n",
       "\tDO10 & 0.485 & 0.515\\\\\n",
       "\\end{tabular}\n"
      ],
      "text/markdown": [
       "\n",
       "| <!--/--> | communalities | specific | \n",
       "|---|---|---|---|---|---|---|---|---|---|---|---|---|---|---|---|---|---|---|---|---|---|---|---|---|---|---|---|---|---|---|---|---|---|---|---|---|---|---|---|\n",
       "| AS1 | 0.703 | 0.297 | \n",
       "| AS2 | 0.548 | 0.452 | \n",
       "| AS3 | 0.551 | 0.449 | \n",
       "| AS4 | 0.505 | 0.495 | \n",
       "| AS5 | 0.391 | 0.609 | \n",
       "| AS6 | 0.418 | 0.582 | \n",
       "| AS7 | 0.479 | 0.521 | \n",
       "| AS8 | 0.327 | 0.673 | \n",
       "| AS9 | 0.268 | 0.732 | \n",
       "| AS10 | 0.219 | 0.781 | \n",
       "| SC1 | 0.578 | 0.422 | \n",
       "| SC2 | 0.656 | 0.344 | \n",
       "| SC3 | 0.457 | 0.543 | \n",
       "| SC4 | 0.696 | 0.304 | \n",
       "| SC5 | 0.572 | 0.428 | \n",
       "| SC6 | 0.639 | 0.361 | \n",
       "| SC7 | 0.486 | 0.514 | \n",
       "| SC8 | 0.580 | 0.420 | \n",
       "| SC9 | 0.572 | 0.428 | \n",
       "| SC10 | 0.378 | 0.622 | \n",
       "| AD1 | 0.362 | 0.638 | \n",
       "| AD2 | 0.382 | 0.618 | \n",
       "| AD3 | 0.402 | 0.598 | \n",
       "| AD4 | 0.413 | 0.587 | \n",
       "| AD5 | 0.428 | 0.572 | \n",
       "| AD6 | 0.611 | 0.389 | \n",
       "| AD7 | 0.579 | 0.421 | \n",
       "| AD8 | 0.393 | 0.607 | \n",
       "| AD9 | 0.230 | 0.770 | \n",
       "| AD10 | 0.361 | 0.639 | \n",
       "| DO1 | 0.619 | 0.381 | \n",
       "| DO2 | 0.658 | 0.342 | \n",
       "| DO3 | 0.424 | 0.576 | \n",
       "| DO4 | 0.539 | 0.461 | \n",
       "| DO5 | 0.439 | 0.561 | \n",
       "| DO6 | 0.415 | 0.585 | \n",
       "| DO7 | 0.442 | 0.558 | \n",
       "| DO8 | 0.462 | 0.538 | \n",
       "| DO9 | 0.458 | 0.542 | \n",
       "| DO10 | 0.485 | 0.515 | \n",
       "\n",
       "\n"
      ],
      "text/plain": [
       "     communalities specific\n",
       "AS1  0.703         0.297   \n",
       "AS2  0.548         0.452   \n",
       "AS3  0.551         0.449   \n",
       "AS4  0.505         0.495   \n",
       "AS5  0.391         0.609   \n",
       "AS6  0.418         0.582   \n",
       "AS7  0.479         0.521   \n",
       "AS8  0.327         0.673   \n",
       "AS9  0.268         0.732   \n",
       "AS10 0.219         0.781   \n",
       "SC1  0.578         0.422   \n",
       "SC2  0.656         0.344   \n",
       "SC3  0.457         0.543   \n",
       "SC4  0.696         0.304   \n",
       "SC5  0.572         0.428   \n",
       "SC6  0.639         0.361   \n",
       "SC7  0.486         0.514   \n",
       "SC8  0.580         0.420   \n",
       "SC9  0.572         0.428   \n",
       "SC10 0.378         0.622   \n",
       "AD1  0.362         0.638   \n",
       "AD2  0.382         0.618   \n",
       "AD3  0.402         0.598   \n",
       "AD4  0.413         0.587   \n",
       "AD5  0.428         0.572   \n",
       "AD6  0.611         0.389   \n",
       "AD7  0.579         0.421   \n",
       "AD8  0.393         0.607   \n",
       "AD9  0.230         0.770   \n",
       "AD10 0.361         0.639   \n",
       "DO1  0.619         0.381   \n",
       "DO2  0.658         0.342   \n",
       "DO3  0.424         0.576   \n",
       "DO4  0.539         0.461   \n",
       "DO5  0.439         0.561   \n",
       "DO6  0.415         0.585   \n",
       "DO7  0.442         0.558   \n",
       "DO8  0.462         0.538   \n",
       "DO9  0.458         0.542   \n",
       "DO10 0.485         0.515   "
      ]
     },
     "metadata": {},
     "output_type": "display_data"
    }
   ],
   "source": [
    "hinit <- 1 - 1/diag(solve(R))\n",
    "psiint <- 1 - hinit\n",
    "cbind(communalities=round(hinit, 3), specific=round(psiint, 3))"
   ]
  },
  {
   "cell_type": "code",
   "execution_count": 27,
   "metadata": {
    "autoscroll": false
   },
   "outputs": [
    {
     "data": {
      "text/html": [
       "<ol class=list-inline>\n",
       "\t<li>8.72</li>\n",
       "\t<li>3.73</li>\n",
       "\t<li>2.22</li>\n",
       "\t<li>1.56</li>\n",
       "\t<li>1.13</li>\n",
       "\t<li>0.95</li>\n",
       "</ol>\n"
      ],
      "text/latex": [
       "\\begin{enumerate*}\n",
       "\\item 8.72\n",
       "\\item 3.73\n",
       "\\item 2.22\n",
       "\\item 1.56\n",
       "\\item 1.13\n",
       "\\item 0.95\n",
       "\\end{enumerate*}\n"
      ],
      "text/markdown": [
       "1. 8.72\n",
       "2. 3.73\n",
       "3. 2.22\n",
       "4. 1.56\n",
       "5. 1.13\n",
       "6. 0.95\n",
       "\n",
       "\n"
      ],
      "text/plain": [
       "[1] 8.72 3.73 2.22 1.56 1.13 0.95"
      ]
     },
     "metadata": {},
     "output_type": "display_data"
    },
    {
     "data": {
      "text/html": [
       "<table>\n",
       "<tbody>\n",
       "\t<tr><td>-0.212</td><td> 0.064</td><td> 0.217</td><td>-0.022</td><td>-0.256</td></tr>\n",
       "\t<tr><td>-0.219</td><td>-0.065</td><td> 0.061</td><td> 0.177</td><td>-0.133</td></tr>\n",
       "\t<tr><td>-0.211</td><td>-0.098</td><td> 0.024</td><td> 0.184</td><td>-0.150</td></tr>\n",
       "\t<tr><td>-0.199</td><td> 0.000</td><td> 0.147</td><td> 0.036</td><td>-0.166</td></tr>\n",
       "\t<tr><td>-0.183</td><td>-0.036</td><td>-0.032</td><td> 0.068</td><td>-0.188</td></tr>\n",
       "</tbody>\n",
       "</table>\n"
      ],
      "text/latex": [
       "\\begin{tabular}{lllll}\n",
       "\t -0.212 &  0.064 &  0.217 & -0.022 & -0.256\\\\\n",
       "\t -0.219 & -0.065 &  0.061 &  0.177 & -0.133\\\\\n",
       "\t -0.211 & -0.098 &  0.024 &  0.184 & -0.150\\\\\n",
       "\t -0.199 &  0.000 &  0.147 &  0.036 & -0.166\\\\\n",
       "\t -0.183 & -0.036 & -0.032 &  0.068 & -0.188\\\\\n",
       "\\end{tabular}\n"
      ],
      "text/markdown": [
       "\n",
       "| -0.212 |  0.064 |  0.217 | -0.022 | -0.256 | \n",
       "| -0.219 | -0.065 |  0.061 |  0.177 | -0.133 | \n",
       "| -0.211 | -0.098 |  0.024 |  0.184 | -0.150 | \n",
       "| -0.199 |  0.000 |  0.147 |  0.036 | -0.166 | \n",
       "| -0.183 | -0.036 | -0.032 |  0.068 | -0.188 | \n",
       "\n",
       "\n"
      ],
      "text/plain": [
       "     [,1]   [,2]   [,3]   [,4]   [,5]  \n",
       "[1,] -0.212  0.064  0.217 -0.022 -0.256\n",
       "[2,] -0.219 -0.065  0.061  0.177 -0.133\n",
       "[3,] -0.211 -0.098  0.024  0.184 -0.150\n",
       "[4,] -0.199  0.000  0.147  0.036 -0.166\n",
       "[5,] -0.183 -0.036 -0.032  0.068 -0.188"
      ]
     },
     "metadata": {},
     "output_type": "display_data"
    }
   ],
   "source": [
    "New <- R - diag(psiint,nrow = 40)\n",
    "eigs <- eigen(New)\n",
    "head(round(eigs$values, 2))\n",
    "round(eigs$vectors, 3)[1:5, 1:5]"
   ]
  },
  {
   "cell_type": "markdown",
   "metadata": {},
   "source": [
    "We will then use this new matrix to compute our eigenvalues and vectors, and subsequently create our new loadings matrix. In a similar way, we will determine the specific variances and communalities, and then rotate the loadings matrix.\n",
    "\n"
   ]
  },
  {
   "cell_type": "code",
   "execution_count": 28,
   "metadata": {
    "autoscroll": false
   },
   "outputs": [
    {
     "name": "stdout",
     "output_type": "stream",
     "text": [
      "\n",
      "Loadings:\n",
      "      [,1]   [,2]   [,3]   [,4]   [,5]   [,6]   [,7]   [,8]   [,9]  \n",
      " [1,]                                                   0.713       \n",
      " [2,] -0.635                                                        \n",
      " [3,] -0.662                                                        \n",
      " [4,]                                           -0.574              \n",
      " [5,] -0.549                                                        \n",
      " [6,] -0.554                                                        \n",
      " [7,]  0.500                                                        \n",
      " [8,]                                                               \n",
      " [9,]                                                          0.368\n",
      "[10,]                                                               \n",
      "[11,]                              0.636                            \n",
      "[12,]                              0.729                            \n",
      "[13,]                              0.460                            \n",
      "[14,]                                                   0.717       \n",
      "[15,]                                           -0.620              \n",
      "[16,]                             -0.739                            \n",
      "[17,]                             -0.360         0.505              \n",
      "[18,]                             -0.650                            \n",
      "[19,]                             -0.688                            \n",
      "[20,]                                                          0.371\n",
      "[21,]                      -0.466                                   \n",
      "[22,]                      -0.625                                   \n",
      "[23,]                      -0.627                                   \n",
      "[24,]                      -0.597                                   \n",
      "[25,]                0.649                                          \n",
      "[26,]                0.754                                          \n",
      "[27,]                0.732                                          \n",
      "[28,]                0.635                                          \n",
      "[29,]                0.362                                          \n",
      "[30,]                0.578                                          \n",
      "[31,]                                     0.727                     \n",
      "[32,]        -0.375                       0.730                     \n",
      "[33,]        -0.609                                                 \n",
      "[34,]        -0.711                                                 \n",
      "[35,]        -0.686                                                 \n",
      "[36,]        -0.588                                                 \n",
      "[37,]        -0.582                                                 \n",
      "[38,]        -0.581                                                 \n",
      "[39,]        -0.631                                                 \n",
      "[40,]        -0.651                                                 \n",
      "\n",
      "                [,1]  [,2]  [,3]  [,4]  [,5]  [,6]  [,7]  [,8]  [,9]\n",
      "SS loadings    2.508 3.963 3.089 1.957 3.511 1.279 1.401 1.402 0.995\n",
      "Proportion Var 0.063 0.099 0.077 0.049 0.088 0.032 0.035 0.035 0.025\n",
      "Cumulative Var 0.063 0.162 0.239 0.288 0.376 0.408 0.443 0.478 0.503\n"
     ]
    }
   ],
   "source": [
    "eigenvectors2 <- eigen(New)$vectors[,1:9]\n",
    "loadings2 <- eigenvectors2 %*% (diag(1,nrow = 9)*(eigen(New)$values[1:9])^.5)\n",
    "hisq2 <- apply(apply(loadings2, 2, function(x) x^2), 1, sum)\n",
    "psi <- rep(1,40) - hisq\n",
    "loadings2rot <- print(varimax(loadings2)$loadings,cutoff = .35)"
   ]
  },
  {
   "cell_type": "markdown",
   "metadata": {},
   "source": [
    "We can see a similar pattern to that of the principal component method above. The variance is not as well explained using this method, but when we perform the next step (using iterations of the above method), it will become a better representation of the data. Again, we can see similar relationships between the first five factors and the variables, but it is not all encompassing."
   ]
  },
  {
   "cell_type": "markdown",
   "metadata": {},
   "source": [
    "### Principal Factors Method"
   ]
  },
  {
   "cell_type": "markdown",
   "metadata": {},
   "source": [
    "We will now use a similar method to above, but iterate it each time and update it with the new initial squared loadings. That is, when we calculate the new $h^2_i$ values, we do the iterate until it converges. For completeness, I perform the process 100 times below."
   ]
  },
  {
   "cell_type": "code",
   "execution_count": 30,
   "metadata": {
    "autoscroll": false
   },
   "outputs": [
    {
     "data": {
      "text/html": [
       "<table>\n",
       "<tbody>\n",
       "\t<tr><td>-0.634</td><td> 0.130</td><td> 0.342</td><td>-0.038</td><td>-0.299</td></tr>\n",
       "\t<tr><td>-0.650</td><td>-0.126</td><td> 0.095</td><td> 0.225</td><td>-0.120</td></tr>\n",
       "\t<tr><td>-0.629</td><td>-0.191</td><td> 0.040</td><td> 0.241</td><td>-0.147</td></tr>\n",
       "\t<tr><td>-0.591</td><td> 0.003</td><td> 0.226</td><td> 0.040</td><td>-0.169</td></tr>\n",
       "\t<tr><td>-0.540</td><td>-0.070</td><td>-0.047</td><td> 0.089</td><td>-0.185</td></tr>\n",
       "</tbody>\n",
       "</table>\n"
      ],
      "text/latex": [
       "\\begin{tabular}{lllll}\n",
       "\t -0.634 &  0.130 &  0.342 & -0.038 & -0.299\\\\\n",
       "\t -0.650 & -0.126 &  0.095 &  0.225 & -0.120\\\\\n",
       "\t -0.629 & -0.191 &  0.040 &  0.241 & -0.147\\\\\n",
       "\t -0.591 &  0.003 &  0.226 &  0.040 & -0.169\\\\\n",
       "\t -0.540 & -0.070 & -0.047 &  0.089 & -0.185\\\\\n",
       "\\end{tabular}\n"
      ],
      "text/markdown": [
       "\n",
       "| -0.634 |  0.130 |  0.342 | -0.038 | -0.299 | \n",
       "| -0.650 | -0.126 |  0.095 |  0.225 | -0.120 | \n",
       "| -0.629 | -0.191 |  0.040 |  0.241 | -0.147 | \n",
       "| -0.591 |  0.003 |  0.226 |  0.040 | -0.169 | \n",
       "| -0.540 | -0.070 | -0.047 |  0.089 | -0.185 | \n",
       "\n",
       "\n"
      ],
      "text/plain": [
       "     [,1]   [,2]   [,3]   [,4]   [,5]  \n",
       "[1,] -0.634  0.130  0.342 -0.038 -0.299\n",
       "[2,] -0.650 -0.126  0.095  0.225 -0.120\n",
       "[3,] -0.629 -0.191  0.040  0.241 -0.147\n",
       "[4,] -0.591  0.003  0.226  0.040 -0.169\n",
       "[5,] -0.540 -0.070 -0.047  0.089 -0.185"
      ]
     },
     "metadata": {},
     "output_type": "display_data"
    }
   ],
   "source": [
    "hinit2 <- 1 - 1/diag(solve(R))\n",
    "for (i in 1:100) {\n",
    "  New2 <- R - diag((1 - hinit2),nrow = 40)\n",
    "  eigenvectors3 <- eigen(New2)$vectors[,1:9]\n",
    "  loadings3 <- eigenvectors3 %*% (diag(1,nrow = 9)*(eigen(New2)$values[1:9])^.5)\n",
    "  hinit2 <- apply(apply(loadings3, 2, function(x) x^2), 1, sum)\n",
    "}\n",
    "hisq3 = hinit2\n",
    "round(loadings3, 3)[1:5, 1:5]"
   ]
  },
  {
   "cell_type": "code",
   "execution_count": 32,
   "metadata": {
    "autoscroll": false
   },
   "outputs": [
    {
     "data": {
      "text/html": [
       "<ol class=list-inline>\n",
       "\t<li>0.829</li>\n",
       "\t<li>0.602</li>\n",
       "\t<li>0.638</li>\n",
       "\t<li>0.568</li>\n",
       "\t<li>0.43</li>\n",
       "\t<li>0.454</li>\n",
       "</ol>\n"
      ],
      "text/latex": [
       "\\begin{enumerate*}\n",
       "\\item 0.829\n",
       "\\item 0.602\n",
       "\\item 0.638\n",
       "\\item 0.568\n",
       "\\item 0.43\n",
       "\\item 0.454\n",
       "\\end{enumerate*}\n"
      ],
      "text/markdown": [
       "1. 0.829\n",
       "2. 0.602\n",
       "3. 0.638\n",
       "4. 0.568\n",
       "5. 0.43\n",
       "6. 0.454\n",
       "\n",
       "\n"
      ],
      "text/plain": [
       "[1] 0.829 0.602 0.638 0.568 0.430 0.454"
      ]
     },
     "metadata": {},
     "output_type": "display_data"
    }
   ],
   "source": [
    "head(round(hisq3, 3))                     "
   ]
  },
  {
   "cell_type": "code",
   "execution_count": 35,
   "metadata": {
    "autoscroll": false
   },
   "outputs": [
    {
     "name": "stdout",
     "output_type": "stream",
     "text": [
      "\n",
      "Loadings:\n",
      "      [,1]   [,2]   [,3]   [,4]   [,5]   [,6]   [,7]   [,8]   [,9]  \n",
      " [1,]                              0.328                0.771       \n",
      " [2,] -0.639                                                        \n",
      " [3,] -0.688 -0.300                                                 \n",
      " [4,]                                            0.593              \n",
      " [5,] -0.551                                                        \n",
      " [6,] -0.555                                                        \n",
      " [7,]  0.487                                                  -0.362\n",
      " [8,]                                                         -0.357\n",
      " [9,]                                                         -0.376\n",
      "[10,]                                                         -0.326\n",
      "[11,]                              0.605                            \n",
      "[12,]                              0.755                            \n",
      "[13,]                              0.463                            \n",
      "[14,]                              0.324                0.749       \n",
      "[15,]                              0.300         0.703              \n",
      "[16,]                             -0.757                            \n",
      "[17,]                             -0.361        -0.509        -0.340\n",
      "[18,]                             -0.624                            \n",
      "[19,]                             -0.706                            \n",
      "[20,]                             -0.327                      -0.398\n",
      "[21,]               -0.350 -0.455                                   \n",
      "[22,]                      -0.647                                   \n",
      "[23,]                      -0.662                                   \n",
      "[24,]                      -0.606                                   \n",
      "[25,]                0.653                                          \n",
      "[26,]                0.771                                          \n",
      "[27,]                0.734                                          \n",
      "[28,]                0.641                                          \n",
      "[29,]                0.347                                          \n",
      "[30,]                0.573                                          \n",
      "[31,]                                     0.730                     \n",
      "[32,]        -0.367                       0.834                     \n",
      "[33,]        -0.606                                                 \n",
      "[34,]        -0.717                                                 \n",
      "[35,]        -0.698                                                 \n",
      "[36,]        -0.592                                                 \n",
      "[37,]        -0.575                                                 \n",
      "[38,]        -0.578                                                 \n",
      "[39,]        -0.628                                                 \n",
      "[40,]        -0.649                                                 \n",
      "\n",
      "                [,1]  [,2]  [,3]  [,4]  [,5]  [,6]  [,7]  [,8]  [,9]\n",
      "SS loadings    2.456 3.967 3.049 1.971 3.529 1.417 1.485 1.511 1.206\n",
      "Proportion Var 0.061 0.099 0.076 0.049 0.088 0.035 0.037 0.038 0.030\n",
      "Cumulative Var 0.061 0.161 0.237 0.286 0.374 0.410 0.447 0.485 0.515\n"
     ]
    }
   ],
   "source": [
    "loadings3rot <- print(varimax(loadings3)$loadings, cutoff=.3)"
   ]
  },
  {
   "cell_type": "markdown",
   "metadata": {},
   "source": [
    "Again, we can see a similar pattern to the two above methods. The iterated method also created loadings which are closer to the principal component method. There are a few differences; for instance, in the iterated method we see that the third variable is part of both the 1st and 2nd factor, which wasnâ€™t present in the principal component method nor the principal factor method. Still, the analysis from before holds: much of the expected separation is contained in the factors (or some combination of them), but there are other correlations which those four factors cannot account for.\n",
    "\n",
    "I will use the rotated matrix above to make some considerations about the level of effectiveness of the analysis. We know that the main goal of factor analysis is to acquire factors for which each variable can be loaded into only one factor. If we can do this, we have essentially reached our goal â€“ we have separated the variables completely into a smaller number of factors which accounts for the covariates between them.\n",
    "\n",
    "However, in practice, this is very difficult to achieve. In the loading matrix above, there are many instance where the variables correlate strongly with more than one factor at once -- that is there is no clear distinction between what these questions relate to in terms of our factors. This indicates that factor analysis is not doing a very good job at separating the factors with the number of factors we have used."
   ]
  },
  {
   "cell_type": "markdown",
   "metadata": {},
   "source": [
    "# Some Considerations"
   ]
  },
  {
   "cell_type": "markdown",
   "metadata": {},
   "source": [
    "In an ideal situation, we would use a very small value of $m$ relative to the amount of variables $p$. Although $m = 9$ performed decently well, it is quite a large number of factors. Even with nine factors, we see that the factor analysis was only able to account for around 60% of the covariation of the original variables. A fundamental issue with factor analysis is that the correlation matrix $R$ contains both structure and error, and factor analysis is not able to separate the two. Thus, the original assumptions of no relationships between the errors and the factors are too optimistic, as this rarely happens in practice.\n",
    "\n",
    "As a result, the loadings above are quite difficult to interpret. It is difficult to say what the exact factors are in plain English. Here, we can see some of the difficulty in working with factor analysis in practice â€“ it is often questioned if these factors truly exist."
   ]
  },
  {
   "cell_type": "markdown",
   "metadata": {},
   "source": [
    "# Conclusions and Relation to Psychological Tests"
   ]
  },
  {
   "cell_type": "code",
   "execution_count": 37,
   "metadata": {
    "autoscroll": false
   },
   "outputs": [
    {
     "name": "stdout",
     "output_type": "stream",
     "text": [
      "\n",
      "Loadings:\n",
      "      [,1]   [,2]   [,3]   [,4]   [,5]   [,6]   [,7]   [,8]   [,9]  \n",
      " [1,]                             -0.408                      -0.522\n",
      " [2,] -0.681                                                        \n",
      " [3,] -0.713                                                        \n",
      " [4,]                                            0.744              \n",
      " [5,] -0.681                                                        \n",
      " [6,] -0.655                                                        \n",
      " [7,]  0.506                                                   0.486\n",
      " [8,]                                                          0.578\n",
      " [9,]  0.302                                            0.681       \n",
      "[10,]                                           -0.407  0.481       \n",
      "[11,]                      -0.313 -0.728                            \n",
      "[12,]                             -0.753                            \n",
      "[13,]                             -0.478         0.355              \n",
      "[14,]                             -0.396         0.337        -0.501\n",
      "[15,]                                            0.745              \n",
      "[16,]                              0.759                            \n",
      "[17,]                              0.338        -0.618              \n",
      "[18,]                              0.727                0.301       \n",
      "[19,]                              0.722                            \n",
      "[20,]                              0.360                0.327  0.457\n",
      "[21,]                0.397 -0.534                                   \n",
      "[22,]                      -0.718                                   \n",
      "[23,]                      -0.747                                   \n",
      "[24,]                      -0.688                                   \n",
      "[25,]               -0.716                                          \n",
      "[26,]               -0.784                                          \n",
      "[27,]               -0.769                                          \n",
      "[28,]               -0.731                                          \n",
      "[29,]               -0.391                              0.326       \n",
      "[30,]               -0.643                                          \n",
      "[31,]                                     0.794                     \n",
      "[32,]         0.349                       0.786                     \n",
      "[33,]         0.657                                                 \n",
      "[34,]         0.742                                                 \n",
      "[35,]         0.765                                                 \n",
      "[36,]         0.616                                                 \n",
      "[37,]         0.642                                                 \n",
      "[38,]         0.623                                                 \n",
      "[39,]         0.685                                                 \n",
      "[40,]         0.698                                                 \n",
      "\n",
      "                [,1]  [,2]  [,3]  [,4]  [,5]  [,6]  [,7]  [,8]  [,9]\n",
      "SS loadings    2.970 4.308 3.507 2.557 3.954 1.746 2.289 1.437 1.819\n",
      "Proportion Var 0.074 0.108 0.088 0.064 0.099 0.044 0.057 0.036 0.045\n",
      "Cumulative Var 0.074 0.182 0.270 0.334 0.432 0.476 0.533 0.569 0.615\n"
     ]
    }
   ],
   "source": [
    "print(varimax(loadings)$loadings, cutoff=.3)"
   ]
  },
  {
   "cell_type": "markdown",
   "metadata": {},
   "source": [
    "We know that the original variables were constructed considering four groups (assertiveness, social confidence, adventurousness, and dominance). These were the intended characteristics that the statements were testing for. Above, we can see how factors 1-5 capture a lot of the variables in each set. So, we could say that factor 1 represents assertiveness, factor 2 represents dominance, factor 3 and 4 represent adventurousness, and factor 5 represents social confidence.\n",
    "\n",
    "However, this would not be so accurate, as there are other factors to consider as well. We can see that factors 6-9 have members from all the different groups. This suggests that the relationship between the variables was not so simple as we once thought. Additionally, variable 10 failed to have a loading greater than .3 into any of the factors, which suggests that even 9 factors are inadequate to capture the variation in the data.\n",
    "\n",
    "In this example, which seemed relatively straightforward, we see that problems emerged quite quickly. What, for instance, is factor six? And why are factors 3 and 4 separated? It is not so clear that our prior ideas about the factors are accurate.\n",
    "\n",
    "One thing is clear, though. The four factors used to create the questionnaire are insufficient to truly describe the structure of the data. To say that these statements measure these factors would be jumping to conclusions too quickly. Doing so is, in a way, oversimplifying the data.\n",
    "\n",
    "In conclusion, we have learned that this dataset cannot be so simply separated into the four purported factors. In fact, even separating the variables into 9 factors can only account for 60% of the variation of the variables. We can see that while factor analysis is a powerful technique, it is very dependent on the dataset which it is performed on. The self-checking property of the assumptions of factor analysis ensures that only models which fit the assumptions will produce results which separate the variables adequately to the different factors.\n"
   ]
  }
 ],
 "metadata": {
  "Rmd_header": {
   "author": "Sean Ammirati",
   "date": "2018/09/16",
   "status": "Published",
   "summary": "A project detailing the methodolgy and use of Factor Analysis.",
   "title": "Factor Analysis"
  },
  "kernelspec": {
   "display_name": "R [conda env:r-environment]",
   "language": "R",
   "name": "conda-env-r-environment-r"
  },
  "language_info": {
   "codemirror_mode": "r",
   "file_extension": ".r",
   "mimetype": "text/x-r-source",
   "name": "R",
   "pygments_lexer": "r",
   "version": "3.5.1"
  },
  "latex_envs": {
   "LaTeX_envs_menu_present": true,
   "autoclose": false,
   "autocomplete": true,
   "bibliofile": "biblio.bib",
   "cite_by": "apalike",
   "current_citInitial": 1,
   "eqLabelWithNumbers": true,
   "eqNumInitial": 1,
   "hotkeys": {
    "equation": "Ctrl-E",
    "itemize": "Ctrl-I"
   },
   "labels_anchors": false,
   "latex_user_defs": false,
   "report_style_numbering": false,
   "user_envs_cfg": false
  },
  "toc": {
   "base_numbering": 1,
   "nav_menu": {},
   "number_sections": true,
   "sideBar": true,
   "skip_h1_title": false,
   "title_cell": "Table of Contents",
   "title_sidebar": "Contents",
   "toc_cell": false,
   "toc_position": {},
   "toc_section_display": true,
   "toc_window_display": false
  },
  "varInspector": {
   "cols": {
    "lenName": 16,
    "lenType": 16,
    "lenVar": 40
   },
   "kernels_config": {
    "python": {
     "delete_cmd_postfix": "",
     "delete_cmd_prefix": "del ",
     "library": "var_list.py",
     "varRefreshCmd": "print(var_dic_list())"
    },
    "r": {
     "delete_cmd_postfix": ") ",
     "delete_cmd_prefix": "rm(",
     "library": "var_list.r",
     "varRefreshCmd": "cat(var_dic_list()) "
    }
   },
   "types_to_exclude": [
    "module",
    "function",
    "builtin_function_or_method",
    "instance",
    "_Feature"
   ],
   "window_display": false
  }
 },
 "nbformat": 4,
 "nbformat_minor": 1
}
