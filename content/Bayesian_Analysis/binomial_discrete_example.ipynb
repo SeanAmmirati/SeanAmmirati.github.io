{
 "cells": [
  {
   "cell_type": "markdown",
   "metadata": {},
   "source": [
    "# A Simple Illustration of Bayesian Probability with a Binomial Distribution"
   ]
  },
  {
   "cell_type": "markdown",
   "metadata": {},
   "source": [
    "Suppose we have a discrete set of possible probabilities $q$ of an event E with some prior beliefs about which probability is the true probability of the event E. That is, we have a **probability mass function** that takes discrete values within $q$ and maps them to a discrete probability space, where \n",
    "\n",
    "$$\n",
    "P(p=w) = 0, \\forall{w \\notin q}\n",
    "$$\n",
    "\n",
    "$$\n",
    "\\sum_{w}{P(p=w)} = 1, w \\in q\n",
    "$$\n",
    "\n",
    "We then observe some independent events and wish to update our prior beliefs accordingly. We observe $k$ occurences over $n$ trials, and wish to update our probabilities accordingly.\n",
    "\n",
    "From Bayes' Rule, we know that\n",
    "\n",
    "$$\n",
    "P(p=w | k, n) = \\frac{P(k | p=w, n)P(p=w|n)}{P(k|n)}\n",
    "$$\n",
    "\n",
    "We can now use this information to calculate our posterior of $p$ by using the fact that independent events occuring with some probability $p$ follow a Bernoulli distribution, and so the total number of events follow a binomial distribution. Using this for $P(n, k|p=w)$, we can now solve for our posterior for each defined value of p. \n",
    "\n",
    "This is implemented below:"
   ]
  },
  {
   "cell_type": "markdown",
   "metadata": {},
   "source": [
    "# Code to Find Posterior Distribution Given Binomial Prior"
   ]
  },
  {
   "cell_type": "code",
   "execution_count": 1,
   "metadata": {
    "ExecuteTime": {
     "end_time": "2019-01-08T02:32:50.455924Z",
     "start_time": "2019-01-08T02:32:50.387Z"
    },
    "autoscroll": false
   },
   "outputs": [],
   "source": [
    "## Finds posterior distribution of observed values assuming that k follows a binomial distribution. p is discrete in this case.\n",
    "\n",
    "numerator <- function(k, n, posprobs, probsofprobs){\n",
    "  ## finds the numerator -- ie P(k|p)P(p)\n",
    "  ## k (integer) : the total number of observed successes.\n",
    "  ## n (integer) : the total number of observed trials.\n",
    "  ## posprobs (vector): possible p values associated with the random variable k.\n",
    "  ## probsofprobs (vector): this is our prior, mapping a probability to each possible probability\n",
    "\n",
    "  function(p){\n",
    "    ## For a particular p, this will find the posterior probability of p given observed values. This is a function generator -- given\n",
    "    ## values of k and n, we can then find the probability of any particular p.\n",
    "    x <- posprobs[p]\n",
    "    px <- probsofprobs[p]\n",
    "\n",
    "    res <- (x^k)*((1 - x)^(n-k))*px\n",
    "    return(res)\n",
    "  }\n",
    "}\n",
    "\n",
    "denominator <- function(k,n, posprobs, probsofprobs){\n",
    "  ## Finds the denominator, the multiplicative constant. Same for all values of p. P(k)\n",
    "  sum(sapply(X = 1:length(posprobs),FUN= numerator(k,n, posprobs, probsofprobs)))\n",
    "}\n",
    "\n",
    "probabilityfinder <- function(k,n,p, posprobs, probsofprobs){\n",
    "  ## Finds the posterior probability of a particular p value.\n",
    "  numerator(k,n, posprobs, probsofprobs)(p)/denominator(k,n, posprobs, probsofprobs)\n",
    "}\n",
    "\n",
    "posterior <- function(k,n, posprobs, probsofprobs){\n",
    "  ## Finds the posterior probability mass function of the p values.\n",
    "  sapply(X = 1:length(posprobs),FUN=function(p) probabilityfinder(k,n,p, posprobs, probsofprobs))\n",
    "}\n",
    "\n",
    "log_transf_numerator <- function(k,n){\n",
    "  ## finds the numerator -- ie P(k|p)P(p), using log transform to avoid machine zeros\n",
    "  ## k (integer) : the total number of observed successes.\n",
    "  ## n (integer) : the total number of observed trials.\n",
    "  ## posprobs (vector): possible p values associated with the random variable k.\n",
    "  ## probsofprobs (vector): this is our prior, mapping a probability to each possible probability\n",
    "  function(p){\n",
    "    ## For a particular p, this will find the posterior probability of p given observed values. This is a function generator -- given\n",
    "    ## values of k and n, we can then find the probability of any particular p.\n",
    "\n",
    "    x <- posprobs[p]\n",
    "    px <- probsofprobs[p]\n",
    "\n",
    "    mx <- max(sapply(posprobs, function(pr) k*log(pr) + (n - k)*log(1 - pr)))\n",
    "\n",
    "    res <- exp(k*log(x) + (n - k)*log(1 - x) - mx) * probsofprobs[p]\n",
    "    return(res)\n",
    "  }\n",
    "}\n",
    "\n",
    "log_transf_denominator <- function(k,n){\n",
    "  ## Finds the denominator, the multiplicative constant, using log transform for machine zeros. Same for all values of p. P(k)\n",
    "\n",
    "  sum(sapply(X = 1:length(posprobs),FUN= log_transf_numerator(k,n)))\n",
    "}\n",
    "\n",
    "log_transf_probabilitydist <- function(k,n,p){\n",
    "  ## Finds the posterior probability of a particular p value using log transform.\n",
    "  log_transf_numerator(k,n)(p)/log_transf_denominator(k,n)\n",
    "}\n",
    "\n",
    "log_transf_posterior <- function(k,n){\n",
    "  ## Finds the posterior probability mass function of the p values using log transform\n",
    "\n",
    "  sapply(X = 1:length(posprobs),FUN=function(x) log_transf_probabilitydist(k,n,x))\n",
    "}\n"
   ]
  },
  {
   "cell_type": "markdown",
   "metadata": {},
   "source": [
    "\n",
    "# Example: Thunderstorms\n",
    "\n",
    "Consider if we observed 11 positive events in 27 days -- as an example, the number of thunderstorms in a month. We want to estimate the probability of a thunderstorm given the new information. Assuming weather each day is independent (which is a simplifying assumption), we can assume that the number of thunderstorms in $n$ days can be modeled by a binomial distribution. \n",
    "\n",
    "Suppose we have the following **prior** probability mass function about the discrete values of $p$:\n",
    "\n",
    "[\\\n",
    "P(p = w) = \n",
    "\\begin{cases}\n",
    "    .07 ,& \\text{if } w=.05\\\\\n",
    "    .13 ,& \\text{if } w=.15\\\\\n",
    "    .26 ,& \\text{if } w=.25\\\\\n",
    "    .26 ,& \\text{if } w=.35\\\\\n",
    "    .13 ,& \\text{if } w=.45\\\\\n",
    "    .07 ,& \\text{if } w=.55\\\\\n",
    "    .02 ,& \\text{if } w=.65\\\\\n",
    "    .02 ,& \\text{if } w=.75\\\\\n",
    "    .02 ,& \\text{if } w=.85\\\\\n",
    "    .02 ,& \\text{if } w=.95\\\\\n",
    "    0,              & \\text{otherwise}\n",
    "\\end{cases}\n",
    "\\]\n",
    "\n",
    "\n",
    "If we believe prior to this that the distribution looks as it does above (with the highest belief in 35 and 45%), we can now find the posterior of the probabilities after observing the 11 thunderstorms as follows:\n"
   ]
  },
  {
   "cell_type": "code",
   "execution_count": 2,
   "metadata": {
    "ExecuteTime": {
     "end_time": "2019-01-08T02:32:52.344770Z",
     "start_time": "2019-01-08T02:32:52.172Z"
    },
    "autoscroll": false
   },
   "outputs": [
    {
     "data": {
      "text/html": [
       "<ol class=list-inline>\n",
       "\t<li>0</li>\n",
       "\t<li>0.002</li>\n",
       "\t<li>0.128</li>\n",
       "\t<li>0.524</li>\n",
       "\t<li>0.287</li>\n",
       "\t<li>0.057</li>\n",
       "\t<li>0.002</li>\n",
       "\t<li>0</li>\n",
       "\t<li>0</li>\n",
       "\t<li>0</li>\n",
       "</ol>\n"
      ],
      "text/latex": [
       "\\begin{enumerate*}\n",
       "\\item 0\n",
       "\\item 0.002\n",
       "\\item 0.128\n",
       "\\item 0.524\n",
       "\\item 0.287\n",
       "\\item 0.057\n",
       "\\item 0.002\n",
       "\\item 0\n",
       "\\item 0\n",
       "\\item 0\n",
       "\\end{enumerate*}\n"
      ],
      "text/markdown": [
       "1. 0\n",
       "2. 0.002\n",
       "3. 0.128\n",
       "4. 0.524\n",
       "5. 0.287\n",
       "6. 0.057\n",
       "7. 0.002\n",
       "8. 0\n",
       "9. 0\n",
       "10. 0\n",
       "\n",
       "\n"
      ],
      "text/plain": [
       " [1] 0.000 0.002 0.128 0.524 0.287 0.057 0.002 0.000 0.000 0.000"
      ]
     },
     "metadata": {},
     "output_type": "display_data"
    }
   ],
   "source": [
    "posprobs <- c(.05,.15,.25,.35,.45,.55,.65,.75,.85,.95)\n",
    "probsofprobs <- c(.07,.13,.26,.26,.13,.07,.02,.02,.02,.02)\n",
    "\n",
    "pos <- posterior(11,27,posprobs, probsofprobs)\n",
    "round(pos, 3)"
   ]
  },
  {
   "cell_type": "markdown",
   "metadata": {},
   "source": [
    "So we now believe with 0.524 probability that the actual $p$ is .35. This means the data supports the assumption of .35 chance of thunderstorms a day, given our prior beliefs and the independence of events.\n",
    "\n",
    "\n",
    "# Behaviors for different $n$ and $k$"
   ]
  },
  {
   "cell_type": "markdown",
   "metadata": {},
   "source": [
    "Now, let us investigate the behaviors for various sample sizes, $n$, and number of observed thunderstorms $k$. "
   ]
  },
  {
   "cell_type": "code",
   "execution_count": 3,
   "metadata": {
    "ExecuteTime": {
     "end_time": "2019-01-08T02:32:54.289256Z",
     "start_time": "2019-01-08T02:32:53.888Z"
    },
    "autoscroll": false
   },
   "outputs": [],
   "source": [
    "n <- c(10,50,100,150,200,300,500)\n",
    "k <- lapply(n, function(n) seq(n/10,n,n/10))\n",
    "col_names = as.factor(1:10 /10)\n",
    "row_names = paste('P(p=', posprobs, ')')\n",
    "list_names = paste('n=', n)\n",
    "\n",
    "iter_j = 1:10; names(iter_j) = col_names\n",
    "iter_i = 1:7; names(iter_i) = list_names\n",
    "dimthreedfs = lapply(iter_i,function(i) data.frame(sapply(iter_j, function(j) posterior(k[[i]][j],n[i], posprobs, probsofprobs)), check.names=FALSE))"
   ]
  },
  {
   "cell_type": "code",
   "execution_count": 4,
   "metadata": {},
   "outputs": [],
   "source": [
    "dimthreedfs = lapply(dimthreedfs, function(y) round(y, 3))"
   ]
  },
  {
   "cell_type": "code",
   "execution_count": 5,
   "metadata": {},
   "outputs": [
    {
     "data": {
      "text/html": [
       "<dl>\n",
       "\t<dt>$`n= 10`</dt>\n",
       "\t\t<dd><table>\n",
       "<thead><tr><th scope=col>0.1</th><th scope=col>0.2</th><th scope=col>0.3</th><th scope=col>0.4</th><th scope=col>0.5</th><th scope=col>0.6</th><th scope=col>0.7</th><th scope=col>0.8</th><th scope=col>0.9</th><th scope=col>1</th></tr></thead>\n",
       "<tbody>\n",
       "\t<tr><td>0.160</td><td>0.030</td><td>0.004</td><td>0.000</td><td>0.000</td><td>0.000</td><td>0.000</td><td>0.000</td><td>0.000</td><td>0.000</td></tr>\n",
       "\t<tr><td>0.328</td><td>0.209</td><td>0.096</td><td>0.035</td><td>0.010</td><td>0.002</td><td>0.000</td><td>0.000</td><td>0.000</td><td>0.000</td></tr>\n",
       "\t<tr><td>0.354</td><td>0.427</td><td>0.371</td><td>0.255</td><td>0.141</td><td>0.062</td><td>0.020</td><td>0.004</td><td>0.000</td><td>0.000</td></tr>\n",
       "\t<tr><td>0.137</td><td>0.266</td><td>0.373</td><td>0.415</td><td>0.372</td><td>0.263</td><td>0.136</td><td>0.043</td><td>0.006</td><td>0.000</td></tr>\n",
       "\t<tr><td>0.020</td><td>0.058</td><td>0.123</td><td>0.208</td><td>0.283</td><td>0.304</td><td>0.239</td><td>0.116</td><td>0.026</td><td>0.003</td></tr>\n",
       "\t<tr><td>0.002</td><td>0.009</td><td>0.030</td><td>0.075</td><td>0.152</td><td>0.245</td><td>0.287</td><td>0.208</td><td>0.070</td><td>0.010</td></tr>\n",
       "\t<tr><td>0.000</td><td>0.000</td><td>0.002</td><td>0.009</td><td>0.029</td><td>0.070</td><td>0.124</td><td>0.137</td><td>0.070</td><td>0.015</td></tr>\n",
       "\t<tr><td>0.000</td><td>0.000</td><td>0.000</td><td>0.002</td><td>0.011</td><td>0.043</td><td>0.123</td><td>0.219</td><td>0.182</td><td>0.064</td></tr>\n",
       "\t<tr><td>0.000</td><td>0.000</td><td>0.000</td><td>0.000</td><td>0.002</td><td>0.012</td><td>0.064</td><td>0.215</td><td>0.338</td><td>0.225</td></tr>\n",
       "\t<tr><td>0.000</td><td>0.000</td><td>0.000</td><td>0.000</td><td>0.000</td><td>0.000</td><td>0.005</td><td>0.058</td><td>0.306</td><td>0.683</td></tr>\n",
       "</tbody>\n",
       "</table>\n",
       "</dd>\n",
       "\t<dt>$`n= 50`</dt>\n",
       "\t\t<dd><table>\n",
       "<thead><tr><th scope=col>0.1</th><th scope=col>0.2</th><th scope=col>0.3</th><th scope=col>0.4</th><th scope=col>0.5</th><th scope=col>0.6</th><th scope=col>0.7</th><th scope=col>0.8</th><th scope=col>0.9</th><th scope=col>1</th></tr></thead>\n",
       "<tbody>\n",
       "\t<tr><td>0.232</td><td>0.000</td><td>0.000</td><td>0.000</td><td>0.000</td><td>0.000</td><td>0.000</td><td>0.000</td><td>0.000</td><td>0.000</td></tr>\n",
       "\t<tr><td>0.703</td><td>0.292</td><td>0.009</td><td>0.000</td><td>0.000</td><td>0.000</td><td>0.000</td><td>0.000</td><td>0.000</td><td>0.000</td></tr>\n",
       "\t<tr><td>0.065</td><td>0.646</td><td>0.471</td><td>0.054</td><td>0.001</td><td>0.000</td><td>0.000</td><td>0.000</td><td>0.000</td><td>0.000</td></tr>\n",
       "\t<tr><td>0.001</td><td>0.061</td><td>0.489</td><td>0.613</td><td>0.135</td><td>0.005</td><td>0.000</td><td>0.000</td><td>0.000</td><td>0.000</td></tr>\n",
       "\t<tr><td>0.000</td><td>0.000</td><td>0.031</td><td>0.311</td><td>0.555</td><td>0.160</td><td>0.006</td><td>0.000</td><td>0.000</td><td>0.000</td></tr>\n",
       "\t<tr><td>0.000</td><td>0.000</td><td>0.000</td><td>0.023</td><td>0.299</td><td>0.640</td><td>0.179</td><td>0.003</td><td>0.000</td><td>0.000</td></tr>\n",
       "\t<tr><td>0.000</td><td>0.000</td><td>0.000</td><td>0.000</td><td>0.010</td><td>0.180</td><td>0.408</td><td>0.047</td><td>0.000</td><td>0.000</td></tr>\n",
       "\t<tr><td>0.000</td><td>0.000</td><td>0.000</td><td>0.000</td><td>0.000</td><td>0.016</td><td>0.392</td><td>0.499</td><td>0.028</td><td>0.000</td></tr>\n",
       "\t<tr><td>0.000</td><td>0.000</td><td>0.000</td><td>0.000</td><td>0.000</td><td>0.000</td><td>0.015</td><td>0.451</td><td>0.602</td><td>0.004</td></tr>\n",
       "\t<tr><td>0.000</td><td>0.000</td><td>0.000</td><td>0.000</td><td>0.000</td><td>0.000</td><td>0.000</td><td>0.001</td><td>0.370</td><td>0.996</td></tr>\n",
       "</tbody>\n",
       "</table>\n",
       "</dd>\n",
       "\t<dt>$`n= 100`</dt>\n",
       "\t\t<dd><table>\n",
       "<thead><tr><th scope=col>0.1</th><th scope=col>0.2</th><th scope=col>0.3</th><th scope=col>0.4</th><th scope=col>0.5</th><th scope=col>0.6</th><th scope=col>0.7</th><th scope=col>0.8</th><th scope=col>0.9</th><th scope=col>1</th></tr></thead>\n",
       "<tbody>\n",
       "\t<tr><td>0.168</td><td>0.000</td><td>0.000</td><td>0.000</td><td>0.000</td><td>0.000</td><td>0.000</td><td>0.000</td><td>0.000</td><td>0    </td></tr>\n",
       "\t<tr><td>0.828</td><td>0.288</td><td>0.000</td><td>0.000</td><td>0.000</td><td>0.000</td><td>0.000</td><td>0.000</td><td>0.000</td><td>0    </td></tr>\n",
       "\t<tr><td>0.004</td><td>0.706</td><td>0.479</td><td>0.005</td><td>0.000</td><td>0.000</td><td>0.000</td><td>0.000</td><td>0.000</td><td>0    </td></tr>\n",
       "\t<tr><td>0.000</td><td>0.006</td><td>0.517</td><td>0.655</td><td>0.019</td><td>0.000</td><td>0.000</td><td>0.000</td><td>0.000</td><td>0    </td></tr>\n",
       "\t<tr><td>0.000</td><td>0.000</td><td>0.004</td><td>0.337</td><td>0.637</td><td>0.026</td><td>0.000</td><td>0.000</td><td>0.000</td><td>0    </td></tr>\n",
       "\t<tr><td>0.000</td><td>0.000</td><td>0.000</td><td>0.003</td><td>0.343</td><td>0.762</td><td>0.028</td><td>0.000</td><td>0.000</td><td>0    </td></tr>\n",
       "\t<tr><td>0.000</td><td>0.000</td><td>0.000</td><td>0.000</td><td>0.001</td><td>0.211</td><td>0.505</td><td>0.005</td><td>0.000</td><td>0    </td></tr>\n",
       "\t<tr><td>0.000</td><td>0.000</td><td>0.000</td><td>0.000</td><td>0.000</td><td>0.002</td><td>0.467</td><td>0.548</td><td>0.002</td><td>0    </td></tr>\n",
       "\t<tr><td>0.000</td><td>0.000</td><td>0.000</td><td>0.000</td><td>0.000</td><td>0.000</td><td>0.001</td><td>0.447</td><td>0.725</td><td>0    </td></tr>\n",
       "\t<tr><td>0.000</td><td>0.000</td><td>0.000</td><td>0.000</td><td>0.000</td><td>0.000</td><td>0.000</td><td>0.000</td><td>0.273</td><td>1    </td></tr>\n",
       "</tbody>\n",
       "</table>\n",
       "</dd>\n",
       "\t<dt>$`n= 150`</dt>\n",
       "\t\t<dd><table>\n",
       "<thead><tr><th scope=col>0.1</th><th scope=col>0.2</th><th scope=col>0.3</th><th scope=col>0.4</th><th scope=col>0.5</th><th scope=col>0.6</th><th scope=col>0.7</th><th scope=col>0.8</th><th scope=col>0.9</th><th scope=col>1</th></tr></thead>\n",
       "<tbody>\n",
       "\t<tr><td>0.111</td><td>0.000</td><td>0.000</td><td>0.000</td><td>0.000</td><td>0.000</td><td>0.000</td><td>0.000</td><td>0.000</td><td>0    </td></tr>\n",
       "\t<tr><td>0.889</td><td>0.269</td><td>0.000</td><td>0.000</td><td>0.000</td><td>0.000</td><td>0.000</td><td>0.000</td><td>0.000</td><td>0    </td></tr>\n",
       "\t<tr><td>0.000</td><td>0.730</td><td>0.471</td><td>0.000</td><td>0.000</td><td>0.000</td><td>0.000</td><td>0.000</td><td>0.000</td><td>0    </td></tr>\n",
       "\t<tr><td>0.000</td><td>0.001</td><td>0.529</td><td>0.656</td><td>0.002</td><td>0.000</td><td>0.000</td><td>0.000</td><td>0.000</td><td>0    </td></tr>\n",
       "\t<tr><td>0.000</td><td>0.000</td><td>0.001</td><td>0.343</td><td>0.648</td><td>0.004</td><td>0.000</td><td>0.000</td><td>0.000</td><td>0    </td></tr>\n",
       "\t<tr><td>0.000</td><td>0.000</td><td>0.000</td><td>0.000</td><td>0.349</td><td>0.782</td><td>0.004</td><td>0.000</td><td>0.000</td><td>0    </td></tr>\n",
       "\t<tr><td>0.000</td><td>0.000</td><td>0.000</td><td>0.000</td><td>0.000</td><td>0.214</td><td>0.527</td><td>0.000</td><td>0.000</td><td>0    </td></tr>\n",
       "\t<tr><td>0.000</td><td>0.000</td><td>0.000</td><td>0.000</td><td>0.000</td><td>0.000</td><td>0.469</td><td>0.575</td><td>0.000</td><td>0    </td></tr>\n",
       "\t<tr><td>0.000</td><td>0.000</td><td>0.000</td><td>0.000</td><td>0.000</td><td>0.000</td><td>0.000</td><td>0.424</td><td>0.812</td><td>0    </td></tr>\n",
       "\t<tr><td>0.000</td><td>0.000</td><td>0.000</td><td>0.000</td><td>0.000</td><td>0.000</td><td>0.000</td><td>0.000</td><td>0.188</td><td>1    </td></tr>\n",
       "</tbody>\n",
       "</table>\n",
       "</dd>\n",
       "\t<dt>$`n= 200`</dt>\n",
       "\t\t<dd><table>\n",
       "<thead><tr><th scope=col>0.1</th><th scope=col>0.2</th><th scope=col>0.3</th><th scope=col>0.4</th><th scope=col>0.5</th><th scope=col>0.6</th><th scope=col>0.7</th><th scope=col>0.8</th><th scope=col>0.9</th><th scope=col>1</th></tr></thead>\n",
       "<tbody>\n",
       "\t<tr><td>0.071</td><td>0.00 </td><td>0.000</td><td>0.000</td><td>0.00 </td><td>0.000</td><td>0.000</td><td>0.0  </td><td>0.000</td><td>0    </td></tr>\n",
       "\t<tr><td>0.929</td><td>0.25 </td><td>0.000</td><td>0.000</td><td>0.00 </td><td>0.000</td><td>0.000</td><td>0.0  </td><td>0.000</td><td>0    </td></tr>\n",
       "\t<tr><td>0.000</td><td>0.75 </td><td>0.461</td><td>0.000</td><td>0.00 </td><td>0.000</td><td>0.000</td><td>0.0  </td><td>0.000</td><td>0    </td></tr>\n",
       "\t<tr><td>0.000</td><td>0.00 </td><td>0.538</td><td>0.653</td><td>0.00 </td><td>0.000</td><td>0.000</td><td>0.0  </td><td>0.000</td><td>0    </td></tr>\n",
       "\t<tr><td>0.000</td><td>0.00 </td><td>0.000</td><td>0.346</td><td>0.65 </td><td>0.000</td><td>0.000</td><td>0.0  </td><td>0.000</td><td>0    </td></tr>\n",
       "\t<tr><td>0.000</td><td>0.00 </td><td>0.000</td><td>0.000</td><td>0.35 </td><td>0.787</td><td>0.000</td><td>0.0  </td><td>0.000</td><td>0    </td></tr>\n",
       "\t<tr><td>0.000</td><td>0.00 </td><td>0.000</td><td>0.000</td><td>0.00 </td><td>0.212</td><td>0.538</td><td>0.0  </td><td>0.000</td><td>0    </td></tr>\n",
       "\t<tr><td>0.000</td><td>0.00 </td><td>0.000</td><td>0.000</td><td>0.00 </td><td>0.000</td><td>0.461</td><td>0.6  </td><td>0.000</td><td>0    </td></tr>\n",
       "\t<tr><td>0.000</td><td>0.00 </td><td>0.000</td><td>0.000</td><td>0.00 </td><td>0.000</td><td>0.000</td><td>0.4  </td><td>0.876</td><td>0    </td></tr>\n",
       "\t<tr><td>0.000</td><td>0.00 </td><td>0.000</td><td>0.000</td><td>0.00 </td><td>0.000</td><td>0.000</td><td>0.0  </td><td>0.124</td><td>1    </td></tr>\n",
       "</tbody>\n",
       "</table>\n",
       "</dd>\n",
       "\t<dt>$`n= 300`</dt>\n",
       "\t\t<dd><table>\n",
       "<thead><tr><th scope=col>0.1</th><th scope=col>0.2</th><th scope=col>0.3</th><th scope=col>0.4</th><th scope=col>0.5</th><th scope=col>0.6</th><th scope=col>0.7</th><th scope=col>0.8</th><th scope=col>0.9</th><th scope=col>1</th></tr></thead>\n",
       "<tbody>\n",
       "\t<tr><td>0.028</td><td>0.000</td><td>0.000</td><td>0.000</td><td>0.00 </td><td>0.000</td><td>0.000</td><td>0.000</td><td>0.000</td><td>0    </td></tr>\n",
       "\t<tr><td>0.972</td><td>0.214</td><td>0.000</td><td>0.000</td><td>0.00 </td><td>0.000</td><td>0.000</td><td>0.000</td><td>0.000</td><td>0    </td></tr>\n",
       "\t<tr><td>0.000</td><td>0.786</td><td>0.442</td><td>0.000</td><td>0.00 </td><td>0.000</td><td>0.000</td><td>0.000</td><td>0.000</td><td>0    </td></tr>\n",
       "\t<tr><td>0.000</td><td>0.000</td><td>0.558</td><td>0.647</td><td>0.00 </td><td>0.000</td><td>0.000</td><td>0.000</td><td>0.000</td><td>0    </td></tr>\n",
       "\t<tr><td>0.000</td><td>0.000</td><td>0.000</td><td>0.353</td><td>0.65 </td><td>0.000</td><td>0.000</td><td>0.000</td><td>0.000</td><td>0    </td></tr>\n",
       "\t<tr><td>0.000</td><td>0.000</td><td>0.000</td><td>0.000</td><td>0.35 </td><td>0.793</td><td>0.000</td><td>0.000</td><td>0.000</td><td>0    </td></tr>\n",
       "\t<tr><td>0.000</td><td>0.000</td><td>0.000</td><td>0.000</td><td>0.00 </td><td>0.207</td><td>0.558</td><td>0.000</td><td>0.000</td><td>0    </td></tr>\n",
       "\t<tr><td>0.000</td><td>0.000</td><td>0.000</td><td>0.000</td><td>0.00 </td><td>0.000</td><td>0.442</td><td>0.648</td><td>0.000</td><td>0    </td></tr>\n",
       "\t<tr><td>0.000</td><td>0.000</td><td>0.000</td><td>0.000</td><td>0.00 </td><td>0.000</td><td>0.000</td><td>0.352</td><td>0.949</td><td>0    </td></tr>\n",
       "\t<tr><td>0.000</td><td>0.000</td><td>0.000</td><td>0.000</td><td>0.00 </td><td>0.000</td><td>0.000</td><td>0.000</td><td>0.051</td><td>1    </td></tr>\n",
       "</tbody>\n",
       "</table>\n",
       "</dd>\n",
       "\t<dt>$`n= 500`</dt>\n",
       "\t\t<dd><table>\n",
       "<thead><tr><th scope=col>0.1</th><th scope=col>0.2</th><th scope=col>0.3</th><th scope=col>0.4</th><th scope=col>0.5</th><th scope=col>0.6</th><th scope=col>0.7</th><th scope=col>0.8</th><th scope=col>0.9</th><th scope=col>1</th></tr></thead>\n",
       "<tbody>\n",
       "\t<tr><td>0.004</td><td>0.000</td><td>0.000</td><td>0.000</td><td>0.00 </td><td>0.000</td><td>0.000</td><td>0.000</td><td>0.000</td><td>0    </td></tr>\n",
       "\t<tr><td>0.996</td><td>0.153</td><td>0.000</td><td>0.000</td><td>0.00 </td><td>0.000</td><td>0.000</td><td>0.000</td><td>0.000</td><td>0    </td></tr>\n",
       "\t<tr><td>0.000</td><td>0.847</td><td>0.405</td><td>0.000</td><td>0.00 </td><td>0.000</td><td>0.000</td><td>0.000</td><td>0.000</td><td>0    </td></tr>\n",
       "\t<tr><td>0.000</td><td>0.000</td><td>0.595</td><td>0.633</td><td>0.00 </td><td>0.000</td><td>0.000</td><td>0.000</td><td>0.000</td><td>0    </td></tr>\n",
       "\t<tr><td>0.000</td><td>0.000</td><td>0.000</td><td>0.367</td><td>0.65 </td><td>0.000</td><td>0.000</td><td>0.000</td><td>0.000</td><td>0    </td></tr>\n",
       "\t<tr><td>0.000</td><td>0.000</td><td>0.000</td><td>0.000</td><td>0.35 </td><td>0.802</td><td>0.000</td><td>0.000</td><td>0.000</td><td>0    </td></tr>\n",
       "\t<tr><td>0.000</td><td>0.000</td><td>0.000</td><td>0.000</td><td>0.00 </td><td>0.198</td><td>0.595</td><td>0.000</td><td>0.000</td><td>0    </td></tr>\n",
       "\t<tr><td>0.000</td><td>0.000</td><td>0.000</td><td>0.000</td><td>0.00 </td><td>0.000</td><td>0.405</td><td>0.734</td><td>0.000</td><td>0    </td></tr>\n",
       "\t<tr><td>0.000</td><td>0.000</td><td>0.000</td><td>0.000</td><td>0.00 </td><td>0.000</td><td>0.000</td><td>0.266</td><td>0.992</td><td>0    </td></tr>\n",
       "\t<tr><td>0.000</td><td>0.000</td><td>0.000</td><td>0.000</td><td>0.00 </td><td>0.000</td><td>0.000</td><td>0.000</td><td>0.008</td><td>1    </td></tr>\n",
       "</tbody>\n",
       "</table>\n",
       "</dd>\n",
       "</dl>\n"
      ],
      "text/latex": [
       "\\begin{description}\n",
       "\\item[\\$`n= 10`] \\begin{tabular}{r|llllllllll}\n",
       " 0.1 & 0.2 & 0.3 & 0.4 & 0.5 & 0.6 & 0.7 & 0.8 & 0.9 & 1\\\\\n",
       "\\hline\n",
       "\t 0.160 & 0.030 & 0.004 & 0.000 & 0.000 & 0.000 & 0.000 & 0.000 & 0.000 & 0.000\\\\\n",
       "\t 0.328 & 0.209 & 0.096 & 0.035 & 0.010 & 0.002 & 0.000 & 0.000 & 0.000 & 0.000\\\\\n",
       "\t 0.354 & 0.427 & 0.371 & 0.255 & 0.141 & 0.062 & 0.020 & 0.004 & 0.000 & 0.000\\\\\n",
       "\t 0.137 & 0.266 & 0.373 & 0.415 & 0.372 & 0.263 & 0.136 & 0.043 & 0.006 & 0.000\\\\\n",
       "\t 0.020 & 0.058 & 0.123 & 0.208 & 0.283 & 0.304 & 0.239 & 0.116 & 0.026 & 0.003\\\\\n",
       "\t 0.002 & 0.009 & 0.030 & 0.075 & 0.152 & 0.245 & 0.287 & 0.208 & 0.070 & 0.010\\\\\n",
       "\t 0.000 & 0.000 & 0.002 & 0.009 & 0.029 & 0.070 & 0.124 & 0.137 & 0.070 & 0.015\\\\\n",
       "\t 0.000 & 0.000 & 0.000 & 0.002 & 0.011 & 0.043 & 0.123 & 0.219 & 0.182 & 0.064\\\\\n",
       "\t 0.000 & 0.000 & 0.000 & 0.000 & 0.002 & 0.012 & 0.064 & 0.215 & 0.338 & 0.225\\\\\n",
       "\t 0.000 & 0.000 & 0.000 & 0.000 & 0.000 & 0.000 & 0.005 & 0.058 & 0.306 & 0.683\\\\\n",
       "\\end{tabular}\n",
       "\n",
       "\\item[\\$`n= 50`] \\begin{tabular}{r|llllllllll}\n",
       " 0.1 & 0.2 & 0.3 & 0.4 & 0.5 & 0.6 & 0.7 & 0.8 & 0.9 & 1\\\\\n",
       "\\hline\n",
       "\t 0.232 & 0.000 & 0.000 & 0.000 & 0.000 & 0.000 & 0.000 & 0.000 & 0.000 & 0.000\\\\\n",
       "\t 0.703 & 0.292 & 0.009 & 0.000 & 0.000 & 0.000 & 0.000 & 0.000 & 0.000 & 0.000\\\\\n",
       "\t 0.065 & 0.646 & 0.471 & 0.054 & 0.001 & 0.000 & 0.000 & 0.000 & 0.000 & 0.000\\\\\n",
       "\t 0.001 & 0.061 & 0.489 & 0.613 & 0.135 & 0.005 & 0.000 & 0.000 & 0.000 & 0.000\\\\\n",
       "\t 0.000 & 0.000 & 0.031 & 0.311 & 0.555 & 0.160 & 0.006 & 0.000 & 0.000 & 0.000\\\\\n",
       "\t 0.000 & 0.000 & 0.000 & 0.023 & 0.299 & 0.640 & 0.179 & 0.003 & 0.000 & 0.000\\\\\n",
       "\t 0.000 & 0.000 & 0.000 & 0.000 & 0.010 & 0.180 & 0.408 & 0.047 & 0.000 & 0.000\\\\\n",
       "\t 0.000 & 0.000 & 0.000 & 0.000 & 0.000 & 0.016 & 0.392 & 0.499 & 0.028 & 0.000\\\\\n",
       "\t 0.000 & 0.000 & 0.000 & 0.000 & 0.000 & 0.000 & 0.015 & 0.451 & 0.602 & 0.004\\\\\n",
       "\t 0.000 & 0.000 & 0.000 & 0.000 & 0.000 & 0.000 & 0.000 & 0.001 & 0.370 & 0.996\\\\\n",
       "\\end{tabular}\n",
       "\n",
       "\\item[\\$`n= 100`] \\begin{tabular}{r|llllllllll}\n",
       " 0.1 & 0.2 & 0.3 & 0.4 & 0.5 & 0.6 & 0.7 & 0.8 & 0.9 & 1\\\\\n",
       "\\hline\n",
       "\t 0.168 & 0.000 & 0.000 & 0.000 & 0.000 & 0.000 & 0.000 & 0.000 & 0.000 & 0    \\\\\n",
       "\t 0.828 & 0.288 & 0.000 & 0.000 & 0.000 & 0.000 & 0.000 & 0.000 & 0.000 & 0    \\\\\n",
       "\t 0.004 & 0.706 & 0.479 & 0.005 & 0.000 & 0.000 & 0.000 & 0.000 & 0.000 & 0    \\\\\n",
       "\t 0.000 & 0.006 & 0.517 & 0.655 & 0.019 & 0.000 & 0.000 & 0.000 & 0.000 & 0    \\\\\n",
       "\t 0.000 & 0.000 & 0.004 & 0.337 & 0.637 & 0.026 & 0.000 & 0.000 & 0.000 & 0    \\\\\n",
       "\t 0.000 & 0.000 & 0.000 & 0.003 & 0.343 & 0.762 & 0.028 & 0.000 & 0.000 & 0    \\\\\n",
       "\t 0.000 & 0.000 & 0.000 & 0.000 & 0.001 & 0.211 & 0.505 & 0.005 & 0.000 & 0    \\\\\n",
       "\t 0.000 & 0.000 & 0.000 & 0.000 & 0.000 & 0.002 & 0.467 & 0.548 & 0.002 & 0    \\\\\n",
       "\t 0.000 & 0.000 & 0.000 & 0.000 & 0.000 & 0.000 & 0.001 & 0.447 & 0.725 & 0    \\\\\n",
       "\t 0.000 & 0.000 & 0.000 & 0.000 & 0.000 & 0.000 & 0.000 & 0.000 & 0.273 & 1    \\\\\n",
       "\\end{tabular}\n",
       "\n",
       "\\item[\\$`n= 150`] \\begin{tabular}{r|llllllllll}\n",
       " 0.1 & 0.2 & 0.3 & 0.4 & 0.5 & 0.6 & 0.7 & 0.8 & 0.9 & 1\\\\\n",
       "\\hline\n",
       "\t 0.111 & 0.000 & 0.000 & 0.000 & 0.000 & 0.000 & 0.000 & 0.000 & 0.000 & 0    \\\\\n",
       "\t 0.889 & 0.269 & 0.000 & 0.000 & 0.000 & 0.000 & 0.000 & 0.000 & 0.000 & 0    \\\\\n",
       "\t 0.000 & 0.730 & 0.471 & 0.000 & 0.000 & 0.000 & 0.000 & 0.000 & 0.000 & 0    \\\\\n",
       "\t 0.000 & 0.001 & 0.529 & 0.656 & 0.002 & 0.000 & 0.000 & 0.000 & 0.000 & 0    \\\\\n",
       "\t 0.000 & 0.000 & 0.001 & 0.343 & 0.648 & 0.004 & 0.000 & 0.000 & 0.000 & 0    \\\\\n",
       "\t 0.000 & 0.000 & 0.000 & 0.000 & 0.349 & 0.782 & 0.004 & 0.000 & 0.000 & 0    \\\\\n",
       "\t 0.000 & 0.000 & 0.000 & 0.000 & 0.000 & 0.214 & 0.527 & 0.000 & 0.000 & 0    \\\\\n",
       "\t 0.000 & 0.000 & 0.000 & 0.000 & 0.000 & 0.000 & 0.469 & 0.575 & 0.000 & 0    \\\\\n",
       "\t 0.000 & 0.000 & 0.000 & 0.000 & 0.000 & 0.000 & 0.000 & 0.424 & 0.812 & 0    \\\\\n",
       "\t 0.000 & 0.000 & 0.000 & 0.000 & 0.000 & 0.000 & 0.000 & 0.000 & 0.188 & 1    \\\\\n",
       "\\end{tabular}\n",
       "\n",
       "\\item[\\$`n= 200`] \\begin{tabular}{r|llllllllll}\n",
       " 0.1 & 0.2 & 0.3 & 0.4 & 0.5 & 0.6 & 0.7 & 0.8 & 0.9 & 1\\\\\n",
       "\\hline\n",
       "\t 0.071 & 0.00  & 0.000 & 0.000 & 0.00  & 0.000 & 0.000 & 0.0   & 0.000 & 0    \\\\\n",
       "\t 0.929 & 0.25  & 0.000 & 0.000 & 0.00  & 0.000 & 0.000 & 0.0   & 0.000 & 0    \\\\\n",
       "\t 0.000 & 0.75  & 0.461 & 0.000 & 0.00  & 0.000 & 0.000 & 0.0   & 0.000 & 0    \\\\\n",
       "\t 0.000 & 0.00  & 0.538 & 0.653 & 0.00  & 0.000 & 0.000 & 0.0   & 0.000 & 0    \\\\\n",
       "\t 0.000 & 0.00  & 0.000 & 0.346 & 0.65  & 0.000 & 0.000 & 0.0   & 0.000 & 0    \\\\\n",
       "\t 0.000 & 0.00  & 0.000 & 0.000 & 0.35  & 0.787 & 0.000 & 0.0   & 0.000 & 0    \\\\\n",
       "\t 0.000 & 0.00  & 0.000 & 0.000 & 0.00  & 0.212 & 0.538 & 0.0   & 0.000 & 0    \\\\\n",
       "\t 0.000 & 0.00  & 0.000 & 0.000 & 0.00  & 0.000 & 0.461 & 0.6   & 0.000 & 0    \\\\\n",
       "\t 0.000 & 0.00  & 0.000 & 0.000 & 0.00  & 0.000 & 0.000 & 0.4   & 0.876 & 0    \\\\\n",
       "\t 0.000 & 0.00  & 0.000 & 0.000 & 0.00  & 0.000 & 0.000 & 0.0   & 0.124 & 1    \\\\\n",
       "\\end{tabular}\n",
       "\n",
       "\\item[\\$`n= 300`] \\begin{tabular}{r|llllllllll}\n",
       " 0.1 & 0.2 & 0.3 & 0.4 & 0.5 & 0.6 & 0.7 & 0.8 & 0.9 & 1\\\\\n",
       "\\hline\n",
       "\t 0.028 & 0.000 & 0.000 & 0.000 & 0.00  & 0.000 & 0.000 & 0.000 & 0.000 & 0    \\\\\n",
       "\t 0.972 & 0.214 & 0.000 & 0.000 & 0.00  & 0.000 & 0.000 & 0.000 & 0.000 & 0    \\\\\n",
       "\t 0.000 & 0.786 & 0.442 & 0.000 & 0.00  & 0.000 & 0.000 & 0.000 & 0.000 & 0    \\\\\n",
       "\t 0.000 & 0.000 & 0.558 & 0.647 & 0.00  & 0.000 & 0.000 & 0.000 & 0.000 & 0    \\\\\n",
       "\t 0.000 & 0.000 & 0.000 & 0.353 & 0.65  & 0.000 & 0.000 & 0.000 & 0.000 & 0    \\\\\n",
       "\t 0.000 & 0.000 & 0.000 & 0.000 & 0.35  & 0.793 & 0.000 & 0.000 & 0.000 & 0    \\\\\n",
       "\t 0.000 & 0.000 & 0.000 & 0.000 & 0.00  & 0.207 & 0.558 & 0.000 & 0.000 & 0    \\\\\n",
       "\t 0.000 & 0.000 & 0.000 & 0.000 & 0.00  & 0.000 & 0.442 & 0.648 & 0.000 & 0    \\\\\n",
       "\t 0.000 & 0.000 & 0.000 & 0.000 & 0.00  & 0.000 & 0.000 & 0.352 & 0.949 & 0    \\\\\n",
       "\t 0.000 & 0.000 & 0.000 & 0.000 & 0.00  & 0.000 & 0.000 & 0.000 & 0.051 & 1    \\\\\n",
       "\\end{tabular}\n",
       "\n",
       "\\item[\\$`n= 500`] \\begin{tabular}{r|llllllllll}\n",
       " 0.1 & 0.2 & 0.3 & 0.4 & 0.5 & 0.6 & 0.7 & 0.8 & 0.9 & 1\\\\\n",
       "\\hline\n",
       "\t 0.004 & 0.000 & 0.000 & 0.000 & 0.00  & 0.000 & 0.000 & 0.000 & 0.000 & 0    \\\\\n",
       "\t 0.996 & 0.153 & 0.000 & 0.000 & 0.00  & 0.000 & 0.000 & 0.000 & 0.000 & 0    \\\\\n",
       "\t 0.000 & 0.847 & 0.405 & 0.000 & 0.00  & 0.000 & 0.000 & 0.000 & 0.000 & 0    \\\\\n",
       "\t 0.000 & 0.000 & 0.595 & 0.633 & 0.00  & 0.000 & 0.000 & 0.000 & 0.000 & 0    \\\\\n",
       "\t 0.000 & 0.000 & 0.000 & 0.367 & 0.65  & 0.000 & 0.000 & 0.000 & 0.000 & 0    \\\\\n",
       "\t 0.000 & 0.000 & 0.000 & 0.000 & 0.35  & 0.802 & 0.000 & 0.000 & 0.000 & 0    \\\\\n",
       "\t 0.000 & 0.000 & 0.000 & 0.000 & 0.00  & 0.198 & 0.595 & 0.000 & 0.000 & 0    \\\\\n",
       "\t 0.000 & 0.000 & 0.000 & 0.000 & 0.00  & 0.000 & 0.405 & 0.734 & 0.000 & 0    \\\\\n",
       "\t 0.000 & 0.000 & 0.000 & 0.000 & 0.00  & 0.000 & 0.000 & 0.266 & 0.992 & 0    \\\\\n",
       "\t 0.000 & 0.000 & 0.000 & 0.000 & 0.00  & 0.000 & 0.000 & 0.000 & 0.008 & 1    \\\\\n",
       "\\end{tabular}\n",
       "\n",
       "\\end{description}\n"
      ],
      "text/markdown": [
       "$`n= 10`\n",
       ":   \n",
       "0.1 | 0.2 | 0.3 | 0.4 | 0.5 | 0.6 | 0.7 | 0.8 | 0.9 | 1 | \n",
       "|---|---|---|---|---|---|---|---|---|---|\n",
       "| 0.160 | 0.030 | 0.004 | 0.000 | 0.000 | 0.000 | 0.000 | 0.000 | 0.000 | 0.000 | \n",
       "| 0.328 | 0.209 | 0.096 | 0.035 | 0.010 | 0.002 | 0.000 | 0.000 | 0.000 | 0.000 | \n",
       "| 0.354 | 0.427 | 0.371 | 0.255 | 0.141 | 0.062 | 0.020 | 0.004 | 0.000 | 0.000 | \n",
       "| 0.137 | 0.266 | 0.373 | 0.415 | 0.372 | 0.263 | 0.136 | 0.043 | 0.006 | 0.000 | \n",
       "| 0.020 | 0.058 | 0.123 | 0.208 | 0.283 | 0.304 | 0.239 | 0.116 | 0.026 | 0.003 | \n",
       "| 0.002 | 0.009 | 0.030 | 0.075 | 0.152 | 0.245 | 0.287 | 0.208 | 0.070 | 0.010 | \n",
       "| 0.000 | 0.000 | 0.002 | 0.009 | 0.029 | 0.070 | 0.124 | 0.137 | 0.070 | 0.015 | \n",
       "| 0.000 | 0.000 | 0.000 | 0.002 | 0.011 | 0.043 | 0.123 | 0.219 | 0.182 | 0.064 | \n",
       "| 0.000 | 0.000 | 0.000 | 0.000 | 0.002 | 0.012 | 0.064 | 0.215 | 0.338 | 0.225 | \n",
       "| 0.000 | 0.000 | 0.000 | 0.000 | 0.000 | 0.000 | 0.005 | 0.058 | 0.306 | 0.683 | \n",
       "\n",
       "\n",
       "\n",
       "$`n= 50`\n",
       ":   \n",
       "0.1 | 0.2 | 0.3 | 0.4 | 0.5 | 0.6 | 0.7 | 0.8 | 0.9 | 1 | \n",
       "|---|---|---|---|---|---|---|---|---|---|\n",
       "| 0.232 | 0.000 | 0.000 | 0.000 | 0.000 | 0.000 | 0.000 | 0.000 | 0.000 | 0.000 | \n",
       "| 0.703 | 0.292 | 0.009 | 0.000 | 0.000 | 0.000 | 0.000 | 0.000 | 0.000 | 0.000 | \n",
       "| 0.065 | 0.646 | 0.471 | 0.054 | 0.001 | 0.000 | 0.000 | 0.000 | 0.000 | 0.000 | \n",
       "| 0.001 | 0.061 | 0.489 | 0.613 | 0.135 | 0.005 | 0.000 | 0.000 | 0.000 | 0.000 | \n",
       "| 0.000 | 0.000 | 0.031 | 0.311 | 0.555 | 0.160 | 0.006 | 0.000 | 0.000 | 0.000 | \n",
       "| 0.000 | 0.000 | 0.000 | 0.023 | 0.299 | 0.640 | 0.179 | 0.003 | 0.000 | 0.000 | \n",
       "| 0.000 | 0.000 | 0.000 | 0.000 | 0.010 | 0.180 | 0.408 | 0.047 | 0.000 | 0.000 | \n",
       "| 0.000 | 0.000 | 0.000 | 0.000 | 0.000 | 0.016 | 0.392 | 0.499 | 0.028 | 0.000 | \n",
       "| 0.000 | 0.000 | 0.000 | 0.000 | 0.000 | 0.000 | 0.015 | 0.451 | 0.602 | 0.004 | \n",
       "| 0.000 | 0.000 | 0.000 | 0.000 | 0.000 | 0.000 | 0.000 | 0.001 | 0.370 | 0.996 | \n",
       "\n",
       "\n",
       "\n",
       "$`n= 100`\n",
       ":   \n",
       "0.1 | 0.2 | 0.3 | 0.4 | 0.5 | 0.6 | 0.7 | 0.8 | 0.9 | 1 | \n",
       "|---|---|---|---|---|---|---|---|---|---|\n",
       "| 0.168 | 0.000 | 0.000 | 0.000 | 0.000 | 0.000 | 0.000 | 0.000 | 0.000 | 0     | \n",
       "| 0.828 | 0.288 | 0.000 | 0.000 | 0.000 | 0.000 | 0.000 | 0.000 | 0.000 | 0     | \n",
       "| 0.004 | 0.706 | 0.479 | 0.005 | 0.000 | 0.000 | 0.000 | 0.000 | 0.000 | 0     | \n",
       "| 0.000 | 0.006 | 0.517 | 0.655 | 0.019 | 0.000 | 0.000 | 0.000 | 0.000 | 0     | \n",
       "| 0.000 | 0.000 | 0.004 | 0.337 | 0.637 | 0.026 | 0.000 | 0.000 | 0.000 | 0     | \n",
       "| 0.000 | 0.000 | 0.000 | 0.003 | 0.343 | 0.762 | 0.028 | 0.000 | 0.000 | 0     | \n",
       "| 0.000 | 0.000 | 0.000 | 0.000 | 0.001 | 0.211 | 0.505 | 0.005 | 0.000 | 0     | \n",
       "| 0.000 | 0.000 | 0.000 | 0.000 | 0.000 | 0.002 | 0.467 | 0.548 | 0.002 | 0     | \n",
       "| 0.000 | 0.000 | 0.000 | 0.000 | 0.000 | 0.000 | 0.001 | 0.447 | 0.725 | 0     | \n",
       "| 0.000 | 0.000 | 0.000 | 0.000 | 0.000 | 0.000 | 0.000 | 0.000 | 0.273 | 1     | \n",
       "\n",
       "\n",
       "\n",
       "$`n= 150`\n",
       ":   \n",
       "0.1 | 0.2 | 0.3 | 0.4 | 0.5 | 0.6 | 0.7 | 0.8 | 0.9 | 1 | \n",
       "|---|---|---|---|---|---|---|---|---|---|\n",
       "| 0.111 | 0.000 | 0.000 | 0.000 | 0.000 | 0.000 | 0.000 | 0.000 | 0.000 | 0     | \n",
       "| 0.889 | 0.269 | 0.000 | 0.000 | 0.000 | 0.000 | 0.000 | 0.000 | 0.000 | 0     | \n",
       "| 0.000 | 0.730 | 0.471 | 0.000 | 0.000 | 0.000 | 0.000 | 0.000 | 0.000 | 0     | \n",
       "| 0.000 | 0.001 | 0.529 | 0.656 | 0.002 | 0.000 | 0.000 | 0.000 | 0.000 | 0     | \n",
       "| 0.000 | 0.000 | 0.001 | 0.343 | 0.648 | 0.004 | 0.000 | 0.000 | 0.000 | 0     | \n",
       "| 0.000 | 0.000 | 0.000 | 0.000 | 0.349 | 0.782 | 0.004 | 0.000 | 0.000 | 0     | \n",
       "| 0.000 | 0.000 | 0.000 | 0.000 | 0.000 | 0.214 | 0.527 | 0.000 | 0.000 | 0     | \n",
       "| 0.000 | 0.000 | 0.000 | 0.000 | 0.000 | 0.000 | 0.469 | 0.575 | 0.000 | 0     | \n",
       "| 0.000 | 0.000 | 0.000 | 0.000 | 0.000 | 0.000 | 0.000 | 0.424 | 0.812 | 0     | \n",
       "| 0.000 | 0.000 | 0.000 | 0.000 | 0.000 | 0.000 | 0.000 | 0.000 | 0.188 | 1     | \n",
       "\n",
       "\n",
       "\n",
       "$`n= 200`\n",
       ":   \n",
       "0.1 | 0.2 | 0.3 | 0.4 | 0.5 | 0.6 | 0.7 | 0.8 | 0.9 | 1 | \n",
       "|---|---|---|---|---|---|---|---|---|---|\n",
       "| 0.071 | 0.00  | 0.000 | 0.000 | 0.00  | 0.000 | 0.000 | 0.0   | 0.000 | 0     | \n",
       "| 0.929 | 0.25  | 0.000 | 0.000 | 0.00  | 0.000 | 0.000 | 0.0   | 0.000 | 0     | \n",
       "| 0.000 | 0.75  | 0.461 | 0.000 | 0.00  | 0.000 | 0.000 | 0.0   | 0.000 | 0     | \n",
       "| 0.000 | 0.00  | 0.538 | 0.653 | 0.00  | 0.000 | 0.000 | 0.0   | 0.000 | 0     | \n",
       "| 0.000 | 0.00  | 0.000 | 0.346 | 0.65  | 0.000 | 0.000 | 0.0   | 0.000 | 0     | \n",
       "| 0.000 | 0.00  | 0.000 | 0.000 | 0.35  | 0.787 | 0.000 | 0.0   | 0.000 | 0     | \n",
       "| 0.000 | 0.00  | 0.000 | 0.000 | 0.00  | 0.212 | 0.538 | 0.0   | 0.000 | 0     | \n",
       "| 0.000 | 0.00  | 0.000 | 0.000 | 0.00  | 0.000 | 0.461 | 0.6   | 0.000 | 0     | \n",
       "| 0.000 | 0.00  | 0.000 | 0.000 | 0.00  | 0.000 | 0.000 | 0.4   | 0.876 | 0     | \n",
       "| 0.000 | 0.00  | 0.000 | 0.000 | 0.00  | 0.000 | 0.000 | 0.0   | 0.124 | 1     | \n",
       "\n",
       "\n",
       "\n",
       "$`n= 300`\n",
       ":   \n",
       "0.1 | 0.2 | 0.3 | 0.4 | 0.5 | 0.6 | 0.7 | 0.8 | 0.9 | 1 | \n",
       "|---|---|---|---|---|---|---|---|---|---|\n",
       "| 0.028 | 0.000 | 0.000 | 0.000 | 0.00  | 0.000 | 0.000 | 0.000 | 0.000 | 0     | \n",
       "| 0.972 | 0.214 | 0.000 | 0.000 | 0.00  | 0.000 | 0.000 | 0.000 | 0.000 | 0     | \n",
       "| 0.000 | 0.786 | 0.442 | 0.000 | 0.00  | 0.000 | 0.000 | 0.000 | 0.000 | 0     | \n",
       "| 0.000 | 0.000 | 0.558 | 0.647 | 0.00  | 0.000 | 0.000 | 0.000 | 0.000 | 0     | \n",
       "| 0.000 | 0.000 | 0.000 | 0.353 | 0.65  | 0.000 | 0.000 | 0.000 | 0.000 | 0     | \n",
       "| 0.000 | 0.000 | 0.000 | 0.000 | 0.35  | 0.793 | 0.000 | 0.000 | 0.000 | 0     | \n",
       "| 0.000 | 0.000 | 0.000 | 0.000 | 0.00  | 0.207 | 0.558 | 0.000 | 0.000 | 0     | \n",
       "| 0.000 | 0.000 | 0.000 | 0.000 | 0.00  | 0.000 | 0.442 | 0.648 | 0.000 | 0     | \n",
       "| 0.000 | 0.000 | 0.000 | 0.000 | 0.00  | 0.000 | 0.000 | 0.352 | 0.949 | 0     | \n",
       "| 0.000 | 0.000 | 0.000 | 0.000 | 0.00  | 0.000 | 0.000 | 0.000 | 0.051 | 1     | \n",
       "\n",
       "\n",
       "\n",
       "$`n= 500`\n",
       ":   \n",
       "0.1 | 0.2 | 0.3 | 0.4 | 0.5 | 0.6 | 0.7 | 0.8 | 0.9 | 1 | \n",
       "|---|---|---|---|---|---|---|---|---|---|\n",
       "| 0.004 | 0.000 | 0.000 | 0.000 | 0.00  | 0.000 | 0.000 | 0.000 | 0.000 | 0     | \n",
       "| 0.996 | 0.153 | 0.000 | 0.000 | 0.00  | 0.000 | 0.000 | 0.000 | 0.000 | 0     | \n",
       "| 0.000 | 0.847 | 0.405 | 0.000 | 0.00  | 0.000 | 0.000 | 0.000 | 0.000 | 0     | \n",
       "| 0.000 | 0.000 | 0.595 | 0.633 | 0.00  | 0.000 | 0.000 | 0.000 | 0.000 | 0     | \n",
       "| 0.000 | 0.000 | 0.000 | 0.367 | 0.65  | 0.000 | 0.000 | 0.000 | 0.000 | 0     | \n",
       "| 0.000 | 0.000 | 0.000 | 0.000 | 0.35  | 0.802 | 0.000 | 0.000 | 0.000 | 0     | \n",
       "| 0.000 | 0.000 | 0.000 | 0.000 | 0.00  | 0.198 | 0.595 | 0.000 | 0.000 | 0     | \n",
       "| 0.000 | 0.000 | 0.000 | 0.000 | 0.00  | 0.000 | 0.405 | 0.734 | 0.000 | 0     | \n",
       "| 0.000 | 0.000 | 0.000 | 0.000 | 0.00  | 0.000 | 0.000 | 0.266 | 0.992 | 0     | \n",
       "| 0.000 | 0.000 | 0.000 | 0.000 | 0.00  | 0.000 | 0.000 | 0.000 | 0.008 | 1     | \n",
       "\n",
       "\n",
       "\n",
       "\n",
       "\n"
      ],
      "text/plain": [
       "$`n= 10`\n",
       "     0.1   0.2   0.3   0.4   0.5   0.6   0.7   0.8   0.9     1\n",
       "1  0.160 0.030 0.004 0.000 0.000 0.000 0.000 0.000 0.000 0.000\n",
       "2  0.328 0.209 0.096 0.035 0.010 0.002 0.000 0.000 0.000 0.000\n",
       "3  0.354 0.427 0.371 0.255 0.141 0.062 0.020 0.004 0.000 0.000\n",
       "4  0.137 0.266 0.373 0.415 0.372 0.263 0.136 0.043 0.006 0.000\n",
       "5  0.020 0.058 0.123 0.208 0.283 0.304 0.239 0.116 0.026 0.003\n",
       "6  0.002 0.009 0.030 0.075 0.152 0.245 0.287 0.208 0.070 0.010\n",
       "7  0.000 0.000 0.002 0.009 0.029 0.070 0.124 0.137 0.070 0.015\n",
       "8  0.000 0.000 0.000 0.002 0.011 0.043 0.123 0.219 0.182 0.064\n",
       "9  0.000 0.000 0.000 0.000 0.002 0.012 0.064 0.215 0.338 0.225\n",
       "10 0.000 0.000 0.000 0.000 0.000 0.000 0.005 0.058 0.306 0.683\n",
       "\n",
       "$`n= 50`\n",
       "     0.1   0.2   0.3   0.4   0.5   0.6   0.7   0.8   0.9     1\n",
       "1  0.232 0.000 0.000 0.000 0.000 0.000 0.000 0.000 0.000 0.000\n",
       "2  0.703 0.292 0.009 0.000 0.000 0.000 0.000 0.000 0.000 0.000\n",
       "3  0.065 0.646 0.471 0.054 0.001 0.000 0.000 0.000 0.000 0.000\n",
       "4  0.001 0.061 0.489 0.613 0.135 0.005 0.000 0.000 0.000 0.000\n",
       "5  0.000 0.000 0.031 0.311 0.555 0.160 0.006 0.000 0.000 0.000\n",
       "6  0.000 0.000 0.000 0.023 0.299 0.640 0.179 0.003 0.000 0.000\n",
       "7  0.000 0.000 0.000 0.000 0.010 0.180 0.408 0.047 0.000 0.000\n",
       "8  0.000 0.000 0.000 0.000 0.000 0.016 0.392 0.499 0.028 0.000\n",
       "9  0.000 0.000 0.000 0.000 0.000 0.000 0.015 0.451 0.602 0.004\n",
       "10 0.000 0.000 0.000 0.000 0.000 0.000 0.000 0.001 0.370 0.996\n",
       "\n",
       "$`n= 100`\n",
       "     0.1   0.2   0.3   0.4   0.5   0.6   0.7   0.8   0.9 1\n",
       "1  0.168 0.000 0.000 0.000 0.000 0.000 0.000 0.000 0.000 0\n",
       "2  0.828 0.288 0.000 0.000 0.000 0.000 0.000 0.000 0.000 0\n",
       "3  0.004 0.706 0.479 0.005 0.000 0.000 0.000 0.000 0.000 0\n",
       "4  0.000 0.006 0.517 0.655 0.019 0.000 0.000 0.000 0.000 0\n",
       "5  0.000 0.000 0.004 0.337 0.637 0.026 0.000 0.000 0.000 0\n",
       "6  0.000 0.000 0.000 0.003 0.343 0.762 0.028 0.000 0.000 0\n",
       "7  0.000 0.000 0.000 0.000 0.001 0.211 0.505 0.005 0.000 0\n",
       "8  0.000 0.000 0.000 0.000 0.000 0.002 0.467 0.548 0.002 0\n",
       "9  0.000 0.000 0.000 0.000 0.000 0.000 0.001 0.447 0.725 0\n",
       "10 0.000 0.000 0.000 0.000 0.000 0.000 0.000 0.000 0.273 1\n",
       "\n",
       "$`n= 150`\n",
       "     0.1   0.2   0.3   0.4   0.5   0.6   0.7   0.8   0.9 1\n",
       "1  0.111 0.000 0.000 0.000 0.000 0.000 0.000 0.000 0.000 0\n",
       "2  0.889 0.269 0.000 0.000 0.000 0.000 0.000 0.000 0.000 0\n",
       "3  0.000 0.730 0.471 0.000 0.000 0.000 0.000 0.000 0.000 0\n",
       "4  0.000 0.001 0.529 0.656 0.002 0.000 0.000 0.000 0.000 0\n",
       "5  0.000 0.000 0.001 0.343 0.648 0.004 0.000 0.000 0.000 0\n",
       "6  0.000 0.000 0.000 0.000 0.349 0.782 0.004 0.000 0.000 0\n",
       "7  0.000 0.000 0.000 0.000 0.000 0.214 0.527 0.000 0.000 0\n",
       "8  0.000 0.000 0.000 0.000 0.000 0.000 0.469 0.575 0.000 0\n",
       "9  0.000 0.000 0.000 0.000 0.000 0.000 0.000 0.424 0.812 0\n",
       "10 0.000 0.000 0.000 0.000 0.000 0.000 0.000 0.000 0.188 1\n",
       "\n",
       "$`n= 200`\n",
       "     0.1  0.2   0.3   0.4  0.5   0.6   0.7 0.8   0.9 1\n",
       "1  0.071 0.00 0.000 0.000 0.00 0.000 0.000 0.0 0.000 0\n",
       "2  0.929 0.25 0.000 0.000 0.00 0.000 0.000 0.0 0.000 0\n",
       "3  0.000 0.75 0.461 0.000 0.00 0.000 0.000 0.0 0.000 0\n",
       "4  0.000 0.00 0.538 0.653 0.00 0.000 0.000 0.0 0.000 0\n",
       "5  0.000 0.00 0.000 0.346 0.65 0.000 0.000 0.0 0.000 0\n",
       "6  0.000 0.00 0.000 0.000 0.35 0.787 0.000 0.0 0.000 0\n",
       "7  0.000 0.00 0.000 0.000 0.00 0.212 0.538 0.0 0.000 0\n",
       "8  0.000 0.00 0.000 0.000 0.00 0.000 0.461 0.6 0.000 0\n",
       "9  0.000 0.00 0.000 0.000 0.00 0.000 0.000 0.4 0.876 0\n",
       "10 0.000 0.00 0.000 0.000 0.00 0.000 0.000 0.0 0.124 1\n",
       "\n",
       "$`n= 300`\n",
       "     0.1   0.2   0.3   0.4  0.5   0.6   0.7   0.8   0.9 1\n",
       "1  0.028 0.000 0.000 0.000 0.00 0.000 0.000 0.000 0.000 0\n",
       "2  0.972 0.214 0.000 0.000 0.00 0.000 0.000 0.000 0.000 0\n",
       "3  0.000 0.786 0.442 0.000 0.00 0.000 0.000 0.000 0.000 0\n",
       "4  0.000 0.000 0.558 0.647 0.00 0.000 0.000 0.000 0.000 0\n",
       "5  0.000 0.000 0.000 0.353 0.65 0.000 0.000 0.000 0.000 0\n",
       "6  0.000 0.000 0.000 0.000 0.35 0.793 0.000 0.000 0.000 0\n",
       "7  0.000 0.000 0.000 0.000 0.00 0.207 0.558 0.000 0.000 0\n",
       "8  0.000 0.000 0.000 0.000 0.00 0.000 0.442 0.648 0.000 0\n",
       "9  0.000 0.000 0.000 0.000 0.00 0.000 0.000 0.352 0.949 0\n",
       "10 0.000 0.000 0.000 0.000 0.00 0.000 0.000 0.000 0.051 1\n",
       "\n",
       "$`n= 500`\n",
       "     0.1   0.2   0.3   0.4  0.5   0.6   0.7   0.8   0.9 1\n",
       "1  0.004 0.000 0.000 0.000 0.00 0.000 0.000 0.000 0.000 0\n",
       "2  0.996 0.153 0.000 0.000 0.00 0.000 0.000 0.000 0.000 0\n",
       "3  0.000 0.847 0.405 0.000 0.00 0.000 0.000 0.000 0.000 0\n",
       "4  0.000 0.000 0.595 0.633 0.00 0.000 0.000 0.000 0.000 0\n",
       "5  0.000 0.000 0.000 0.367 0.65 0.000 0.000 0.000 0.000 0\n",
       "6  0.000 0.000 0.000 0.000 0.35 0.802 0.000 0.000 0.000 0\n",
       "7  0.000 0.000 0.000 0.000 0.00 0.198 0.595 0.000 0.000 0\n",
       "8  0.000 0.000 0.000 0.000 0.00 0.000 0.405 0.734 0.000 0\n",
       "9  0.000 0.000 0.000 0.000 0.00 0.000 0.000 0.266 0.992 0\n",
       "10 0.000 0.000 0.000 0.000 0.00 0.000 0.000 0.000 0.008 1\n"
      ]
     },
     "metadata": {},
     "output_type": "display_data"
    }
   ],
   "source": [
    "dimthreedfs"
   ]
  },
  {
   "cell_type": "code",
   "execution_count": 6,
   "metadata": {},
   "outputs": [],
   "source": [
    "library(ggplot2)\n",
    "library(reshape2)\n",
    "\n",
    "create_gg_heatmap <- function(df){\n",
    "    mat = as.matrix(df)\n",
    "    melted = melt(mat)\n",
    "    colnames(melted) = c('k', 'p', 'posterior')\n",
    "    plt = ggplot(data = melted, aes(x=k,y=p, fill=posterior)) +  geom_tile() + \n",
    "    scale_fill_gradientn(limits = c(0, 1), colors=c(\"navyblue\", \"darkmagenta\", \"darkorange1\"))\n",
    "    return(plt)\n",
    "}"
   ]
  },
  {
   "cell_type": "code",
   "execution_count": 7,
   "metadata": {},
   "outputs": [
    {
     "data": {
      "image/png": "[encoded data removed]",
      "text/plain": [
       "plot without title"
      ]
     },
     "metadata": {},
     "output_type": "display_data"
    },
    {
     "data": {
      "image/png": "[encoded data removed]",
      "text/plain": [
       "plot without title"
      ]
     },
     "metadata": {},
     "output_type": "display_data"
    },
    {
     "data": {
      "image/png": "[encoded data removed]",
      "text/plain": [
       "plot without title"
      ]
     },
     "metadata": {},
     "output_type": "display_data"
    },
    {
     "data": {
      "image/png": "[encoded data removed]",
      "text/plain": [
       "plot without title"
      ]
     },
     "metadata": {},
     "output_type": "display_data"
    },
    {
     "data": {
      "image/png": "[encoded data removed]",
      "text/plain": [
       "plot without title"
      ]
     },
     "metadata": {},
     "output_type": "display_data"
    },
    {
     "data": {
      "image/png": "[encoded data removed]",
      "text/plain": [
       "plot without title"
      ]
     },
     "metadata": {},
     "output_type": "display_data"
    },
    {
     "data": {
      "image/png": "[encoded data removed]",
      "text/plain": [
       "plot without title"
      ]
     },
     "metadata": {},
     "output_type": "display_data"
    }
   ],
   "source": [
    "for(df in dimthreedfs){\n",
    "    print(create_gg_heatmap(df))\n",
    "}"
   ]
  },
  {
   "cell_type": "markdown",
   "metadata": {},
   "source": [
    "Each list represents $n$ for $n \\in \\{10, 50, 100, 150, 200, 300, 500\\}$, and each column represents possible $k$ values from $\\frac{n}{10}$ to $n$.\n",
    "\n",
    "The heatmaps shows us that the probabilities become more polarized as $n$ increases, which is what we would expect. We see that with small $n$ the colors are fuzzy, reflecting our uncertainty concerning our estimate.\n",
    "\n",
    "We see what is expected with Bayesian probabilities: as $n$ increases, our confidence in our posterior probability becomes stronger. This is reflected in the fact that we get values that are nearly 1 for the observations\n",
    "which have p = k/n and 0 otherwise. This shows that as we get more observations, the data will overwhelm the prior.\n",
    "\n",
    "For small values of $n$, we see the opposite: it is highly skewed by our prior, so that we are not so confident that $p$ = $\\frac{k}{n}$ if $p$ was not deemed probable prior.\n",
    "\n",
    "\n",
    "# Machine Zeros problem:"
   ]
  },
  {
   "cell_type": "code",
   "execution_count": 8,
   "metadata": {
    "ExecuteTime": {
     "end_time": "2019-01-08T02:32:59.177354Z",
     "start_time": "2019-01-08T02:32:59.131Z"
    },
    "autoscroll": false
   },
   "outputs": [
    {
     "data": {
      "text/html": [
       "<ol class=list-inline>\n",
       "\t<li>NaN</li>\n",
       "\t<li>NaN</li>\n",
       "\t<li>NaN</li>\n",
       "\t<li>NaN</li>\n",
       "\t<li>NaN</li>\n",
       "\t<li>NaN</li>\n",
       "\t<li>NaN</li>\n",
       "\t<li>NaN</li>\n",
       "\t<li>NaN</li>\n",
       "\t<li>NaN</li>\n",
       "</ol>\n"
      ],
      "text/latex": [
       "\\begin{enumerate*}\n",
       "\\item NaN\n",
       "\\item NaN\n",
       "\\item NaN\n",
       "\\item NaN\n",
       "\\item NaN\n",
       "\\item NaN\n",
       "\\item NaN\n",
       "\\item NaN\n",
       "\\item NaN\n",
       "\\item NaN\n",
       "\\end{enumerate*}\n"
      ],
      "text/markdown": [
       "1. NaN\n",
       "2. NaN\n",
       "3. NaN\n",
       "4. NaN\n",
       "5. NaN\n",
       "6. NaN\n",
       "7. NaN\n",
       "8. NaN\n",
       "9. NaN\n",
       "10. NaN\n",
       "\n",
       "\n"
      ],
      "text/plain": [
       " [1] NaN NaN NaN NaN NaN NaN NaN NaN NaN NaN"
      ]
     },
     "metadata": {},
     "output_type": "display_data"
    }
   ],
   "source": [
    "posterior(1000,2000, posprobs, probsofprobs)"
   ]
  },
  {
   "cell_type": "markdown",
   "metadata": {},
   "source": [
    "Notice that we have many machine zeros for large n. This interferes with our calculations, and gives us NaNs for the calculations.\n",
    "The following uses a log transformation to avoid machine zeros:\n",
    "\n"
   ]
  },
  {
   "cell_type": "code",
   "execution_count": 9,
   "metadata": {
    "ExecuteTime": {
     "end_time": "2019-01-08T02:33:00.421290Z",
     "start_time": "2019-01-08T02:33:00.345Z"
    },
    "autoscroll": false
   },
   "outputs": [
    {
     "data": {
      "text/html": [
       "<ol class=list-inline>\n",
       "\t<li>NaN</li>\n",
       "\t<li>NaN</li>\n",
       "\t<li>NaN</li>\n",
       "\t<li>NaN</li>\n",
       "\t<li>NaN</li>\n",
       "\t<li>NaN</li>\n",
       "\t<li>NaN</li>\n",
       "\t<li>NaN</li>\n",
       "\t<li>NaN</li>\n",
       "\t<li>NaN</li>\n",
       "</ol>\n"
      ],
      "text/latex": [
       "\\begin{enumerate*}\n",
       "\\item NaN\n",
       "\\item NaN\n",
       "\\item NaN\n",
       "\\item NaN\n",
       "\\item NaN\n",
       "\\item NaN\n",
       "\\item NaN\n",
       "\\item NaN\n",
       "\\item NaN\n",
       "\\item NaN\n",
       "\\end{enumerate*}\n"
      ],
      "text/markdown": [
       "1. NaN\n",
       "2. NaN\n",
       "3. NaN\n",
       "4. NaN\n",
       "5. NaN\n",
       "6. NaN\n",
       "7. NaN\n",
       "8. NaN\n",
       "9. NaN\n",
       "10. NaN\n",
       "\n",
       "\n"
      ],
      "text/plain": [
       " [1] NaN NaN NaN NaN NaN NaN NaN NaN NaN NaN"
      ]
     },
     "metadata": {},
     "output_type": "display_data"
    },
    {
     "data": {
      "text/html": [
       "<ol class=list-inline>\n",
       "\t<li>0</li>\n",
       "\t<li>5.59622100226468e-289</li>\n",
       "\t<li>3.46746548211335e-121</li>\n",
       "\t<li>3.31238703307168e-37</li>\n",
       "\t<li>0.650000000000052</li>\n",
       "\t<li>0.349999999999948</li>\n",
       "\t<li>2.54799002543976e-38</li>\n",
       "\t<li>2.66728114008719e-122</li>\n",
       "\t<li>8.60957077271489e-290</li>\n",
       "\t<li>0</li>\n",
       "</ol>\n"
      ],
      "text/latex": [
       "\\begin{enumerate*}\n",
       "\\item 0\n",
       "\\item 5.59622100226468e-289\n",
       "\\item 3.46746548211335e-121\n",
       "\\item 3.31238703307168e-37\n",
       "\\item 0.650000000000052\n",
       "\\item 0.349999999999948\n",
       "\\item 2.54799002543976e-38\n",
       "\\item 2.66728114008719e-122\n",
       "\\item 8.60957077271489e-290\n",
       "\\item 0\n",
       "\\end{enumerate*}\n"
      ],
      "text/markdown": [
       "1. 0\n",
       "2. 5.59622100226468e-289\n",
       "3. 3.46746548211335e-121\n",
       "4. 3.31238703307168e-37\n",
       "5. 0.650000000000052\n",
       "6. 0.349999999999948\n",
       "7. 2.54799002543976e-38\n",
       "8. 2.66728114008719e-122\n",
       "9. 8.60957077271489e-290\n",
       "10. 0\n",
       "\n",
       "\n"
      ],
      "text/plain": [
       " [1]  0.000000e+00 5.596221e-289 3.467465e-121  3.312387e-37  6.500000e-01\n",
       " [6]  3.500000e-01  2.547990e-38 2.667281e-122 8.609571e-290  0.000000e+00"
      ]
     },
     "metadata": {},
     "output_type": "display_data"
    }
   ],
   "source": [
    "posterior(1000,2000, posprobs, probsofprobs)\n",
    "log_transf_posterior(1000,2000)"
   ]
  }
 ],
 "metadata": {
  "Rmd_header": {
   "author": "Sean Ammirati",
   "date": "July 29, 2018",
   "output": "html_document",
   "title": "binomial_discrete_example"
  },
  "kernelspec": {
   "display_name": "R [conda env:r-environment]",
   "language": "R",
   "name": "conda-env-r-environment-r"
  },
  "language_info": {
   "codemirror_mode": "r",
   "file_extension": ".r",
   "mimetype": "text/x-r-source",
   "name": "R",
   "pygments_lexer": "r",
   "version": "3.5.1"
  },
  "latex_envs": {
   "LaTeX_envs_menu_present": true,
   "autoclose": false,
   "autocomplete": true,
   "bibliofile": "biblio.bib",
   "cite_by": "apalike",
   "current_citInitial": 1,
   "eqLabelWithNumbers": true,
   "eqNumInitial": 1,
   "hotkeys": {
    "equation": "Ctrl-E",
    "itemize": "Ctrl-I"
   },
   "labels_anchors": false,
   "latex_user_defs": false,
   "report_style_numbering": false,
   "user_envs_cfg": false
  },
  "toc": {
   "base_numbering": 1,
   "nav_menu": {},
   "number_sections": true,
   "sideBar": true,
   "skip_h1_title": false,
   "title_cell": "Table of Contents",
   "title_sidebar": "Contents",
   "toc_cell": false,
   "toc_position": {},
   "toc_section_display": true,
   "toc_window_display": false
  },
  "varInspector": {
   "cols": {
    "lenName": 16,
    "lenType": 16,
    "lenVar": 40
   },
   "kernels_config": {
    "python": {
     "delete_cmd_postfix": "",
     "delete_cmd_prefix": "del ",
     "library": "var_list.py",
     "varRefreshCmd": "print(var_dic_list())"
    },
    "r": {
     "delete_cmd_postfix": ") ",
     "delete_cmd_prefix": "rm(",
     "library": "var_list.r",
     "varRefreshCmd": "cat(var_dic_list()) "
    }
   },
   "types_to_exclude": [
    "module",
    "function",
    "builtin_function_or_method",
    "instance",
    "_Feature"
   ],
   "window_display": false
  }
 },
 "nbformat": 4,
 "nbformat_minor": 1
}
