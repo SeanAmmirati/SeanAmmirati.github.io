{
 "cells": [
  {
   "cell_type": "markdown",
   "metadata": {},
   "source": [
    "This is an example using 'fake' data for the difference between lmer (which assumes a constant (independent) covariance matrix for the error terms)\n",
    "and geepack (general estimating equations, which can handle an unknown convariance structure))\n",
    "\n",
    "This example highlights the power of using a GEE model over a HLM model when the covariance structure differs at different levels of the data. \n",
    "The GEE model can be seen as a population estimating model -- i.e., it is preferable when we are trying to make inferences about the population rather than the individuals in the sample. We do not explicitly parametrize over the groups -- instead, we assign some covariance structure between members of each group and find the marginal distribution. "
   ]
  },
  {
   "cell_type": "markdown",
   "metadata": {},
   "source": [
    "The problem is formulated as follows: consider 6 athletes with characteristics given by: "
   ]
  },
  {
   "cell_type": "code",
   "execution_count": 1,
   "metadata": {},
   "outputs": [
    {
     "name": "stderr",
     "output_type": "stream",
     "text": [
      "Loading required package: Matrix\n"
     ]
    }
   ],
   "source": [
    "library(lme4)\n",
    "library(geepack)"
   ]
  },
  {
   "cell_type": "code",
   "execution_count": 2,
   "metadata": {},
   "outputs": [],
   "source": [
    "athlete<-c(1,1,1,2,2,2,2,3,3,3,4,4,4,5,5,6,6,6)\n",
    "age<-c(38,40,43,53,55,56,58,37,40,42,41,45,46,54,58,57,60,62)\n",
    "club<-c(0,0,1,1,1,1,1,1,1,0,0,1,0,1,1,1,1,1)\n",
    "time<-c(95,94,93,96,98,91,93,83,82,82,91,94,99,105,111,90,89,95)\n",
    "logtime<-log(time)"
   ]
  },
  {
   "cell_type": "markdown",
   "metadata": {},
   "source": [
    "This is an example of a repeated measures problem. \n",
    "\n",
    "We create a dataframe from these elements:"
   ]
  },
  {
   "cell_type": "code",
   "execution_count": 3,
   "metadata": {},
   "outputs": [
    {
     "data": {
      "text/html": [
       "<table>\n",
       "<thead><tr><th scope=col>athlete</th><th scope=col>age</th><th scope=col>club</th><th scope=col>time</th><th scope=col>logtime</th></tr></thead>\n",
       "<tbody>\n",
       "\t<tr><td>1       </td><td>38      </td><td>0       </td><td> 95     </td><td>4.553877</td></tr>\n",
       "\t<tr><td>1       </td><td>40      </td><td>0       </td><td> 94     </td><td>4.543295</td></tr>\n",
       "\t<tr><td>1       </td><td>43      </td><td>1       </td><td> 93     </td><td>4.532599</td></tr>\n",
       "\t<tr><td>2       </td><td>53      </td><td>1       </td><td> 96     </td><td>4.564348</td></tr>\n",
       "\t<tr><td>2       </td><td>55      </td><td>1       </td><td> 98     </td><td>4.584967</td></tr>\n",
       "\t<tr><td>2       </td><td>56      </td><td>1       </td><td> 91     </td><td>4.510860</td></tr>\n",
       "\t<tr><td>2       </td><td>58      </td><td>1       </td><td> 93     </td><td>4.532599</td></tr>\n",
       "\t<tr><td>3       </td><td>37      </td><td>1       </td><td> 83     </td><td>4.418841</td></tr>\n",
       "\t<tr><td>3       </td><td>40      </td><td>1       </td><td> 82     </td><td>4.406719</td></tr>\n",
       "\t<tr><td>3       </td><td>42      </td><td>0       </td><td> 82     </td><td>4.406719</td></tr>\n",
       "\t<tr><td>4       </td><td>41      </td><td>0       </td><td> 91     </td><td>4.510860</td></tr>\n",
       "\t<tr><td>4       </td><td>45      </td><td>1       </td><td> 94     </td><td>4.543295</td></tr>\n",
       "\t<tr><td>4       </td><td>46      </td><td>0       </td><td> 99     </td><td>4.595120</td></tr>\n",
       "\t<tr><td>5       </td><td>54      </td><td>1       </td><td>105     </td><td>4.653960</td></tr>\n",
       "\t<tr><td>5       </td><td>58      </td><td>1       </td><td>111     </td><td>4.709530</td></tr>\n",
       "\t<tr><td>6       </td><td>57      </td><td>1       </td><td> 90     </td><td>4.499810</td></tr>\n",
       "\t<tr><td>6       </td><td>60      </td><td>1       </td><td> 89     </td><td>4.488636</td></tr>\n",
       "\t<tr><td>6       </td><td>62      </td><td>1       </td><td> 95     </td><td>4.553877</td></tr>\n",
       "</tbody>\n",
       "</table>\n"
      ],
      "text/latex": [
       "\\begin{tabular}{r|lllll}\n",
       " athlete & age & club & time & logtime\\\\\n",
       "\\hline\n",
       "\t 1        & 38       & 0        &  95      & 4.553877\\\\\n",
       "\t 1        & 40       & 0        &  94      & 4.543295\\\\\n",
       "\t 1        & 43       & 1        &  93      & 4.532599\\\\\n",
       "\t 2        & 53       & 1        &  96      & 4.564348\\\\\n",
       "\t 2        & 55       & 1        &  98      & 4.584967\\\\\n",
       "\t 2        & 56       & 1        &  91      & 4.510860\\\\\n",
       "\t 2        & 58       & 1        &  93      & 4.532599\\\\\n",
       "\t 3        & 37       & 1        &  83      & 4.418841\\\\\n",
       "\t 3        & 40       & 1        &  82      & 4.406719\\\\\n",
       "\t 3        & 42       & 0        &  82      & 4.406719\\\\\n",
       "\t 4        & 41       & 0        &  91      & 4.510860\\\\\n",
       "\t 4        & 45       & 1        &  94      & 4.543295\\\\\n",
       "\t 4        & 46       & 0        &  99      & 4.595120\\\\\n",
       "\t 5        & 54       & 1        & 105      & 4.653960\\\\\n",
       "\t 5        & 58       & 1        & 111      & 4.709530\\\\\n",
       "\t 6        & 57       & 1        &  90      & 4.499810\\\\\n",
       "\t 6        & 60       & 1        &  89      & 4.488636\\\\\n",
       "\t 6        & 62       & 1        &  95      & 4.553877\\\\\n",
       "\\end{tabular}\n"
      ],
      "text/markdown": [
       "\n",
       "athlete | age | club | time | logtime | \n",
       "|---|---|---|---|---|---|---|---|---|---|---|---|---|---|---|---|---|---|\n",
       "| 1        | 38       | 0        |  95      | 4.553877 | \n",
       "| 1        | 40       | 0        |  94      | 4.543295 | \n",
       "| 1        | 43       | 1        |  93      | 4.532599 | \n",
       "| 2        | 53       | 1        |  96      | 4.564348 | \n",
       "| 2        | 55       | 1        |  98      | 4.584967 | \n",
       "| 2        | 56       | 1        |  91      | 4.510860 | \n",
       "| 2        | 58       | 1        |  93      | 4.532599 | \n",
       "| 3        | 37       | 1        |  83      | 4.418841 | \n",
       "| 3        | 40       | 1        |  82      | 4.406719 | \n",
       "| 3        | 42       | 0        |  82      | 4.406719 | \n",
       "| 4        | 41       | 0        |  91      | 4.510860 | \n",
       "| 4        | 45       | 1        |  94      | 4.543295 | \n",
       "| 4        | 46       | 0        |  99      | 4.595120 | \n",
       "| 5        | 54       | 1        | 105      | 4.653960 | \n",
       "| 5        | 58       | 1        | 111      | 4.709530 | \n",
       "| 6        | 57       | 1        |  90      | 4.499810 | \n",
       "| 6        | 60       | 1        |  89      | 4.488636 | \n",
       "| 6        | 62       | 1        |  95      | 4.553877 | \n",
       "\n",
       "\n"
      ],
      "text/plain": [
       "   athlete age club time logtime \n",
       "1  1       38  0     95  4.553877\n",
       "2  1       40  0     94  4.543295\n",
       "3  1       43  1     93  4.532599\n",
       "4  2       53  1     96  4.564348\n",
       "5  2       55  1     98  4.584967\n",
       "6  2       56  1     91  4.510860\n",
       "7  2       58  1     93  4.532599\n",
       "8  3       37  1     83  4.418841\n",
       "9  3       40  1     82  4.406719\n",
       "10 3       42  0     82  4.406719\n",
       "11 4       41  0     91  4.510860\n",
       "12 4       45  1     94  4.543295\n",
       "13 4       46  0     99  4.595120\n",
       "14 5       54  1    105  4.653960\n",
       "15 5       58  1    111  4.709530\n",
       "16 6       57  1     90  4.499810\n",
       "17 6       60  1     89  4.488636\n",
       "18 6       62  1     95  4.553877"
      ]
     },
     "metadata": {},
     "output_type": "display_data"
    }
   ],
   "source": [
    "df<-data.frame(athlete,age,club,time,logtime)\n",
    "df"
   ]
  },
  {
   "cell_type": "markdown",
   "metadata": {},
   "source": [
    "Now, we want to estimate the (log) time based on age and club. However, the data is clearly correlated -- each individual will have different \n",
    "specifications. Consider that we believe that the average (log) time will be different for each individual, as a baseline. This is a mixed model\n",
    "more specifically a Random Intercept model. This is highlighted by the following equations. "
   ]
  },
  {
   "cell_type": "code",
   "execution_count": 4,
   "metadata": {},
   "outputs": [
    {
     "data": {
      "text/plain": [
       "Linear mixed model fit by maximum likelihood  ['lmerMod']\n",
       "Formula: logtime ~ club + log(age) + (1 | athlete)\n",
       "   Data: df\n",
       "\n",
       "     AIC      BIC   logLik deviance df.resid \n",
       "   -49.2    -44.7     29.6    -59.2       13 \n",
       "\n",
       "Scaled residuals: \n",
       "    Min      1Q  Median      3Q     Max \n",
       "-1.3445 -0.7551 -0.1840  0.7895  1.2651 \n",
       "\n",
       "Random effects:\n",
       " Groups   Name        Variance  Std.Dev.\n",
       " athlete  (Intercept) 0.0042173 0.06494 \n",
       " Residual             0.0008858 0.02976 \n",
       "Number of obs: 18, groups:  athlete, 6\n",
       "\n",
       "Fixed effects:\n",
       "            Estimate Std. Error t value\n",
       "(Intercept)  3.78158    0.45714   8.272\n",
       "club        -0.01049    0.02101  -0.499\n",
       "log(age)     0.19753    0.11837   1.669\n",
       "\n",
       "Correlation of Fixed Effects:\n",
       "         (Intr) club  \n",
       "club      0.184       \n",
       "log(age) -0.998 -0.216"
      ]
     },
     "metadata": {},
     "output_type": "display_data"
    },
    {
     "data": {
      "text/plain": [
       "Linear mixed model fit by maximum likelihood  ['lmerMod']\n",
       "Formula: logtime ~ log(age) + (1 | athlete)\n",
       "   Data: df\n",
       "\n",
       "     AIC      BIC   logLik deviance df.resid \n",
       "   -50.9    -47.4     29.5    -58.9       14 \n",
       "\n",
       "Scaled residuals: \n",
       "    Min      1Q  Median      3Q     Max \n",
       "-1.3343 -0.6924 -0.3215  0.7936  1.2927 \n",
       "\n",
       "Random effects:\n",
       " Groups   Name        Variance  Std.Dev.\n",
       " athlete  (Intercept) 0.0042948 0.06554 \n",
       " Residual             0.0008962 0.02994 \n",
       "Number of obs: 18, groups:  athlete, 6\n",
       "\n",
       "Fixed effects:\n",
       "            Estimate Std. Error t value\n",
       "(Intercept)   3.8241     0.4527   8.448\n",
       "log(age)      0.1846     0.1164   1.586\n",
       "\n",
       "Correlation of Fixed Effects:\n",
       "         (Intr)\n",
       "log(age) -0.998"
      ]
     },
     "metadata": {},
     "output_type": "display_data"
    }
   ],
   "source": [
    "mod1<-lmer(logtime~club+log(age)+(1|athlete),data=df,REML=FALSE)\n",
    "mod2<-lmer(logtime~log(age)+(1|athlete),data=df,REML=FALSE)\n",
    "\n",
    "summary(mod1)\n",
    "summary(mod2)"
   ]
  },
  {
   "cell_type": "markdown",
   "metadata": {},
   "source": [
    "However, this assumes that the covariance structure of the errors at each level are independent. This assumption is too simplifying -- \n",
    "it is likely that the variables are correlated across individuals (for instance, it appears that the clubs are for particular age ranges). To account for this, we could add more random effects to the model (which would subsequently break the data down into even smaller groups), or we could use a GEE to forgo the subject-level estimations and estimate on the populations, assuming some covariance structure between groups."
   ]
  },
  {
   "cell_type": "code",
   "execution_count": 5,
   "metadata": {},
   "outputs": [
    {
     "data": {
      "text/plain": [
       "\n",
       "Call:\n",
       "geeglm(formula = logtime ~ club + log(age), family = gaussian, \n",
       "    data = df, id = athlete, corstr = \"exchangeable\")\n",
       "\n",
       " Coefficients:\n",
       "            Estimate  Std.err   Wald Pr(>|W|)    \n",
       "(Intercept)  3.67345  0.42962 73.109   <2e-16 ***\n",
       "club        -0.01429  0.01422  1.010   0.3149    \n",
       "log(age)     0.22584  0.11276  4.011   0.0452 *  \n",
       "---\n",
       "Signif. codes:  0 ‘***’ 0.001 ‘**’ 0.01 ‘*’ 0.05 ‘.’ 0.1 ‘ ’ 1\n",
       "\n",
       "Estimated Scale Parameters:\n",
       "            Estimate  Std.err\n",
       "(Intercept) 0.004443 0.001609\n",
       "\n",
       "Correlation: Structure = exchangeable  Link = identity \n",
       "\n",
       "Estimated Correlation Parameters:\n",
       "      Estimate Std.err\n",
       "alpha   0.6112  0.1829\n",
       "Number of clusters:   6   Maximum cluster size: 4 "
      ]
     },
     "metadata": {},
     "output_type": "display_data"
    },
    {
     "data": {
      "text/plain": [
       "\n",
       "Call:\n",
       "geeglm(formula = logtime ~ log(age), family = gaussian, data = df, \n",
       "    id = athlete, corstr = \"exchangeable\")\n",
       "\n",
       " Coefficients:\n",
       "            Estimate Std.err  Wald Pr(>|W|)    \n",
       "(Intercept)    3.742   0.488 58.84  1.7e-14 ***\n",
       "log(age)       0.206   0.127  2.61     0.11    \n",
       "---\n",
       "Signif. codes:  0 ‘***’ 0.001 ‘**’ 0.01 ‘*’ 0.05 ‘.’ 0.1 ‘ ’ 1\n",
       "\n",
       "Estimated Scale Parameters:\n",
       "            Estimate Std.err\n",
       "(Intercept)  0.00458 0.00154\n",
       "\n",
       "Correlation: Structure = exchangeable  Link = identity \n",
       "\n",
       "Estimated Correlation Parameters:\n",
       "      Estimate Std.err\n",
       "alpha    0.624   0.181\n",
       "Number of clusters:   6   Maximum cluster size: 4 "
      ]
     },
     "metadata": {},
     "output_type": "display_data"
    }
   ],
   "source": [
    "mod3<-geeglm(logtime~club+log(age),data=df,id=athlete,family=gaussian,corstr=\"exchangeable\")\n",
    "mod4<-geeglm(logtime~log(age),data=df,id=athlete,family=gaussian,corstr=\"exchangeable\")\n",
    "\n",
    "summary(mod3)\n",
    "summary(mod4)"
   ]
  },
  {
   "cell_type": "markdown",
   "metadata": {},
   "source": [
    "The main shift in inference here is from likelihood models (which are generally prefered) to a semi-parametric model that depends only on the\n",
    "first two moments. GEEs are better estimators of a population-level variance -- they cannot account for individual differences explicitly, as a GLMM could. In this example, however, we see that the GEE finds the log(age) value significant where the previous model had not. Depending on the \n",
    "goal of the analysis, the GEE will produce better estimates asymptotically at the cost of sample-level inference."
   ]
  }
 ],
 "metadata": {
  "kernelspec": {
   "display_name": "R [conda env:r-environment]",
   "language": "R",
   "name": "conda-env-r-environment-r"
  },
  "language_info": {
   "codemirror_mode": "r",
   "file_extension": ".r",
   "mimetype": "text/x-r-source",
   "name": "R",
   "pygments_lexer": "r",
   "version": "3.5.1"
  }
 },
 "nbformat": 4,
 "nbformat_minor": 2
}
