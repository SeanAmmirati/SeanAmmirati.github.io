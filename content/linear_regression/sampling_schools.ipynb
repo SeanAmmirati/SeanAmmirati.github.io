{
 "cells": [
  {
   "cell_type": "markdown",
   "metadata": {},
   "source": [
    "First, we will treat the csv \"schools_ds\" as the population that follows a random intercept model based on the group. We will use this to investigate the sampling strategies that one could use and see how the models compare. This data considers scores from various schools, with the score representing a students' score on a test, and the grpID represeting the school."
   ]
  },
  {
   "cell_type": "code",
   "execution_count": 2,
   "metadata": {
    "autoscroll": false
   },
   "outputs": [
    {
     "data": {
      "text/html": [
       "<table>\n",
       "<thead><tr><th scope=col>X</th><th scope=col>score</th><th scope=col>grpID</th></tr></thead>\n",
       "<tbody>\n",
       "\t<tr><td>1  </td><td>100</td><td>1  </td></tr>\n",
       "\t<tr><td>2  </td><td>110</td><td>1  </td></tr>\n",
       "\t<tr><td>3  </td><td> 96</td><td>1  </td></tr>\n",
       "\t<tr><td>4  </td><td> 80</td><td>1  </td></tr>\n",
       "\t<tr><td>5  </td><td> 83</td><td>1  </td></tr>\n",
       "\t<tr><td>6  </td><td> 76</td><td>1  </td></tr>\n",
       "</tbody>\n",
       "</table>\n"
      ],
      "text/latex": [
       "\\begin{tabular}{r|lll}\n",
       " X & score & grpID\\\\\n",
       "\\hline\n",
       "\t 1   & 100 & 1  \\\\\n",
       "\t 2   & 110 & 1  \\\\\n",
       "\t 3   &  96 & 1  \\\\\n",
       "\t 4   &  80 & 1  \\\\\n",
       "\t 5   &  83 & 1  \\\\\n",
       "\t 6   &  76 & 1  \\\\\n",
       "\\end{tabular}\n"
      ],
      "text/markdown": [
       "\n",
       "X | score | grpID | \n",
       "|---|---|---|---|---|---|\n",
       "| 1   | 100 | 1   | \n",
       "| 2   | 110 | 1   | \n",
       "| 3   |  96 | 1   | \n",
       "| 4   |  80 | 1   | \n",
       "| 5   |  83 | 1   | \n",
       "| 6   |  76 | 1   | \n",
       "\n",
       "\n"
      ],
      "text/plain": [
       "  X score grpID\n",
       "1 1 100   1    \n",
       "2 2 110   1    \n",
       "3 3  96   1    \n",
       "4 4  80   1    \n",
       "5 5  83   1    \n",
       "6 6  76   1    "
      ]
     },
     "metadata": {},
     "output_type": "display_data"
    },
    {
     "name": "stderr",
     "output_type": "stream",
     "text": [
      "Loading required package: lme4\n",
      "Loading required package: Matrix\n"
     ]
    },
    {
     "data": {
      "text/plain": [
       "Linear mixed model fit by REML ['lmerMod']\n",
       "Formula: score ~ 1 + (1 | grpID)\n",
       "   Data: data\n",
       "\n",
       "REML criterion at convergence: 9142.6\n",
       "\n",
       "Scaled residuals: \n",
       "    Min      1Q  Median      3Q     Max \n",
       "-2.9995 -0.6230 -0.0388  0.6663  3.7416 \n",
       "\n",
       "Random effects:\n",
       " Groups   Name        Variance Std.Dev.\n",
       " grpID    (Intercept)  32.01    5.658  \n",
       " Residual             233.57   15.283  \n",
       "Number of obs: 1100, groups:  grpID, 10\n",
       "\n",
       "Fixed effects:\n",
       "            Estimate Std. Error t value\n",
       "(Intercept)  101.298      1.876   53.99"
      ]
     },
     "metadata": {},
     "output_type": "display_data"
    }
   ],
   "source": [
    "data <- read.csv(\"./schools_ds.csv\")\n",
    "head(data)\n",
    "require(lme4)\n",
    "mod1 <- lmer(score~1+(1|grpID),data=data)\n",
    "summary(mod1)"
   ]
  },
  {
   "cell_type": "markdown",
   "metadata": {},
   "source": [
    "This exercise will be investigating the effect of sampling schema on the effectiveness of HLMS by looking at school data. Each school has a different number of students, and we wish to fit a random intercept model\n",
    "based on the school.\n",
    "\n",
    "I first create some functions that will be useful for me in creating the samples. The first creates a sample from a group of n elements. The second transfers a list into a data frame. I then create the samples by first randomly selecting 11 from each group, then selecting i*2 from each group (so 2 from group 1, 4 from group 2, etc.)."
   ]
  },
  {
   "cell_type": "markdown",
   "metadata": {},
   "source": [
    "# Helper functions"
   ]
  },
  {
   "cell_type": "code",
   "execution_count": 3,
   "metadata": {
    "autoscroll": false
   },
   "outputs": [],
   "source": [
    "samplefromgroup <- function(grp,n){\n",
    "  j= sample(1:length(data[data$grpID==grp,1]),n)\n",
    "  return(data[data$grpID==grp,][j,])\n",
    "}\n",
    "\n",
    "lt2df <- function(l){\n",
    "  return(as.data.frame(do.call(rbind.data.frame,l)))\n",
    "}"
   ]
  },
  {
   "cell_type": "markdown",
   "metadata": {},
   "source": [
    "# Simulation"
   ]
  },
  {
   "cell_type": "code",
   "execution_count": 4,
   "metadata": {
    "autoscroll": false
   },
   "outputs": [
    {
     "name": "stderr",
     "output_type": "stream",
     "text": [
      "Warning message in optwrap(optimizer, devfun, getStart(start, rho$lower, rho$pp), :\n",
      "“convergence code 3 from bobyqa: bobyqa -- a trust region step failed to reduce q”"
     ]
    },
    {
     "data": {
      "text/html": [
       "<table>\n",
       "<thead><tr><th></th><th scope=col>Model 1</th><th scope=col>Model 2</th><th scope=col>Model 3</th><th scope=col>Model 4</th></tr></thead>\n",
       "<tbody>\n",
       "\t<tr><th scope=row>Gamma00</th><td>-0.0801288  </td><td>-2.981430985</td><td>-0.3801288  </td><td>-0.9437652  </td></tr>\n",
       "\t<tr><th scope=row>Sigma</th><td> 0.7517267  </td><td>-0.005658724</td><td>-0.8614719  </td><td> 1.1448531  </td></tr>\n",
       "\t<tr><th scope=row>Tao0</th><td> 2.2040381  </td><td>-2.554488338</td><td>-0.4333093  </td><td>-0.3124444  </td></tr>\n",
       "</tbody>\n",
       "</table>\n"
      ],
      "text/latex": [
       "\\begin{tabular}{r|llll}\n",
       "  & Model 1 & Model 2 & Model 3 & Model 4\\\\\n",
       "\\hline\n",
       "\tGamma00 & -0.0801288   & -2.981430985 & -0.3801288   & -0.9437652  \\\\\n",
       "\tSigma &  0.7517267   & -0.005658724 & -0.8614719   &  1.1448531  \\\\\n",
       "\tTao0 &  2.2040381   & -2.554488338 & -0.4333093   & -0.3124444  \\\\\n",
       "\\end{tabular}\n"
      ],
      "text/markdown": [
       "\n",
       "| <!--/--> | Model 1 | Model 2 | Model 3 | Model 4 | \n",
       "|---|---|---|\n",
       "| Gamma00 | -0.0801288   | -2.981430985 | -0.3801288   | -0.9437652   | \n",
       "| Sigma |  0.7517267   | -0.005658724 | -0.8614719   |  1.1448531   | \n",
       "| Tao0 |  2.2040381   | -2.554488338 | -0.4333093   | -0.3124444   | \n",
       "\n",
       "\n"
      ],
      "text/plain": [
       "        Model 1    Model 2      Model 3    Model 4   \n",
       "Gamma00 -0.0801288 -2.981430985 -0.3801288 -0.9437652\n",
       "Sigma    0.7517267 -0.005658724 -0.8614719  1.1448531\n",
       "Tao0     2.2040381 -2.554488338 -0.4333093 -0.3124444"
      ]
     },
     "metadata": {},
     "output_type": "display_data"
    }
   ],
   "source": [
    "simresults<-list()\n",
    "  for (sim in 1:10^3) {\n",
    "    sample1 <- list()\n",
    "    nschool <- length(unique(data$grpID))\n",
    "\n",
    "    for(i in 1:nschool){\n",
    "      sample1[[i]] <- samplefromgroup(i,11)\n",
    "    }\n",
    "\n",
    "    sample1 <- lt2df(sample1)\n",
    "    sample1\n",
    "\n",
    "    sample2 <- list()\n",
    "    for(i in 1:nschool){\n",
    "      sample2[[i]] <- samplefromgroup(i,2*i)\n",
    "    }\n",
    "    sample2 <- lt2df(sample2)\n",
    "    sample2\n",
    "\n",
    "    sample3 <- list()\n",
    "    randomschool <- sample(1:nschool,5)\n",
    "    trigger <- any(randomschool==1)\n",
    "\n",
    "\n",
    "    if(trigger){\n",
    "      remaining <- !randomschool==1\n",
    "      remsch <- randomschool[remaining]\n",
    "      randomselect23 <- sample(remsch,2)\n",
    "      schoolselect22 <- remsch[remsch!=randomselect23[1]&remsch!=randomselect23[2]]\n",
    "\n",
    "\n",
    "      sample3[[1]] <- data[data$grpID==1,]\n",
    "\n",
    "      for(i in 1:2){\n",
    "        sample3[[i+1]] <- samplefromgroup(randomselect23[i],23)\n",
    "        sample3[[i+3]] <- samplefromgroup(schoolselect22[i],22)\n",
    "      }\n",
    "    } else{\n",
    "        for(i in 1:length(randomschool)){\n",
    "          sample3[[i]] <- samplefromgroup(randomschool[i],22)\n",
    "        }\n",
    "    }\n",
    "\n",
    "    sample3 <- lt2df(sample3)\n",
    "    sample3\n",
    "\n",
    "    sample4 <- list()\n",
    "\n",
    "    weights <- vector()\n",
    "    for(i in 1:nschool){\n",
    "      weights[i] <- length(data[data$grpID==i,1])/nrow(data)\n",
    "    }\n",
    "\n",
    "    randomschool2 <- sample(1:nschool,5,prob=weights)\n",
    "    trigger2 <- any(randomschool2==1)\n",
    "\n",
    "\n",
    "    if(trigger2){\n",
    "      remaining2 <- !randomschool2==1\n",
    "      remsch2 <- randomschool2[remaining2]\n",
    "      randomselect232 <- sample(remsch2,2)\n",
    "      schoolselect222 <- remsch2[remsch2!=randomselect232[1]&remsch2!=randomselect232[2]]\n",
    "\n",
    "\n",
    "      sample4[[1]] <- data[data$grpID==1,]\n",
    "      for(i in 1:2){\n",
    "\n",
    "        sample4[[i+1]] <- samplefromgroup(randomselect232[i],23)\n",
    "        sample4[[i+3]] <- samplefromgroup(schoolselect222[i],22)\n",
    "      }\n",
    "\n",
    "    } else{\n",
    "      for(i in 1:length(randomschool)){\n",
    "        sample4[[i]] <- samplefromgroup(randomschool2[i],22)\n",
    "      }\n",
    "    }\n",
    "\n",
    "    sample4 <- as.data.frame(do.call(rbind.data.frame,sample4))\n",
    "    sample4\n",
    "\n",
    "\n",
    "    listofsamples <- list(sample1,sample2,sample3,sample4)\n",
    "    parameters <- matrix(nrow=3,ncol=4)\n",
    "    rownames(parameters) <- c(\"Gamma00\",\"Sigma\",\"Tao0\")\n",
    "    colnames(parameters) <- c(\"Model 1\",\"Model 2\",\"Model 3\",\"Model 4\")\n",
    "\n",
    "    models <- list()\n",
    "    for(i in 1:length(listofsamples)){\n",
    "      models[[i]] <- lmer(score~1+(1|grpID),data=listofsamples[[i]])\n",
    "      parameters[1,i] <- summary(models[[i]])$coef[1]\n",
    "      parameters[2,i] <- summary(models[[i]])$sigma\n",
    "      parameters[3,i] <- as.data.frame(VarCorr(models[[i]]))[1,5]\n",
    "    }\n",
    "    simresults[[sim]] <- parameters\n",
    "}\n",
    "\n",
    "fullmodelparameters <- matrix(rep(c(summary(mod1)$coef[1],summary(mod1)$sigma,as.data.frame(VarCorr(mod1))[1,5]),4),nrow=3)\n",
    "\n",
    "simresults[[1]] - fullmodelparameters"
   ]
  },
  {
   "cell_type": "markdown",
   "metadata": {},
   "source": [
    "\n",
    "I then create a list of samples, and use each of these samples to sample using the models. I create a matrix that will store the parameters in `parameters`, and it stores the fixed effect ($\\gamma_{0,0}$) and the variances of the random effects ($\\sigma^2$ and $\\tau^2$) for each model, using each sample. It then stores this information for each simulation, which is done $10^5$ times. This means the samples are created differently each time, and then the model is fit using each sample, and the information is stored in a list for each simulation. I then compare this to the model using the full population, which are the full model parameters. As an example, we can see the bias from the first simulation of each model, for each variable.\n",
    "\n",
    "I then compute the mean bias, mean squared error, and mean variance for each of the samples. I do this by summing all of the individual biases, squared errors, and variances, and dividing by the total number of simulations.\n",
    "\n"
   ]
  },
  {
   "cell_type": "code",
   "execution_count": 5,
   "metadata": {
    "autoscroll": false
   },
   "outputs": [
    {
     "data": {
      "text/html": [
       "<table>\n",
       "<thead><tr><th></th><th scope=col>Model 1</th><th scope=col>Model 2</th><th scope=col>Model 3</th><th scope=col>Model 4</th></tr></thead>\n",
       "<tbody>\n",
       "\t<tr><th scope=row>Gamma00</th><td>0.01748752</td><td>0.02072217</td><td>0.05179054</td><td>0.04740217</td></tr>\n",
       "\t<tr><th scope=row>Sigma</th><td>0.01140245</td><td>0.01069759</td><td>0.01055099</td><td>0.01016488</td></tr>\n",
       "\t<tr><th scope=row>Tao0</th><td>0.03968227</td><td>0.02583796</td><td>0.04847282</td><td>0.04262270</td></tr>\n",
       "</tbody>\n",
       "</table>\n"
      ],
      "text/latex": [
       "\\begin{tabular}{r|llll}\n",
       "  & Model 1 & Model 2 & Model 3 & Model 4\\\\\n",
       "\\hline\n",
       "\tGamma00 & 0.01748752 & 0.02072217 & 0.05179054 & 0.04740217\\\\\n",
       "\tSigma & 0.01140245 & 0.01069759 & 0.01055099 & 0.01016488\\\\\n",
       "\tTao0 & 0.03968227 & 0.02583796 & 0.04847282 & 0.04262270\\\\\n",
       "\\end{tabular}\n"
      ],
      "text/markdown": [
       "\n",
       "| <!--/--> | Model 1 | Model 2 | Model 3 | Model 4 | \n",
       "|---|---|---|\n",
       "| Gamma00 | 0.01748752 | 0.02072217 | 0.05179054 | 0.04740217 | \n",
       "| Sigma | 0.01140245 | 0.01069759 | 0.01055099 | 0.01016488 | \n",
       "| Tao0 | 0.03968227 | 0.02583796 | 0.04847282 | 0.04262270 | \n",
       "\n",
       "\n"
      ],
      "text/plain": [
       "        Model 1    Model 2    Model 3    Model 4   \n",
       "Gamma00 0.01748752 0.02072217 0.05179054 0.04740217\n",
       "Sigma   0.01140245 0.01069759 0.01055099 0.01016488\n",
       "Tao0    0.03968227 0.02583796 0.04847282 0.04262270"
      ]
     },
     "metadata": {},
     "output_type": "display_data"
    },
    {
     "data": {
      "text/html": [
       "<table>\n",
       "<thead><tr><th></th><th scope=col>Model 1</th><th scope=col>Model 2</th><th scope=col>Model 3</th><th scope=col>Model 4</th></tr></thead>\n",
       "<tbody>\n",
       "\t<tr><th scope=row>Gamma00</th><td>100.2610814</td><td>101.440250 </td><td>100.5597129</td><td>101.5455572</td></tr>\n",
       "\t<tr><th scope=row>Sigma</th><td>  2.2049334</td><td>  2.290984 </td><td>  2.2154111</td><td>  2.2687420</td></tr>\n",
       "\t<tr><th scope=row>Tao0</th><td>  0.3043728</td><td>  0.366400 </td><td>  0.2977824</td><td>  0.3723673</td></tr>\n",
       "</tbody>\n",
       "</table>\n"
      ],
      "text/latex": [
       "\\begin{tabular}{r|llll}\n",
       "  & Model 1 & Model 2 & Model 3 & Model 4\\\\\n",
       "\\hline\n",
       "\tGamma00 & 100.2610814 & 101.440250  & 100.5597129 & 101.5455572\\\\\n",
       "\tSigma &   2.2049334 &   2.290984  &   2.2154111 &   2.2687420\\\\\n",
       "\tTao0 &   0.3043728 &   0.366400  &   0.2977824 &   0.3723673\\\\\n",
       "\\end{tabular}\n"
      ],
      "text/markdown": [
       "\n",
       "| <!--/--> | Model 1 | Model 2 | Model 3 | Model 4 | \n",
       "|---|---|---|\n",
       "| Gamma00 | 100.2610814 | 101.440250  | 100.5597129 | 101.5455572 | \n",
       "| Sigma |   2.2049334 |   2.290984  |   2.2154111 |   2.2687420 | \n",
       "| Tao0 |   0.3043728 |   0.366400  |   0.2977824 |   0.3723673 | \n",
       "\n",
       "\n"
      ],
      "text/plain": [
       "        Model 1     Model 2    Model 3     Model 4    \n",
       "Gamma00 100.2610814 101.440250 100.5597129 101.5455572\n",
       "Sigma     2.2049334   2.290984   2.2154111   2.2687420\n",
       "Tao0      0.3043728   0.366400   0.2977824   0.3723673"
      ]
     },
     "metadata": {},
     "output_type": "display_data"
    },
    {
     "data": {
      "text/html": [
       "<table>\n",
       "<thead><tr><th></th><th scope=col>Model 1</th><th scope=col>Model 2</th><th scope=col>Model 3</th><th scope=col>Model 4</th></tr></thead>\n",
       "<tbody>\n",
       "\t<tr><th scope=row>Gamma00</th><td>-0.001651197 </td><td> 0.0042711199</td><td>-0.000320029 </td><td> 0.004667134 </td></tr>\n",
       "\t<tr><th scope=row>Sigma</th><td>-0.003194664 </td><td>-0.0002994215</td><td>-0.002816646 </td><td>-0.001024023 </td></tr>\n",
       "\t<tr><th scope=row>Tao0</th><td>-0.004419130 </td><td> 0.0024195585</td><td>-0.005803453 </td><td> 0.001443499 </td></tr>\n",
       "</tbody>\n",
       "</table>\n"
      ],
      "text/latex": [
       "\\begin{tabular}{r|llll}\n",
       "  & Model 1 & Model 2 & Model 3 & Model 4\\\\\n",
       "\\hline\n",
       "\tGamma00 & -0.001651197  &  0.0042711199 & -0.000320029  &  0.004667134 \\\\\n",
       "\tSigma & -0.003194664  & -0.0002994215 & -0.002816646  & -0.001024023 \\\\\n",
       "\tTao0 & -0.004419130  &  0.0024195585 & -0.005803453  &  0.001443499 \\\\\n",
       "\\end{tabular}\n"
      ],
      "text/markdown": [
       "\n",
       "| <!--/--> | Model 1 | Model 2 | Model 3 | Model 4 | \n",
       "|---|---|---|\n",
       "| Gamma00 | -0.001651197  |  0.0042711199 | -0.000320029  |  0.004667134  | \n",
       "| Sigma | -0.003194664  | -0.0002994215 | -0.002816646  | -0.001024023  | \n",
       "| Tao0 | -0.004419130  |  0.0024195585 | -0.005803453  |  0.001443499  | \n",
       "\n",
       "\n"
      ],
      "text/plain": [
       "        Model 1      Model 2       Model 3      Model 4     \n",
       "Gamma00 -0.001651197  0.0042711199 -0.000320029  0.004667134\n",
       "Sigma   -0.003194664 -0.0002994215 -0.002816646 -0.001024023\n",
       "Tao0    -0.004419130  0.0024195585 -0.005803453  0.001443499"
      ]
     },
     "metadata": {},
     "output_type": "display_data"
    }
   ],
   "source": [
    "indbias <- lapply(simresults,function(x) x - fullmodelparameters)\n",
    "indsquarederror <- lapply(simresults,function(x) (x - fullmodelparameters)^2)\n",
    "mean <- Reduce('+',simresults)/10^5\n",
    "indvariance <- lapply(simresults, function(x) (x - mean)^2)\n",
    "\n",
    "mse <- Reduce('+',indsquarederror)/10^5\n",
    "variance <- Reduce('+',indvariance)/10^5\n",
    "fullbias <- Reduce('+',indbias)/10^5\n",
    "\n",
    "mse\n",
    "variance\n",
    "fullbias"
   ]
  },
  {
   "cell_type": "markdown",
   "metadata": {},
   "source": [
    "# Discussion"
   ]
  },
  {
   "cell_type": "markdown",
   "metadata": {},
   "source": [
    "The components of the MSE can be decomposed into the variance and the bias (MSE = $b^2$ + $\\sigma^2$).\n",
    "\n",
    "This discussion is especially important to application because it is often expensive or impossible to gather data from the entire population (thus why we sample in the first place), and in the same vein, it may be expensive or difficult to gather data from all of the subsequent groups. Sampling the schools may be seen as desirable in this instance, as it will likely require less resources to acquire information from 5 groups rather than 10. However, we can see from the above that the effects of this on the models are somewhat large, and sampling from the number of schools does not produce the same results as sampling from each school directly.\n",
    "\n",
    "While it may not be immediately obvious from this problem, if you were to try to sample from, say, 100,000 schools, 1,000 students in each school, this could become extremely expensive and difficult to do. Thus the importance of the results here cannot be stressed enough - it is not equivalent to randomly sample 5 (or any number) groups and select a comparable number of students. Due to the structure of the HLMs, a great deal of information is lost if we neglect to look at all of the groups.\n",
    "\n",
    "This is reflected in the results above. Models 3 and 4 show considerably worse results than the first two models. This suggest that sampling from the number of schools, which may be less expensive, is less accurate at predicting the true model underlying the data. That is, using more groups will produce more favorable results in the application of HLM, even though the number of students is exactly the same in all cases.\n",
    "\n",
    "We see that the estimates of $\\sigma$ are more accurate in terms of mse. This makes sense, as we can more accurately account for the individual differences, as there are less groups. However, this is a consequence of the sampling - and therefore, the $\\tau_{0}$ estimates are much, much worse for the later two models. Since we have constructed the HLM's to account for variations within groups, and we are often interested in the level 2 variations as well, gaining a small amount of accuracy in sigma for a large drop in accuracy of $\\tau_0$ is unfavorable. If we were that much more concerned with estimating $\\sigma$ than $\\tau$, we wouldn't be using a HLM in the first place. We also see a larger difference in the estimates for $\\gamma_0$ for the later two models.\n",
    "\n",
    "The other structure that is included here involves weighting the models by the number of students in each school. Thus Model 2 and Model 4 weigh the results by the number of students, while Model 1 and Model 3 treat them all as if they are equivalent. We see that using the weighing strategy produces worse results for the fixed coefficients, but in general is better for the random coefficients. This makes sense, since this weighing is based on the groups themselves, which will introduce more bias and variance in the fixed coefficients for the intercept. However, there is a trade off here, as the mse for both $\\sigma$ and $\\tau_0$ decreases, which suggests that the random components of the models are closer to the true random parameters. The weighed models produce more variance in estimating sigma, but less bias, and produce better results for both for $\\tau_0$. This makes sense, as weighing the groups will produce less biased estimates for the individual random effect, but produce a higher variance as these results have different amounts of students sampled. $\\tau_0$ will be more accurate in terms of both variance and bias, as we are accounting for the differences in the groups, which is reflected in the full model in a similar way.\n"
   ]
  }
 ],
 "metadata": {
  "Rmd_header": {
   "author": "Sean Ammirati",
   "date": "April 4, 2017",
   "output": "html_document",
   "title": "Sampling Using HLMS"
  },
  "kernelspec": {
   "display_name": "R [conda env:r-environment]",
   "language": "R",
   "name": "conda-env-r-environment-r"
  },
  "language_info": {
   "codemirror_mode": "r",
   "file_extension": ".r",
   "mimetype": "text/x-r-source",
   "name": "R",
   "pygments_lexer": "r",
   "version": "3.5.1"
  }
 },
 "nbformat": 4,
 "nbformat_minor": 1
}
