{
 "cells": [
  {
   "cell_type": "markdown",
   "metadata": {},
   "source": [
    "\n",
    "Here I consider the marathon runners listed in the https://en.wikipedia.org/wiki/List_of_world_records_in_masters_athletics wikipedia page.\n",
    "\n",
    "I consider various generalized linear models (GLMS) with different families, and consider the properties of the inverse-gamma."
   ]
  },
  {
   "cell_type": "code",
   "execution_count": 1,
   "metadata": {
    "autoscroll": false
   },
   "outputs": [
    {
     "data": {
      "text/html": [
       "<table>\n",
       "<thead><tr><th scope=col>time</th><th scope=col>age</th><th scope=col>gender</th></tr></thead>\n",
       "<tbody>\n",
       "\t<tr><td>139.316</td><td>35     </td><td>1      </td></tr>\n",
       "\t<tr><td>144.893</td><td>40     </td><td>1      </td></tr>\n",
       "\t<tr><td>149.000</td><td>45     </td><td>1      </td></tr>\n",
       "\t<tr><td>151.083</td><td>50     </td><td>1      </td></tr>\n",
       "\t<tr><td>170.550</td><td>55     </td><td>1      </td></tr>\n",
       "\t<tr><td>181.500</td><td>60     </td><td>1      </td></tr>\n",
       "</tbody>\n",
       "</table>\n"
      ],
      "text/latex": [
       "\\begin{tabular}{r|lll}\n",
       " time & age & gender\\\\\n",
       "\\hline\n",
       "\t 139.316 & 35      & 1      \\\\\n",
       "\t 144.893 & 40      & 1      \\\\\n",
       "\t 149.000 & 45      & 1      \\\\\n",
       "\t 151.083 & 50      & 1      \\\\\n",
       "\t 170.550 & 55      & 1      \\\\\n",
       "\t 181.500 & 60      & 1      \\\\\n",
       "\\end{tabular}\n"
      ],
      "text/markdown": [
       "\n",
       "time | age | gender | \n",
       "|---|---|---|---|---|---|\n",
       "| 139.316 | 35      | 1       | \n",
       "| 144.893 | 40      | 1       | \n",
       "| 149.000 | 45      | 1       | \n",
       "| 151.083 | 50      | 1       | \n",
       "| 170.550 | 55      | 1       | \n",
       "| 181.500 | 60      | 1       | \n",
       "\n",
       "\n"
      ],
      "text/plain": [
       "  time    age gender\n",
       "1 139.316 35  1     \n",
       "2 144.893 40  1     \n",
       "3 149.000 45  1     \n",
       "4 151.083 50  1     \n",
       "5 170.550 55  1     \n",
       "6 181.500 60  1     "
      ]
     },
     "metadata": {},
     "output_type": "display_data"
    }
   ],
   "source": [
    "timesm <- c(123.98,128.633,134.266,139.484,139.533,156.5,161.95,174.8,184.9,195.9,236.567,340.017,505.283)\n",
    "timesf <- c(139.316,144.893,149.00,151.083,170.55,181.5,192.95,215.483,233.7,252.733,314.433,533.133)\n",
    "agem <- c(35,40,45,50,55,60,65,70,75,80,85,90,100)\n",
    "agef <- c(35,40,45,50,55,60,65,70,75,80,85,90)\n",
    "\n",
    "agemsq <- agem^2\n",
    "\n",
    "time <- c(timesf,timesm)\n",
    "age <- c(agef,agem)\n",
    "gender <- c(rep(1,12),rep(0,13))\n",
    "\n",
    "marathon <- data.frame(time,age,gender)\n",
    "head(marathon)"
   ]
  },
  {
   "cell_type": "markdown",
   "metadata": {},
   "source": [
    "First, I defined the variables. I found the times (in seconds) and recorded these for both males and females. I contained all of the data in a single dataset.\n",
    "\n",
    "# Linear Regression (Normal response)\n"
   ]
  },
  {
   "cell_type": "code",
   "execution_count": 2,
   "metadata": {
    "autoscroll": false
   },
   "outputs": [
    {
     "data": {
      "text/plain": [
       "\n",
       "Call:\n",
       "lm(formula = timesm ~ agem, data = marathon)\n",
       "\n",
       "Residuals:\n",
       "   Min     1Q Median     3Q    Max \n",
       "-70.80 -47.41 -15.95  28.83 149.61 \n",
       "\n",
       "Coefficients:\n",
       "            Estimate Std. Error t value Pr(>|t|)    \n",
       "(Intercept)  -89.203     62.054  -1.438  0.17841    \n",
       "agem           4.449      0.910   4.889  0.00048 ***\n",
       "---\n",
       "Signif. codes:  0 '***' 0.001 '**' 0.01 '*' 0.05 '.' 0.1 ' ' 1\n",
       "\n",
       "Residual standard error: 63.52 on 11 degrees of freedom\n",
       "Multiple R-squared:  0.6848,\tAdjusted R-squared:  0.6562 \n",
       "F-statistic:  23.9 on 1 and 11 DF,  p-value: 0.0004801\n"
      ]
     },
     "metadata": {},
     "output_type": "display_data"
    },
    {
     "data": {
      "text/plain": [
       "\n",
       "Call:\n",
       "lm(formula = timesm ~ agem + agemsq, data = marathon)\n",
       "\n",
       "Residuals:\n",
       "    Min      1Q  Median      3Q     Max \n",
       "-47.811 -15.503   5.468  19.742  40.354 \n",
       "\n",
       "Coefficients:\n",
       "             Estimate Std. Error t value Pr(>|t|)    \n",
       "(Intercept) 498.57207   98.79145   5.047 0.000502 ***\n",
       "agem        -14.89307    3.13305  -4.754 0.000776 ***\n",
       "agemsq        0.14557    0.02335   6.233 9.72e-05 ***\n",
       "---\n",
       "Signif. codes:  0 '***' 0.001 '**' 0.01 '*' 0.05 '.' 0.1 ' ' 1\n",
       "\n",
       "Residual standard error: 30.14 on 10 degrees of freedom\n",
       "Multiple R-squared:  0.9355,\tAdjusted R-squared:  0.9226 \n",
       "F-statistic: 72.49 on 2 and 10 DF,  p-value: 1.118e-06\n"
      ]
     },
     "metadata": {},
     "output_type": "display_data"
    }
   ],
   "source": [
    "lin1 <- lm(timesm~agem,data=marathon)\n",
    "lin2 <- lm(timesm~agem+agemsq,data=marathon)\n",
    "summary(lin1)\n",
    "\n",
    "summary(lin2)"
   ]
  },
  {
   "cell_type": "markdown",
   "metadata": {},
   "source": [
    "Based on the summary, it appears that the quadratic term is quite important, it increases the R-squared significantly. So there does appear to be a quadratic effect of age on the time (or at the very least, a non-linear one).\n"
   ]
  },
  {
   "cell_type": "code",
   "execution_count": 3,
   "metadata": {
    "autoscroll": false
   },
   "outputs": [
    {
     "data": {
      "text/plain": [
       "\n",
       "Call:\n",
       "lm(formula = time ~ age + gender)\n",
       "\n",
       "Residuals:\n",
       "   Min     1Q Median     3Q    Max \n",
       "-74.18 -42.85 -14.10  26.96 181.20 \n",
       "\n",
       "Coefficients:\n",
       "             Estimate Std. Error t value Pr(>|t|)    \n",
       "(Intercept) -104.3254    48.9768  -2.130   0.0446 *  \n",
       "age            4.6801     0.6979   6.706 9.68e-07 ***\n",
       "gender        35.0534    25.7576   1.361   0.1873    \n",
       "---\n",
       "Signif. codes:  0 '***' 0.001 '**' 0.01 '*' 0.05 '.' 0.1 ' ' 1\n",
       "\n",
       "Residual standard error: 64.15 on 22 degrees of freedom\n",
       "Multiple R-squared:  0.6749,\tAdjusted R-squared:  0.6454 \n",
       "F-statistic: 22.84 on 2 and 22 DF,  p-value: 4.285e-06\n"
      ]
     },
     "metadata": {},
     "output_type": "display_data"
    }
   ],
   "source": [
    "lin3 <- lm(time~age+gender)\n",
    "summary(lin3)"
   ]
  },
  {
   "cell_type": "markdown",
   "metadata": {},
   "source": [
    "Here, the model shows that gender has some part in determining the time (in seconds) of completion, but it is not significant. If the coefficient is correct, it means that, holding age constant, a man will have 35.0534 faster time (or a woman will take 35.0534 additional seconds) to finish the race.\n",
    "\n",
    "Comparing the intercepts in the models shows a pretty large difference in the predictions. The reason why the male-only intercept is different from the intercept in the second model is because the second model is not considering the interaction of age and gender. When you account for this in the model, the intercepts will be the same. The gender coefficient in the model assumes that you are holding everything else constant, that is, the difference between a 35 year old male and female, for instance. When you consider the interaction term as well, this problem is eliminated.\n",
    "\n",
    "# Using a gamma distribution on response\n"
   ]
  },
  {
   "cell_type": "code",
   "execution_count": 4,
   "metadata": {
    "autoscroll": false
   },
   "outputs": [
    {
     "data": {
      "text/plain": [
       "\n",
       "Call:\n",
       "glm(formula = timesm ~ agem, family = \"Gamma\")\n",
       "\n",
       "Deviance Residuals: \n",
       "      Min         1Q     Median         3Q        Max  \n",
       "-0.169540  -0.067254   0.001897   0.092610   0.116811  \n",
       "\n",
       "Coefficients:\n",
       "              Estimate Std. Error t value Pr(>|t|)    \n",
       "(Intercept)  1.275e-02  5.748e-04   22.17 1.76e-10 ***\n",
       "agem        -1.057e-04  6.839e-06  -15.46 8.30e-09 ***\n",
       "---\n",
       "Signif. codes:  0 '***' 0.001 '**' 0.01 '*' 0.05 '.' 0.1 ' ' 1\n",
       "\n",
       "(Dispersion parameter for Gamma family taken to be 0.009790868)\n",
       "\n",
       "    Null deviance: 2.42365  on 12  degrees of freedom\n",
       "Residual deviance: 0.10997  on 11  degrees of freedom\n",
       "AIC: 116.42\n",
       "\n",
       "Number of Fisher Scoring iterations: 4\n"
      ]
     },
     "metadata": {},
     "output_type": "display_data"
    }
   ],
   "source": [
    "gammalin1 <- glm(timesm~agem,family=\"Gamma\")\n",
    "summary(gammalin1)"
   ]
  },
  {
   "cell_type": "markdown",
   "metadata": {},
   "source": [
    "The link function here is the canonical link function for the Gamma distribution, which is the inverse (1/$\\mu$). All variables come up as significant.\n",
    "\n",
    "\n",
    "The model can be written as follows\n",
    "\t$Y = X\\beta + \\epsilon$ where Y follows a Gamma distribution with link function g(E(Y)) = 1/$\\mu$\n",
    " \n",
    "# Inverse-Gaussian distribution\n",
    "\n",
    "The exponential family has the following form:\n",
    "$$\n",
    "f(y,\\theta ,\\phi ) = e^{\\frac{y \\theta - b(\\theta )}{a(\\phi )} + c(y, \\phi)}\n",
    "$$\n",
    "The inverse-Gaussian distribution is defined as:\n",
    "$$\n",
    "f(y) = \\exp (-\\frac{\\lambda (y - \\mu )^2)}{2\\mu ^2y} - \\frac{1}{2} \\log (\\frac{2\\pi y^3}{\\lambda}))\n",
    "$$\n",
    "$$\n",
    "f(y) = \\exp (-\\frac{\\lambda (y^2 - 2y\\mu + \\mu ^2)}{2\\mu ^2y} - \\frac{1}{2} \\log (\\frac{2\\pi y^3}{\\lambda}))\n",
    "$$\n",
    "$$\n",
    "f(y) = \\exp (\\lambda [-\\frac{y}{2\\mu ^2} + \\frac{1}{\\mu}] - \\frac{\\lambda }{2y} - \\frac {1}{2}\\log(\\frac {2\\pi y^3}{\\lambda}))\n",
    "$$\n",
    "$$\n",
    "f(y) = \\exp (\\frac {[-\\frac{y}{2\\mu ^2} + \\frac{1}{\\mu}]}{\\frac {1}{\\lambda}} - \\frac{\\lambda }{2y} - \\frac {1}{2}\\log(\\frac {2\\pi y^3}{\\lambda}))\n",
    "$$\n",
    "\n",
    "This is in the exponential form, that is, $$\\theta = - \\frac {1} {2 \\mu ^2}$$ \n",
    "$$a(\\phi) = \\frac {1}{\\lambda} = { \\phi}$$ \n",
    "$$b(\\theta) = - \\frac {1}{\\mu} = -\\sqrt{2 \\theta}$$\n",
    "$$c(y,\\theta) = - \\frac{\\lambda}{2y} - \\frac{1}{2}\\log(\\frac{2\\pi y^3}{\\lambda}) = - \\frac{1}{y\\phi} - \\frac{1}{2}\\log(2\\pi \\phi y^3)$$\n",
    "\n",
    "$b'(\\theta) = {\\sqrt {\\frac{2}{\\theta }}} = \\mu$   , which is $\\text{E}(Y)$. The canonical link function is $g(\\text{E}(Y))$ = $\\theta$. So, the canonical link is proportional to  $\\frac {1}{\\mu ^2}$, which is equivalent to $X\\beta$. The model is then\n",
    "$Y = X\\beta + \\epsilon$ where Y follows a inverse Gaussian distribution with link function $g(\\text{E}(Y))$ = 1/$\\mu ^2$\n",
    "\n"
   ]
  },
  {
   "cell_type": "code",
   "execution_count": 5,
   "metadata": {
    "autoscroll": false
   },
   "outputs": [
    {
     "data": {
      "text/plain": [
       "\n",
       "Call:\n",
       "glm(formula = timesm ~ agem, family = \"inverse.gaussian\")\n",
       "\n",
       "Deviance Residuals: \n",
       "       Min          1Q      Median          3Q         Max  \n",
       "-0.0048497  -0.0023005  -0.0000681   0.0005923   0.0123111  \n",
       "\n",
       "Coefficients:\n",
       "              Estimate Std. Error t value Pr(>|t|)    \n",
       "(Intercept)  9.958e-05  3.892e-06   25.59 3.75e-11 ***\n",
       "agem        -9.617e-07  4.179e-08  -23.01 1.18e-10 ***\n",
       "---\n",
       "Signif. codes:  0 '***' 0.001 '**' 0.01 '*' 0.05 '.' 0.1 ' ' 1\n",
       "\n",
       "(Dispersion parameter for inverse.gaussian family taken to be 2.180685e-05)\n",
       "\n",
       "    Null deviance: 0.01111018  on 12  degrees of freedom\n",
       "Residual deviance: 0.00020857  on 11  degrees of freedom\n",
       "AIC: 102.69\n",
       "\n",
       "Number of Fisher Scoring iterations: 4\n"
      ]
     },
     "metadata": {},
     "output_type": "display_data"
    }
   ],
   "source": [
    "invgauslin1  <-  glm(timesm~agem,family=\"inverse.gaussian\")\n",
    "summary(invgauslin1)"
   ]
  },
  {
   "cell_type": "markdown",
   "metadata": {},
   "source": [
    "Both are quite difficult to interpret by themselves, as the response variables are transformed via the link function. The predictions for the gamma are as follows:\n"
   ]
  },
  {
   "cell_type": "code",
   "execution_count": 6,
   "metadata": {
    "autoscroll": false
   },
   "outputs": [
    {
     "data": {
      "text/html": [
       "<dl class=dl-horizontal>\n",
       "\t<dt>1</dt>\n",
       "\t\t<dd>0.00904503120484234</dd>\n",
       "\t<dt>2</dt>\n",
       "\t\t<dd>0.00851640593952094</dd>\n",
       "\t<dt>3</dt>\n",
       "\t\t<dd>0.00798778067419954</dd>\n",
       "\t<dt>4</dt>\n",
       "\t\t<dd>0.00745915540887814</dd>\n",
       "\t<dt>5</dt>\n",
       "\t\t<dd>0.00693053014355673</dd>\n",
       "\t<dt>6</dt>\n",
       "\t\t<dd>0.00640190487823533</dd>\n",
       "\t<dt>7</dt>\n",
       "\t\t<dd>0.00587327961291393</dd>\n",
       "\t<dt>8</dt>\n",
       "\t\t<dd>0.00534465434759253</dd>\n",
       "\t<dt>9</dt>\n",
       "\t\t<dd>0.00481602908227112</dd>\n",
       "\t<dt>10</dt>\n",
       "\t\t<dd>0.00428740381694972</dd>\n",
       "\t<dt>11</dt>\n",
       "\t\t<dd>0.00375877855162832</dd>\n",
       "\t<dt>12</dt>\n",
       "\t\t<dd>0.00323015328630692</dd>\n",
       "\t<dt>13</dt>\n",
       "\t\t<dd>0.00217290275566411</dd>\n",
       "</dl>\n"
      ],
      "text/latex": [
       "\\begin{description*}\n",
       "\\item[1] 0.00904503120484234\n",
       "\\item[2] 0.00851640593952094\n",
       "\\item[3] 0.00798778067419954\n",
       "\\item[4] 0.00745915540887814\n",
       "\\item[5] 0.00693053014355673\n",
       "\\item[6] 0.00640190487823533\n",
       "\\item[7] 0.00587327961291393\n",
       "\\item[8] 0.00534465434759253\n",
       "\\item[9] 0.00481602908227112\n",
       "\\item[10] 0.00428740381694972\n",
       "\\item[11] 0.00375877855162832\n",
       "\\item[12] 0.00323015328630692\n",
       "\\item[13] 0.00217290275566411\n",
       "\\end{description*}\n"
      ],
      "text/markdown": [
       "1\n",
       ":   0.009045031204842342\n",
       ":   0.008516405939520943\n",
       ":   0.007987780674199544\n",
       ":   0.007459155408878145\n",
       ":   0.006930530143556736\n",
       ":   0.006401904878235337\n",
       ":   0.005873279612913938\n",
       ":   0.005344654347592539\n",
       ":   0.0048160290822711210\n",
       ":   0.0042874038169497211\n",
       ":   0.0037587785516283212\n",
       ":   0.0032301532863069213\n",
       ":   0.00217290275566411\n",
       "\n"
      ],
      "text/plain": [
       "          1           2           3           4           5           6 \n",
       "0.009045031 0.008516406 0.007987781 0.007459155 0.006930530 0.006401905 \n",
       "          7           8           9          10          11          12 \n",
       "0.005873280 0.005344654 0.004816029 0.004287404 0.003758779 0.003230153 \n",
       "         13 \n",
       "0.002172903 "
      ]
     },
     "metadata": {},
     "output_type": "display_data"
    },
    {
     "data": {
      "text/html": [
       "6398.61022699515"
      ],
      "text/latex": [
       "6398.61022699515"
      ],
      "text/markdown": [
       "6398.61022699515"
      ],
      "text/plain": [
       "[1] 6398.61"
      ]
     },
     "metadata": {},
     "output_type": "display_data"
    },
    {
     "data": {
      "text/html": [
       "59423.3823177025"
      ],
      "text/latex": [
       "59423.3823177025"
      ],
      "text/markdown": [
       "59423.3823177025"
      ],
      "text/plain": [
       "[1] 59423.38"
      ]
     },
     "metadata": {},
     "output_type": "display_data"
    },
    {
     "data": {
      "text/html": [
       "44389.3243635469"
      ],
      "text/latex": [
       "44389.3243635469"
      ],
      "text/markdown": [
       "44389.3243635469"
      ],
      "text/plain": [
       "[1] 44389.32"
      ]
     },
     "metadata": {},
     "output_type": "display_data"
    },
    {
     "data": {
      "text/html": [
       "9086.8812639335"
      ],
      "text/latex": [
       "9086.8812639335"
      ],
      "text/markdown": [
       "9086.8812639335"
      ],
      "text/plain": [
       "[1] 9086.881"
      ]
     },
     "metadata": {},
     "output_type": "display_data"
    }
   ],
   "source": [
    "predict(gammalin1)\n",
    "\n",
    "pred1 <- 1/predict(gammalin1)\n",
    "pred2 <- 1/((2*predict(invgauslin1)))^.5\n",
    "pred3 <- predict(lin1)\n",
    "\n",
    "sum((pred1-timesm)^2)\n",
    "\n",
    "sum((pred2-timesm)^2)\n",
    "sum((pred3-timesm)^2)\n",
    "sum((predict(lin2)-timesm)^2)"
   ]
  },
  {
   "cell_type": "markdown",
   "metadata": {},
   "source": [
    "Here, we can see the sum squared error of the transformed predictions from the models. We can see that the model using the gamma distribution does an exceptional job at predicting the response variable, time. It is better than both the linear and quadratic simple linear regression models. The inverse-gaussian, however, fails to predict the response as well as the others.\n",
    "\n",
    "Below, I do the same thing, except using the identity function. This produces more easily interpretable coefficients, but they are less efficient at predicting the model. That is, when we take the sum of squares, the identity links are less successful at determining the response.\n",
    "\n"
   ]
  },
  {
   "cell_type": "code",
   "execution_count": 7,
   "metadata": {
    "autoscroll": false
   },
   "outputs": [
    {
     "data": {
      "text/plain": [
       "\n",
       "Call:\n",
       "glm(formula = timesm ~ agem, family = Gamma(link = \"identity\"))\n",
       "\n",
       "Deviance Residuals: \n",
       "     Min        1Q    Median        3Q       Max  \n",
       "-0.21209  -0.18853  -0.09241   0.08858   0.54268  \n",
       "\n",
       "Coefficients:\n",
       "            Estimate Std. Error t value Pr(>|t|)    \n",
       "(Intercept)  -8.3100    38.5463  -0.216 0.833256    \n",
       "agem          3.1548     0.6898   4.574 0.000799 ***\n",
       "---\n",
       "Signif. codes:  0 '***' 0.001 '**' 0.01 '*' 0.05 '.' 0.1 ' ' 1\n",
       "\n",
       "(Dispersion parameter for Gamma family taken to be 0.06523248)\n",
       "\n",
       "    Null deviance: 2.42365  on 12  degrees of freedom\n",
       "Residual deviance: 0.60806  on 11  degrees of freedom\n",
       "AIC: 138.73\n",
       "\n",
       "Number of Fisher Scoring iterations: 9\n"
      ]
     },
     "metadata": {},
     "output_type": "display_data"
    },
    {
     "data": {
      "text/plain": [
       "\n",
       "Call:\n",
       "glm(formula = timesm ~ agem, family = inverse.gaussian(link = identity))\n",
       "\n",
       "Deviance Residuals: \n",
       "      Min         1Q     Median         3Q        Max  \n",
       "-0.012827  -0.011721  -0.006183   0.004403   0.032956  \n",
       "\n",
       "Coefficients:\n",
       "            Estimate Std. Error t value Pr(>|t|)    \n",
       "(Intercept)  10.6841    32.6336   0.327 0.749516    \n",
       "agem          2.7958     0.6252   4.472 0.000944 ***\n",
       "---\n",
       "Signif. codes:  0 '***' 0.001 '**' 0.01 '*' 0.05 '.' 0.1 ' ' 1\n",
       "\n",
       "(Dispersion parameter for inverse.gaussian family taken to be 0.000289055)\n",
       "\n",
       "    Null deviance: 0.0111102  on 12  degrees of freedom\n",
       "Residual deviance: 0.0024039  on 11  degrees of freedom\n",
       "AIC: 134.47\n",
       "\n",
       "Number of Fisher Scoring iterations: 10\n"
      ]
     },
     "metadata": {},
     "output_type": "display_data"
    },
    {
     "data": {
      "text/html": [
       "<dl class=dl-horizontal>\n",
       "\t<dt>1</dt>\n",
       "\t\t<dd>102.10716967927</dd>\n",
       "\t<dt>2</dt>\n",
       "\t\t<dd>117.881054509177</dd>\n",
       "\t<dt>3</dt>\n",
       "\t\t<dd>133.654939339083</dd>\n",
       "\t<dt>4</dt>\n",
       "\t\t<dd>149.428824168989</dd>\n",
       "\t<dt>5</dt>\n",
       "\t\t<dd>165.202708998895</dd>\n",
       "\t<dt>6</dt>\n",
       "\t\t<dd>180.976593828801</dd>\n",
       "\t<dt>7</dt>\n",
       "\t\t<dd>196.750478658707</dd>\n",
       "\t<dt>8</dt>\n",
       "\t\t<dd>212.524363488613</dd>\n",
       "\t<dt>9</dt>\n",
       "\t\t<dd>228.29824831852</dd>\n",
       "\t<dt>10</dt>\n",
       "\t\t<dd>244.072133148426</dd>\n",
       "\t<dt>11</dt>\n",
       "\t\t<dd>259.846017978332</dd>\n",
       "\t<dt>12</dt>\n",
       "\t\t<dd>275.619902808238</dd>\n",
       "\t<dt>13</dt>\n",
       "\t\t<dd>307.16767246805</dd>\n",
       "</dl>\n"
      ],
      "text/latex": [
       "\\begin{description*}\n",
       "\\item[1] 102.10716967927\n",
       "\\item[2] 117.881054509177\n",
       "\\item[3] 133.654939339083\n",
       "\\item[4] 149.428824168989\n",
       "\\item[5] 165.202708998895\n",
       "\\item[6] 180.976593828801\n",
       "\\item[7] 196.750478658707\n",
       "\\item[8] 212.524363488613\n",
       "\\item[9] 228.29824831852\n",
       "\\item[10] 244.072133148426\n",
       "\\item[11] 259.846017978332\n",
       "\\item[12] 275.619902808238\n",
       "\\item[13] 307.16767246805\n",
       "\\end{description*}\n"
      ],
      "text/markdown": [
       "1\n",
       ":   102.107169679272\n",
       ":   117.8810545091773\n",
       ":   133.6549393390834\n",
       ":   149.4288241689895\n",
       ":   165.2027089988956\n",
       ":   180.9765938288017\n",
       ":   196.7504786587078\n",
       ":   212.5243634886139\n",
       ":   228.2982483185210\n",
       ":   244.07213314842611\n",
       ":   259.84601797833212\n",
       ":   275.61990280823813\n",
       ":   307.16767246805\n",
       "\n"
      ],
      "text/plain": [
       "       1        2        3        4        5        6        7        8 \n",
       "102.1072 117.8811 133.6549 149.4288 165.2027 180.9766 196.7505 212.5244 \n",
       "       9       10       11       12       13 \n",
       "228.2982 244.0721 259.8460 275.6199 307.1677 "
      ]
     },
     "metadata": {},
     "output_type": "display_data"
    },
    {
     "data": {
      "text/html": [
       "<dl class=dl-horizontal>\n",
       "\t<dt>1</dt>\n",
       "\t\t<dd>108.535713328251</dd>\n",
       "\t<dt>2</dt>\n",
       "\t\t<dd>122.514520425568</dd>\n",
       "\t<dt>3</dt>\n",
       "\t\t<dd>136.493327522885</dd>\n",
       "\t<dt>4</dt>\n",
       "\t\t<dd>150.472134620202</dd>\n",
       "\t<dt>5</dt>\n",
       "\t\t<dd>164.450941717519</dd>\n",
       "\t<dt>6</dt>\n",
       "\t\t<dd>178.429748814837</dd>\n",
       "\t<dt>7</dt>\n",
       "\t\t<dd>192.408555912154</dd>\n",
       "\t<dt>8</dt>\n",
       "\t\t<dd>206.387363009471</dd>\n",
       "\t<dt>9</dt>\n",
       "\t\t<dd>220.366170106788</dd>\n",
       "\t<dt>10</dt>\n",
       "\t\t<dd>234.344977204105</dd>\n",
       "\t<dt>11</dt>\n",
       "\t\t<dd>248.323784301422</dd>\n",
       "\t<dt>12</dt>\n",
       "\t\t<dd>262.302591398739</dd>\n",
       "\t<dt>13</dt>\n",
       "\t\t<dd>290.260205593373</dd>\n",
       "</dl>\n"
      ],
      "text/latex": [
       "\\begin{description*}\n",
       "\\item[1] 108.535713328251\n",
       "\\item[2] 122.514520425568\n",
       "\\item[3] 136.493327522885\n",
       "\\item[4] 150.472134620202\n",
       "\\item[5] 164.450941717519\n",
       "\\item[6] 178.429748814837\n",
       "\\item[7] 192.408555912154\n",
       "\\item[8] 206.387363009471\n",
       "\\item[9] 220.366170106788\n",
       "\\item[10] 234.344977204105\n",
       "\\item[11] 248.323784301422\n",
       "\\item[12] 262.302591398739\n",
       "\\item[13] 290.260205593373\n",
       "\\end{description*}\n"
      ],
      "text/markdown": [
       "1\n",
       ":   108.5357133282512\n",
       ":   122.5145204255683\n",
       ":   136.4933275228854\n",
       ":   150.4721346202025\n",
       ":   164.4509417175196\n",
       ":   178.4297488148377\n",
       ":   192.4085559121548\n",
       ":   206.3873630094719\n",
       ":   220.36617010678810\n",
       ":   234.34497720410511\n",
       ":   248.32378430142212\n",
       ":   262.30259139873913\n",
       ":   290.260205593373\n",
       "\n"
      ],
      "text/plain": [
       "       1        2        3        4        5        6        7        8 \n",
       "108.5357 122.5145 136.4933 150.4721 164.4509 178.4297 192.4086 206.3874 \n",
       "       9       10       11       12       13 \n",
       "220.3662 234.3450 248.3238 262.3026 290.2602 "
      ]
     },
     "metadata": {},
     "output_type": "display_data"
    },
    {
     "data": {
      "text/html": [
       "52728.0806590427"
      ],
      "text/latex": [
       "52728.0806590427"
      ],
      "text/markdown": [
       "52728.0806590427"
      ],
      "text/plain": [
       "[1] 52728.08"
      ]
     },
     "metadata": {},
     "output_type": "display_data"
    },
    {
     "data": {
      "text/html": [
       "58577.3835961494"
      ],
      "text/latex": [
       "58577.3835961494"
      ],
      "text/markdown": [
       "58577.3835961494"
      ],
      "text/plain": [
       "[1] 58577.38"
      ]
     },
     "metadata": {},
     "output_type": "display_data"
    }
   ],
   "source": [
    "gammalin2 <- glm(timesm~agem,family=\"Gamma\"(link=\"identity\"))\n",
    "summary(gammalin2)\n",
    "\n",
    "invgauslin2 <- glm(timesm~agem,family=\"inverse.gaussian\"(link=identity))\n",
    "summary(invgauslin2)\n",
    "predict(gammalin2)\n",
    "\n",
    "predict(invgauslin2)\n",
    "\n",
    "sum((predict(gammalin2)-timesm)^2)\n",
    "\n",
    "sum((predict(invgauslin2)-timesm)^2)"
   ]
  }
 ],
 "metadata": {
  "Rmd_header": {
   "author": "Sean Ammirati",
   "date": "August 5, 2018",
   "output": "html_document",
   "title": "GLM: Marathon Dataset"
  },
  "kernelspec": {
   "display_name": "R",
   "language": "R",
   "name": "ir"
  },
  "language_info": {
   "codemirror_mode": "r",
   "file_extension": ".r",
   "mimetype": "text/x-r-source",
   "name": "R",
   "pygments_lexer": "r",
   "version": "3.4.3"
  }
 },
 "nbformat": 4,
 "nbformat_minor": 1
}
