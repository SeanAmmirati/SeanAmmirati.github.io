{
 "cells": [
  {
   "cell_type": "markdown",
   "metadata": {
    "variables": {
     "- y}_{1": {},
     "\\mathbf{X}^{\\mathbf{*": {},
     "\\widehat{\\mathbf{\\alpha": "<p><strong>ERROR</strong>: Error in parse(text = x, srcfile = src): <text>:1:1: unexpected input\n1: \\\n    ^</p>\n"
    }
   },
   "source": [
    "**An Approach to Solving Heteroskedacity when the Variance is a Multiplicative Constant**\n",
    "\n",
    "One of the most widely known assumptions of linear regression is **homoskedacity**, that is that the variance of the errors are constant for all of the values (they do not depend on the particular observation). Weighted least squares is a way of dealing with this problem. We will detail the intuition and reasoning behind why this is the case. \n",
    "\n",
    "Consider a scale that measures two objects. For each object, we have\n",
    "some randomized error. Consider the weights of two objects, first alone\n",
    "and then together.\n",
    "\n",
    "That is, consider the following model:\n",
    "\n",
    "$$\n",
    "y_{1} = \\alpha_{1} + \\varepsilon_{1}\n",
    "$$\n",
    "$$\n",
    "y_{2} = \\alpha_{2} + \\varepsilon_{2}\n",
    "$$\n",
    "$$\n",
    "y_{3} = \\alpha_{1} + \\alpha_{2}\\  + \\ \\varepsilon_{3}\n",
    "$$\n",
    "\n",
    "This is like a regression model, in that we can solve for the alphas\n",
    "(the true weights) by the method of least squares.\n",
    "\n",
    "$${\\mathbf{y = X\\alpha + \\ \\varepsilon}\n",
    "}\n",
    "$$\n",
    "\n",
    "$$\\mathbf{X}^{\\mathbf{T}}\\mathbf{X} = \\begin{bmatrix}\n",
    "2 & 1 \\\\\n",
    "1 & 2 \\\\\n",
    "\\end{bmatrix}$$\n",
    "\n",
    "$$\n",
    "{(\\mathbf{X}^{\\mathbf{T}}\\mathbf{X)}}^{- 1} = \\frac{1}{3} \n",
    "\\begin{bmatrix}\n",
    "2 & - 1 \\\\\n",
    "-1 & 2 \\\\\n",
    "\\end{bmatrix}\n",
    "$$\n",
    "\n",
    "$$\n",
    "{(\\mathbf{X}^{\\mathbf{T}}\\mathbf{X)})}^{- 1}\\mathbf{X}^{\\mathbf{T}}=\\frac{1}{3}\n",
    "\\begin{bmatrix}\n",
    "2 & -1 & 1 \\\\\n",
    "-1 & 2 & 1 \\\\\n",
    "\\end{bmatrix}\n",
    "$$\n",
    "\n",
    "$$\n",
    "\\widehat{\\mathbf{\\alpha}} = \\frac{1}{3}\\begin{bmatrix}\n",
    "2y_{1} - y_{2} + y_{3} \\\\\n",
    "-y_{1} + 2y_{2} + y_{3} \\\\\n",
    "\\end{bmatrix}\n",
    "$$\n",
    "\n",
    "Now consider that the random element is not equally variant for the two\n",
    "objects -- that is, that for both weights combined there is some\n",
    "multiplicative factor on the error $> 1$. That is, \n",
    "$$\n",
    "\\begin{bmatrix}\n",
    "\\varepsilon_{1} \\\\\n",
    "\\varepsilon_{2} \\\\\n",
    "\\varepsilon_{3} \\\\\n",
    "\\end{bmatrix} =\n",
    "\\mathbf{MVN}(0, \\Sigma) \\quad \\text{where } \\Sigma = \\begin{bmatrix}\n",
    "\\sigma^{2} & 0 & 0 \\\\\n",
    "0 & \\sigma^{2} & 0 \\\\\n",
    "0 & 0 & {k^{2}\\sigma}^{2} \\\\\n",
    "\\end{bmatrix}\n",
    "$$\n",
    "\n",
    "Note that this violates the least squares\n",
    "assumptions. One method to fix this issue is to transform the variables\n",
    "so they have equal variance, since $k$ is a numeric value $> 0$.\n",
    "\n",
    "Note that we can transform the third variable as follows:\n",
    "\n",
    "$$\\frac{y_{3}}{k} = \\frac{\\alpha_{1}}{k} + \\frac{\\alpha_{2}}{k}\\  + \\ \\frac{\\varepsilon_{3}}{k}$$\n",
    "\n",
    "Now, $\\frac{\\varepsilon_{3}}{k}$ has variance $\\sigma^{2}$.\n",
    "\n",
    "Let \n",
    "$$\\mathbf{y}^{\\mathbf{*}} = \\begin{bmatrix}\n",
    "y_{1} \\\\\n",
    "y_{2} \\\\\n",
    "y_{3}/k \\\\\n",
    "\\end{bmatrix} $$ \n",
    "\n",
    "$$\n",
    "\\mathbf{X}^{\\mathbf{*}} = \\begin{bmatrix}\n",
    "1 & 0 \\\\\n",
    "0 & 1 \\\\\n",
    "1/k & 1/k \\\\\n",
    "\\end{bmatrix}\n",
    "$$\n",
    "$$\n",
    "\\mathbf{\\alpha}^{\\mathbf{*}} = \\begin{bmatrix}\n",
    "\\alpha_{1} \\\\\n",
    "\\alpha_{2} \\\\\n",
    "\\end{bmatrix}\n",
    "$$\n",
    "$$\n",
    "\\mathbf{\\varepsilon}^{\\mathbf{*}} = \\begin{bmatrix}\n",
    "\\varepsilon_{1} \\\\\n",
    "\\varepsilon_{2} \\\\\n",
    "\\varepsilon_{3}/k \\\\\n",
    "\\end{bmatrix}\n",
    "$$\n",
    "\n",
    "Then we can solve as in the case of OLS: \n",
    "\n",
    "$${{\\widehat{\\mathbf{\\alpha}}}^{*} = \\left( {\\mathbf{X}^{\\mathbf{*}}}^{\\mathbf{T}}\\mathbf{X}^{\\mathbf{*}} \\right)^{- 1}{\\mathbf{X}^{\\mathbf{*}}}^{\\mathbf{T}}\\mathbf{y}^{\\mathbf{*}}\n",
    "}{{\\mathbf{X}^{\\mathbf{*}}}^{\\mathbf{T}}\\mathbf{X}^{\\mathbf{*}}\\mathbf{= \\ }\\begin{bmatrix}\n",
    "\\frac{k^{2} + 1}{k^{2}} & \\frac{1}{k^{2}} \\\\\n",
    "\\frac{1}{k^{2}} & \\frac{k^{2} + 1}{k^{2}} \\\\\n",
    "\\end{bmatrix}}$$\n",
    "\n",
    "$$\\left( {\\mathbf{X}^{\\mathbf{*}}}^{\\mathbf{T}}\\mathbf{X}^{\\mathbf{*}} \\right)^{- 1} = \\frac{k^{4}}{k^{4} + 2k^{2}}\\ \\begin{bmatrix}\n",
    "\\frac{k^{2} + 1}{k^{2}} & \\frac{- 1}{k^{2}} \\\\\n",
    "\\frac{- 1}{k^{2}} & \\frac{k^{2} + 1}{k^{2}} \\\\\n",
    "\\end{bmatrix}$$\n",
    "\n",
    "$$\\left( {\\mathbf{X}^{\\mathbf{*}}}^{\\mathbf{T}}\\mathbf{X}^{\\mathbf{*}} \\right)^{- 1}{\\mathbf{X}^{\\mathbf{*}}}^{\\mathbf{T}}\\mathbf{=}\\frac{k^{4}}{k^{4} + 2k^{2}}\\begin{bmatrix}\n",
    "\\frac{k^{2} + 1}{k^{2}} & \\frac{- 1}{k^{2}} & \\frac{1}{k} \\\\\n",
    "\\frac{- 1}{k^{2}} & \\frac{k^{2} + 1}{k^{2}} & \\frac{1}{k} \\\\\n",
    "\\end{bmatrix}$$\n",
    "\n",
    "$${\\widehat{\\mathbf{\\alpha}}}^{*}\\mathbf{=}\\frac{k^{4}}{k^{4} + 2k^{2}}\\mathbf{\\ }\\begin{bmatrix}\n",
    "\\frac{k^{2} + 1}{k^{2}}y_{1} - \\frac{y_{2}}{k^{2}} + \\frac{y_{3}}{k^{2}} \\\\\n",
    "\\frac{{- y}_{1}}{k^{2}} + \\frac{k^{2} + 1}{k^{2}}y_{2} + \\frac{y_{3}}{k^{2}} \\\\\n",
    "\\end{bmatrix}$$\n",
    "\n",
    "$${\\widehat{\\mathbf{\\alpha}}}^{*}\\mathbf{=}\\frac{k^{2}}{k^{4} + 2k^{2}}\\mathbf{\\ }\\begin{bmatrix}\n",
    "\\mathbf{(}k^{2} + 1)y_{1} - y_{2} + y_{3} \\\\\n",
    "\\mathbf{-}y_{1}\\mathbf{+ (}k^{2} + 1)y_{2} + y_{3} \\\\\n",
    "\\end{bmatrix}$$\n",
    "\n",
    "However, this is not a general solution. Consider instead the following:\n",
    "\n",
    "$$\\begin{bmatrix}\n",
    "\\varepsilon_{1} \\\\\n",
    "\\varepsilon_{2} \\\\\n",
    "\\varepsilon_{3} \\\\\n",
    "\\end{bmatrix}\\mathbf{\\ \\sim\\ MVN(0, \\Sigma)\\ \\ } \\quad \\text{where } \\Sigma = \\begin{bmatrix}\n",
    "{a^{2}\\sigma}^{2} & 0 & 0 \\\\\n",
    "0 & b^{2}\\sigma^{2} & 0 \\\\\n",
    "0 & 0 & {c^{2}\\sigma}^{2} \\\\\n",
    "\\end{bmatrix}$$\n",
    "\n",
    "We could attempt to perform the same procedure, that is, divide $y_{1}$\n",
    "by $a^{2}$, $y_{2}$ by $b^{2}$ and so on. However, this is arduous, and\n",
    "it would be convenient to use a matrix of weights to solve this.\n",
    "\n",
    "Let **W** be a matrix of the reciprocals of these constants. Using the\n",
    "same procedure as above, we can express $\\mathbf{y}^{\\mathbf{*}}$ as\n",
    "$\\mathbf{W}^{\\mathbf{1/2}}\\mathbf{\\ }\\mathbf{y}$ and\n",
    "$\\mathbf{X}^{\\mathbf{*}}$ as $\\mathbf{W}^{\\mathbf{1/2}}\\mathbf{X}$\n",
    "Then our result is:\n",
    "\n",
    "$${\\widehat{\\mathbf{\\alpha}}}^{*} = \\left( {\\mathbf{X}^{\\mathbf{*}}}^{\\mathbf{T}}\\mathbf{X}^{\\mathbf{*}} \\right)^{- 1}{\\mathbf{X}^{\\mathbf{*}}}^{\\mathbf{T}}\\mathbf{y}^{\\mathbf{*}}$$\n",
    "\n",
    "$${\\widehat{\\mathbf{\\alpha}}}^{*} = \\left( \\mathbf{X}^{\\mathbf{T}}\\mathbf{\\text{WX}} \\right)^{- 1}\\mathbf{X}^{\\mathbf{T}}\\mathbf{W}\\mathbf{y}^{\\mathbf{*}}$$\n",
    "\n",
    "We can see that if **W** = $\\begin{bmatrix}\n",
    "1 & 0 & 0 \\\\\n",
    "0 & 1 & 0 \\\\\n",
    "0 & 0 & {1/k}^{2} \\\\\n",
    "\\end{bmatrix}\\mathbf{\\ }$ we get the same result as earlier."
   ]
  },
  {
   "cell_type": "markdown",
   "metadata": {},
   "source": [
    "# Code Implementation"
   ]
  },
  {
   "cell_type": "code",
   "execution_count": 3,
   "metadata": {},
   "outputs": [],
   "source": [
    "ols_preds <- function(X, y) { \n",
    "  return(solve(t(X) %*% X) %*% t(X) %*% y)\n",
    "}\n",
    "\n",
    "weighted_ols_preds <- function(X, y, W) {\n",
    "  return(solve(t(X) %*% W %*% X) %*% t(X) %*% W %*% y)\n",
    "}"
   ]
  },
  {
   "cell_type": "code",
   "execution_count": 6,
   "metadata": {},
   "outputs": [
    {
     "data": {
      "text/html": [
       "<table>\n",
       "<tbody>\n",
       "\t<tr><td>42</td></tr>\n",
       "\t<tr><td>54</td></tr>\n",
       "</tbody>\n",
       "</table>\n"
      ],
      "text/latex": [
       "\\begin{tabular}{l}\n",
       "\t 42\\\\\n",
       "\t 54\\\\\n",
       "\\end{tabular}\n"
      ],
      "text/markdown": [
       "\n",
       "| 42 | \n",
       "| 54 | \n",
       "\n",
       "\n"
      ],
      "text/plain": [
       "     [,1]\n",
       "[1,] 42  \n",
       "[2,] 54  "
      ]
     },
     "metadata": {},
     "output_type": "display_data"
    }
   ],
   "source": [
    "y <- c(41,53,97)\n",
    "X <- matrix(c(1,0,1,0,1,1),nrow = 3)\n",
    "alphahat <- solve(t(X) %*% X) %*% t(X)\n",
    "alphahat %*% y"
   ]
  },
  {
   "cell_type": "markdown",
   "metadata": {},
   "source": [
    "This calculates the predictions in the first case."
   ]
  },
  {
   "cell_type": "code",
   "execution_count": 7,
   "metadata": {},
   "outputs": [
    {
     "data": {
      "text/html": [
       "<table>\n",
       "<tbody>\n",
       "\t<tr><td>41.84211</td></tr>\n",
       "\t<tr><td>53.84211</td></tr>\n",
       "</tbody>\n",
       "</table>\n"
      ],
      "text/latex": [
       "\\begin{tabular}{l}\n",
       "\t 41.84211\\\\\n",
       "\t 53.84211\\\\\n",
       "\\end{tabular}\n"
      ],
      "text/markdown": [
       "\n",
       "| 41.84211 | \n",
       "| 53.84211 | \n",
       "\n",
       "\n"
      ],
      "text/plain": [
       "     [,1]    \n",
       "[1,] 41.84211\n",
       "[2,] 53.84211"
      ]
     },
     "metadata": {},
     "output_type": "display_data"
    }
   ],
   "source": [
    "k <- 1.25\n",
    "ystar <- y\n",
    "ystar[3] <- y[3]/k\n",
    "xstar <- matrix(c(1,0,1/k,0,1,1/k),nrow = 3)\n",
    "alphahat <- solve(t(xstar) %*% xstar) %*% t(xstar)\n",
    "alphahat %*% ystar"
   ]
  },
  {
   "cell_type": "markdown",
   "metadata": {},
   "source": [
    "This calculates the predictions in the second case\n",
    "\n",
    "Using the functions we get the same results: "
   ]
  },
  {
   "cell_type": "code",
   "execution_count": 8,
   "metadata": {},
   "outputs": [
    {
     "data": {
      "text/html": [
       "<table>\n",
       "<tbody>\n",
       "\t<tr><td>42</td></tr>\n",
       "\t<tr><td>54</td></tr>\n",
       "</tbody>\n",
       "</table>\n"
      ],
      "text/latex": [
       "\\begin{tabular}{l}\n",
       "\t 42\\\\\n",
       "\t 54\\\\\n",
       "\\end{tabular}\n"
      ],
      "text/markdown": [
       "\n",
       "| 42 | \n",
       "| 54 | \n",
       "\n",
       "\n"
      ],
      "text/plain": [
       "     [,1]\n",
       "[1,] 42  \n",
       "[2,] 54  "
      ]
     },
     "metadata": {},
     "output_type": "display_data"
    },
    {
     "data": {
      "text/html": [
       "<table>\n",
       "<tbody>\n",
       "\t<tr><td>41.84211</td></tr>\n",
       "\t<tr><td>53.84211</td></tr>\n",
       "</tbody>\n",
       "</table>\n"
      ],
      "text/latex": [
       "\\begin{tabular}{l}\n",
       "\t 41.84211\\\\\n",
       "\t 53.84211\\\\\n",
       "\\end{tabular}\n"
      ],
      "text/markdown": [
       "\n",
       "| 41.84211 | \n",
       "| 53.84211 | \n",
       "\n",
       "\n"
      ],
      "text/plain": [
       "     [,1]    \n",
       "[1,] 41.84211\n",
       "[2,] 53.84211"
      ]
     },
     "metadata": {},
     "output_type": "display_data"
    }
   ],
   "source": [
    "ols_preds(X,y)\n",
    "W <- diag(c(rep(1,2), 1/k^2))\n",
    "weighted_ols_preds(X, y, W)"
   ]
  }
 ],
 "metadata": {
  "kernelspec": {
   "display_name": "R",
   "language": "R",
   "name": "ir"
  },
  "language_info": {
   "codemirror_mode": "r",
   "file_extension": ".r",
   "mimetype": "text/x-r-source",
   "name": "R",
   "pygments_lexer": "r",
   "version": "3.4.3"
  },
  "latex_envs": {
   "LaTeX_envs_menu_present": true,
   "autoclose": false,
   "autocomplete": true,
   "bibliofile": "biblio.bib",
   "cite_by": "apalike",
   "current_citInitial": 1,
   "eqLabelWithNumbers": true,
   "eqNumInitial": 1,
   "hotkeys": {
    "equation": "Ctrl-E",
    "itemize": "Ctrl-I"
   },
   "labels_anchors": false,
   "latex_user_defs": false,
   "report_style_numbering": false,
   "user_envs_cfg": false
  },
  "toc": {
   "base_numbering": 1,
   "nav_menu": {},
   "number_sections": true,
   "sideBar": true,
   "skip_h1_title": false,
   "title_cell": "Table of Contents",
   "title_sidebar": "Contents",
   "toc_cell": false,
   "toc_position": {},
   "toc_section_display": true,
   "toc_window_display": false
  },
  "varInspector": {
   "cols": {
    "lenName": 16,
    "lenType": 16,
    "lenVar": 40
   },
   "kernels_config": {
    "python": {
     "delete_cmd_postfix": "",
     "delete_cmd_prefix": "del ",
     "library": "var_list.py",
     "varRefreshCmd": "print(var_dic_list())"
    },
    "r": {
     "delete_cmd_postfix": ") ",
     "delete_cmd_prefix": "rm(",
     "library": "var_list.r",
     "varRefreshCmd": "cat(var_dic_list()) "
    }
   },
   "types_to_exclude": [
    "module",
    "function",
    "builtin_function_or_method",
    "instance",
    "_Feature"
   ],
   "window_display": false
  }
 },
 "nbformat": 4,
 "nbformat_minor": 2
}
